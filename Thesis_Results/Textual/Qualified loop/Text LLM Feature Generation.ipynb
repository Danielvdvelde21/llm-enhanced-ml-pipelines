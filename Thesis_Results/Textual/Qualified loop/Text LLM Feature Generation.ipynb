{
 "cells": [
  {
   "cell_type": "markdown",
   "id": "50b5241f-fe9b-48df-b6b1-6ca664a59599",
   "metadata": {},
   "source": [
    "# Imports"
   ]
  },
  {
   "cell_type": "code",
   "execution_count": 1,
   "id": "05bb2a73-153d-451d-99ac-697475499838",
   "metadata": {},
   "outputs": [],
   "source": [
    "import os\n",
    "import pandas as pd\n",
    "import numpy as np\n",
    "import time\n",
    "from copy import deepcopy\n",
    "\n",
    "from sklearn.model_selection import train_test_split\n",
    "from sklearn.feature_extraction.text import CountVectorizer\n",
    "\n",
    "from sklearn.linear_model import LogisticRegression\n",
    "from sklearn.ensemble import RandomForestClassifier, GradientBoostingClassifier\n",
    "from sklearn.svm import SVC\n",
    "from sklearn.neighbors import KNeighborsClassifier\n",
    "\n",
    "from sklearn.metrics import accuracy_score, precision_score, recall_score, f1_score\n",
    "\n",
    "from tqdm import tqdm\n",
    "\n",
    "import ollama"
   ]
  },
  {
   "cell_type": "code",
   "execution_count": 2,
   "id": "ef16eeab-f327-427d-b5b8-f317983d4c20",
   "metadata": {},
   "outputs": [],
   "source": [
    "# Force CUDA usage\n",
    "os.environ[\"OLLAMA_BACKEND\"] = \"cuda\"\n",
    "os.environ[\"OLLAMA_NUM_THREADS\"] = \"16\""
   ]
  },
  {
   "cell_type": "markdown",
   "id": "5731a0ec-a4f9-4bbf-adeb-17d4c5072ff9",
   "metadata": {},
   "source": [
    "### Parameters"
   ]
  },
  {
   "cell_type": "code",
   "execution_count": 3,
   "id": "97ef190f-20d4-428f-9e03-ea536d500680",
   "metadata": {},
   "outputs": [],
   "source": [
    "# List of models\n",
    "ml_models = [\n",
    "    ('Logistic Regression', LogisticRegression(random_state=42, max_iter=1000)), # 2 sec\n",
    "    ('Random Forest', RandomForestClassifier(random_state=42)), # 2 min\n",
    "    ('SVM', SVC(probability=True, random_state=42)), # 30 min\n",
    "    ('KNN', KNeighborsClassifier()), # 30 sec\n",
    "    ('Gradient Boosting', GradientBoostingClassifier(random_state=42)) # 30 sec\n",
    "]"
   ]
  },
  {
   "cell_type": "code",
   "execution_count": 4,
   "id": "3761f59a-3a86-40af-8212-f69a6cb24662",
   "metadata": {},
   "outputs": [],
   "source": [
    "# LLMs\n",
    "models = ['llama3.2:1b', 'llama3.2:3b', 'gemma3:1b', 'gemma3:4b', 'llama3.1', 'dolphin3', 'mistral', 'deepseek-llm']"
   ]
  },
  {
   "cell_type": "code",
   "execution_count": 5,
   "id": "7115fa55-4512-40a2-81cf-8e90da1ff251",
   "metadata": {},
   "outputs": [],
   "source": [
    "# Vectorize (Bag of words representation)\n",
    "vectorizer = CountVectorizer(stop_words='english', max_features=10000, ngram_range=(1, 2))"
   ]
  },
  {
   "cell_type": "code",
   "execution_count": 6,
   "id": "353a9cc1-174b-4281-a056-96695636d093",
   "metadata": {},
   "outputs": [],
   "source": [
    "# Number of rows that LLM will generate and compare to\n",
    "n_rows = 5000"
   ]
  },
  {
   "cell_type": "code",
   "execution_count": 7,
   "id": "ab286098-ddf4-4db1-9e02-e030af21f7f4",
   "metadata": {},
   "outputs": [],
   "source": [
    "# list of all letters to stop on (LLM should only return number 1 to 10\n",
    "stop_chars = list(\"abcdefghijklmnopqrstuvwxyzABCDEFGHIJKLMNOPQRSTUVWXYZ\")"
   ]
  },
  {
   "cell_type": "markdown",
   "id": "b54bb7ac-e994-4c73-b6e1-604035182e66",
   "metadata": {},
   "source": [
    "# Load data"
   ]
  },
  {
   "cell_type": "code",
   "execution_count": 8,
   "id": "56eb007d-89fb-4404-8464-8b7a6e833bf7",
   "metadata": {},
   "outputs": [
    {
     "data": {
      "text/html": [
       "<div>\n",
       "<style scoped>\n",
       "    .dataframe tbody tr th:only-of-type {\n",
       "        vertical-align: middle;\n",
       "    }\n",
       "\n",
       "    .dataframe tbody tr th {\n",
       "        vertical-align: top;\n",
       "    }\n",
       "\n",
       "    .dataframe thead th {\n",
       "        text-align: right;\n",
       "    }\n",
       "</style>\n",
       "<table border=\"1\" class=\"dataframe\">\n",
       "  <thead>\n",
       "    <tr style=\"text-align: right;\">\n",
       "      <th></th>\n",
       "      <th>review</th>\n",
       "      <th>sentiment</th>\n",
       "    </tr>\n",
       "  </thead>\n",
       "  <tbody>\n",
       "    <tr>\n",
       "      <th>0</th>\n",
       "      <td>One of the other reviewers has mentioned that ...</td>\n",
       "      <td>1</td>\n",
       "    </tr>\n",
       "    <tr>\n",
       "      <th>1</th>\n",
       "      <td>A wonderful little production. \\nThe filming t...</td>\n",
       "      <td>1</td>\n",
       "    </tr>\n",
       "    <tr>\n",
       "      <th>2</th>\n",
       "      <td>I thought this was a wonderful way to spend ti...</td>\n",
       "      <td>1</td>\n",
       "    </tr>\n",
       "    <tr>\n",
       "      <th>3</th>\n",
       "      <td>Basically there's a family where a little boy ...</td>\n",
       "      <td>0</td>\n",
       "    </tr>\n",
       "    <tr>\n",
       "      <th>4</th>\n",
       "      <td>Petter Mattei's \"Love in the Time of Money\" is...</td>\n",
       "      <td>1</td>\n",
       "    </tr>\n",
       "  </tbody>\n",
       "</table>\n",
       "</div>"
      ],
      "text/plain": [
       "                                              review  sentiment\n",
       "0  One of the other reviewers has mentioned that ...          1\n",
       "1  A wonderful little production. \\nThe filming t...          1\n",
       "2  I thought this was a wonderful way to spend ti...          1\n",
       "3  Basically there's a family where a little boy ...          0\n",
       "4  Petter Mattei's \"Love in the Time of Money\" is...          1"
      ]
     },
     "execution_count": 8,
     "metadata": {},
     "output_type": "execute_result"
    }
   ],
   "source": [
    "# Load the CSV file into a pandas DataFrame\n",
    "# We can only make a fair comparison if we partition similar train and test set \n",
    "# train 4000 --> test 1000\n",
    "# train llm features 4000 --> 1000 test \n",
    "df = pd.read_csv('IMB_preprocessed_2025_04_06.csv')[:n_rows] \n",
    "\n",
    "# Display the first 5 records\n",
    "df.head()"
   ]
  },
  {
   "cell_type": "markdown",
   "id": "fc0ac430-5af4-4a83-84ff-ec24c16bea25",
   "metadata": {},
   "source": [
    "# LLM Feature Generation"
   ]
  },
  {
   "cell_type": "markdown",
   "id": "d9491d9f-5ae9-4a8b-9fcf-acd52860ac0c",
   "metadata": {},
   "source": [
    "### Qualitative loop"
   ]
  },
  {
   "cell_type": "code",
   "execution_count": 9,
   "id": "19bb1992-5174-4b91-be38-e46f33d727f3",
   "metadata": {},
   "outputs": [],
   "source": [
    "prompt = '''Analyze this movie review and provide a WHOLE NUMBER rating between 1 and 10 for the \"{metric}\".\n",
    "Return ONLY a single digit, with no other text, symbols, or explanations.\n",
    "\n",
    "Review:\n",
    "{review}'''"
   ]
  },
  {
   "cell_type": "code",
   "execution_count": 10,
   "id": "75dca177-cab7-466b-a485-e6407995a594",
   "metadata": {},
   "outputs": [],
   "source": [
    "# Review metrics\n",
    "metrics = ['plot', 'characters', 'acting & performances', 'cinematography']"
   ]
  },
  {
   "cell_type": "code",
   "execution_count": 14,
   "id": "719de34f-fec8-4380-bd9b-510313c4c343",
   "metadata": {
    "scrolled": true
   },
   "outputs": [
    {
     "name": "stdout",
     "output_type": "stream",
     "text": [
      "Processing Model: dolphin3 (Model 1/3)\n"
     ]
    },
    {
     "name": "stderr",
     "output_type": "stream",
     "text": [
      "Classifying rows:  60%|███████████████████████████████████████████████████████████████████████████████████████████████████████████████████████████████████▊                                                                                      | 3024/5000 [3:43:32<1:52:06,  3.40s/it]"
     ]
    },
    {
     "name": "stdout",
     "output_type": "stream",
     "text": [
      "All attempts failed for model dolphin3, metric plot, row 3024. Storing default value 5.\n",
      "I\n",
      "All attempts failed for model dolphin3, metric characters, row 3024. Storing default value 5.\n",
      "Do\n",
      "All attempts failed for model dolphin3, metric acting & performances, row 3024. Storing default value 5.\n",
      "T\n"
     ]
    },
    {
     "name": "stderr",
     "output_type": "stream",
     "text": [
      "Classifying rows:  60%|███████████████████████████████████████████████████████████████████████████████████████████████████████████████████████████████████▉                                                                                      | 3025/5000 [3:43:45<3:23:03,  6.17s/it]"
     ]
    },
    {
     "name": "stdout",
     "output_type": "stream",
     "text": [
      "All attempts failed for model dolphin3, metric cinematography, row 3024. Storing default value 5.\n",
      "Do\n"
     ]
    },
    {
     "name": "stderr",
     "output_type": "stream",
     "text": [
      "Classifying rows:  73%|███████████████████████████████████████████████████████████████████████████████████████████████████████████████████████████████████████████████████████████████▎                                                          | 3654/5000 [4:29:25<1:50:56,  4.95s/it]"
     ]
    },
    {
     "name": "stdout",
     "output_type": "stream",
     "text": [
      "All attempts failed for model dolphin3, metric plot, row 3654. Storing default value 5.\n",
      "B\n",
      "All attempts failed for model dolphin3, metric characters, row 3654. Storing default value 5.\n",
      "I\n",
      "All attempts failed for model dolphin3, metric acting & performances, row 3654. Storing default value 5.\n",
      "I\n"
     ]
    },
    {
     "name": "stderr",
     "output_type": "stream",
     "text": [
      "Classifying rows:  73%|███████████████████████████████████████████████████████████████████████████████████████████████████████████████████████████████████████████████████████████████▎                                                          | 3655/5000 [4:29:37<2:42:07,  7.23s/it]"
     ]
    },
    {
     "name": "stdout",
     "output_type": "stream",
     "text": [
      "All attempts failed for model dolphin3, metric cinematography, row 3654. Storing default value 5.\n",
      "Th\n"
     ]
    },
    {
     "name": "stderr",
     "output_type": "stream",
     "text": [
      "Classifying rows: 100%|████████████████████████████████████████████████████████████████████████████████████████████████████████████████████████████████████████████████████████████████████████████████████████████████████████████████████████████| 5000/5000 [6:09:43<00:00,  4.44s/it]\n"
     ]
    },
    {
     "name": "stdout",
     "output_type": "stream",
     "text": [
      "Processing Model: mistral (Model 2/3)\n"
     ]
    },
    {
     "name": "stderr",
     "output_type": "stream",
     "text": [
      "Classifying rows:   3%|█████▉                                                                                                                                                                                                                       | 133/5000 [08:15<4:56:12,  3.65s/it]"
     ]
    },
    {
     "name": "stdout",
     "output_type": "stream",
     "text": [
      "All attempts failed for model mistral, metric plot, row 133. Storing default value 5.\n",
      "0 (N\n",
      "All attempts failed for model mistral, metric characters, row 133. Storing default value 5.\n",
      "0\n",
      "All attempts failed for model mistral, metric acting & performances, row 133. Storing default value 5.\n",
      "0 (B\n"
     ]
    },
    {
     "name": "stderr",
     "output_type": "stream",
     "text": [
      "Classifying rows:   3%|█████▉                                                                                                                                                                                                                       | 134/5000 [08:22<6:05:21,  4.51s/it]"
     ]
    },
    {
     "name": "stdout",
     "output_type": "stream",
     "text": [
      "All attempts failed for model mistral, metric cinematography, row 133. Storing default value 5.\n",
      "0 (T\n"
     ]
    },
    {
     "name": "stderr",
     "output_type": "stream",
     "text": [
      "Classifying rows:   4%|████████▎                                                                                                                                                                                                                    | 189/5000 [12:07<5:03:35,  3.79s/it]"
     ]
    },
    {
     "name": "stdout",
     "output_type": "stream",
     "text": [
      "All attempts failed for model mistral, metric characters, row 189. Storing default value 5.\n",
      "0\n"
     ]
    },
    {
     "name": "stderr",
     "output_type": "stream",
     "text": [
      "Classifying rows:   4%|████████▍                                                                                                                                                                                                                    | 190/5000 [12:17<7:33:02,  5.65s/it]"
     ]
    },
    {
     "name": "stdout",
     "output_type": "stream",
     "text": [
      "All attempts failed for model mistral, metric cinematography, row 189. Storing default value 5.\n",
      "0 (Th\n"
     ]
    },
    {
     "name": "stderr",
     "output_type": "stream",
     "text": [
      "Classifying rows:   5%|██████████▋                                                                                                                                                                                                                  | 242/5000 [15:07<3:29:00,  2.64s/it]"
     ]
    },
    {
     "name": "stdout",
     "output_type": "stream",
     "text": [
      "All attempts failed for model mistral, metric characters, row 242. Storing default value 5.\n",
      "0 (T\n"
     ]
    },
    {
     "name": "stderr",
     "output_type": "stream",
     "text": [
      "Classifying rows:   7%|███████████████▋                                                                                                                                                                                                             | 355/5000 [22:18<6:16:21,  4.86s/it]"
     ]
    },
    {
     "name": "stdout",
     "output_type": "stream",
     "text": [
      "All attempts failed for model mistral, metric plot, row 355. Storing default value 5.\n",
      "0\n",
      "All attempts failed for model mistral, metric characters, row 355. Storing default value 5.\n",
      "0\n",
      "All attempts failed for model mistral, metric acting & performances, row 355. Storing default value 5.\n",
      "0\n"
     ]
    },
    {
     "name": "stderr",
     "output_type": "stream",
     "text": [
      "Classifying rows:   8%|██████████████████▍                                                                                                                                                                                                          | 417/5000 [26:38<3:53:30,  3.06s/it]"
     ]
    },
    {
     "name": "stdout",
     "output_type": "stream",
     "text": [
      "All attempts failed for model mistral, metric cinematography, row 416. Storing default value 5.\n",
      "0 (N\n"
     ]
    },
    {
     "name": "stderr",
     "output_type": "stream",
     "text": [
      "Classifying rows:  10%|███████████████████████                                                                                                                                                                                                      | 523/5000 [33:34<4:06:21,  3.30s/it]"
     ]
    },
    {
     "name": "stdout",
     "output_type": "stream",
     "text": [
      "All attempts failed for model mistral, metric characters, row 523. Storing default value 5.\n",
      "0\n"
     ]
    },
    {
     "name": "stderr",
     "output_type": "stream",
     "text": [
      "Classifying rows:  14%|███████████████████████████████▊                                                                                                                                                                                             | 721/5000 [46:22<5:54:19,  4.97s/it]"
     ]
    },
    {
     "name": "stdout",
     "output_type": "stream",
     "text": [
      "All attempts failed for model mistral, metric plot, row 721. Storing default value 5.\n",
      "0\n"
     ]
    },
    {
     "name": "stderr",
     "output_type": "stream",
     "text": [
      "Classifying rows:  16%|██████████████████████████████████▌                                                                                                                                                                                          | 783/5000 [49:35<2:39:49,  2.27s/it]"
     ]
    },
    {
     "name": "stdout",
     "output_type": "stream",
     "text": [
      "All attempts failed for model mistral, metric plot, row 783. Storing default value 5.\n",
      "0\n",
      "All attempts failed for model mistral, metric characters, row 783. Storing default value 5.\n",
      "0\n",
      "All attempts failed for model mistral, metric acting & performances, row 783. Storing default value 5.\n",
      "0\n"
     ]
    },
    {
     "name": "stderr",
     "output_type": "stream",
     "text": [
      "Classifying rows:  21%|████████████████████████████████████████████▊                                                                                                                                                                             | 1027/5000 [1:03:44<4:15:41,  3.86s/it]"
     ]
    },
    {
     "name": "stdout",
     "output_type": "stream",
     "text": [
      "All attempts failed for model mistral, metric plot, row 1027. Storing default value 5.\n",
      "0\n",
      "All attempts failed for model mistral, metric characters, row 1027. Storing default value 5.\n",
      "0 (B\n"
     ]
    },
    {
     "name": "stderr",
     "output_type": "stream",
     "text": [
      "Classifying rows:  21%|██████████████████████████████████████████████▋                                                                                                                                                                           | 1070/5000 [1:06:25<3:26:36,  3.15s/it]"
     ]
    },
    {
     "name": "stdout",
     "output_type": "stream",
     "text": [
      "All attempts failed for model mistral, metric characters, row 1070. Storing default value 5.\n",
      "0 (T\n",
      "All attempts failed for model mistral, metric acting & performances, row 1070. Storing default value 5.\n",
      "0 (T\n"
     ]
    },
    {
     "name": "stderr",
     "output_type": "stream",
     "text": [
      "Classifying rows:  22%|████████████████████████████████████████████████                                                                                                                                                                          | 1102/5000 [1:08:17<4:39:12,  4.30s/it]"
     ]
    },
    {
     "name": "stdout",
     "output_type": "stream",
     "text": [
      "All attempts failed for model mistral, metric plot, row 1102. Storing default value 5.\n",
      "0\n",
      "All attempts failed for model mistral, metric characters, row 1102. Storing default value 5.\n",
      "0\n",
      "All attempts failed for model mistral, metric acting & performances, row 1102. Storing default value 5.\n",
      "0\n"
     ]
    },
    {
     "name": "stderr",
     "output_type": "stream",
     "text": [
      "Classifying rows:  25%|██████████████████████████████████████████████████████▊                                                                                                                                                                   | 1258/5000 [1:16:46<3:26:26,  3.31s/it]"
     ]
    },
    {
     "name": "stdout",
     "output_type": "stream",
     "text": [
      "All attempts failed for model mistral, metric plot, row 1258. Storing default value 5.\n",
      "4.5\n",
      "All attempts failed for model mistral, metric characters, row 1258. Storing default value 5.\n",
      "4.5\n",
      "All attempts failed for model mistral, metric acting & performances, row 1258. Storing default value 5.\n",
      "4.5\n"
     ]
    },
    {
     "name": "stderr",
     "output_type": "stream",
     "text": [
      "Classifying rows:  25%|██████████████████████████████████████████████████████▉                                                                                                                                                                   | 1259/5000 [1:17:00<6:53:12,  6.63s/it]"
     ]
    },
    {
     "name": "stdout",
     "output_type": "stream",
     "text": [
      "All attempts failed for model mistral, metric cinematography, row 1258. Storing default value 5.\n",
      "4.5\n"
     ]
    },
    {
     "name": "stderr",
     "output_type": "stream",
     "text": [
      "Classifying rows:  29%|██████████████████████████████████████████████████████████████▎                                                                                                                                                           | 1429/5000 [1:25:58<3:01:51,  3.06s/it]"
     ]
    },
    {
     "name": "stdout",
     "output_type": "stream",
     "text": [
      "All attempts failed for model mistral, metric cinematography, row 1428. Storing default value 5.\n",
      "0\n"
     ]
    },
    {
     "name": "stderr",
     "output_type": "stream",
     "text": [
      "Classifying rows:  33%|███████████████████████████████████████████████████████████████████████▏                                                                                                                                                  | 1634/5000 [1:39:52<2:54:01,  3.10s/it]"
     ]
    },
    {
     "name": "stdout",
     "output_type": "stream",
     "text": [
      "All attempts failed for model mistral, metric plot, row 1634. Storing default value 5.\n",
      "7.5\n",
      "All attempts failed for model mistral, metric acting & performances, row 1634. Storing default value 5.\n",
      "7.5\n"
     ]
    },
    {
     "name": "stderr",
     "output_type": "stream",
     "text": [
      "Classifying rows:  41%|████████████████████████████████████████████████████████████████████████████████████████▍                                                                                                                                 | 2029/5000 [2:03:47<3:26:27,  4.17s/it]"
     ]
    },
    {
     "name": "stdout",
     "output_type": "stream",
     "text": [
      "All attempts failed for model mistral, metric characters, row 2029. Storing default value 5.\n",
      "0\n"
     ]
    },
    {
     "name": "stderr",
     "output_type": "stream",
     "text": [
      "Classifying rows:  44%|████████████████████████████████████████████████████████████████████████████████████████████████▏                                                                                                                         | 2206/5000 [2:14:31<2:42:51,  3.50s/it]"
     ]
    },
    {
     "name": "stdout",
     "output_type": "stream",
     "text": [
      "All attempts failed for model mistral, metric plot, row 2206. Storing default value 5.\n",
      "0\n"
     ]
    },
    {
     "name": "stderr",
     "output_type": "stream",
     "text": [
      "Classifying rows:  48%|████████████████████████████████████████████████████████████████████████████████████████████████████████▊                                                                                                                 | 2405/5000 [2:26:57<2:01:27,  2.81s/it]"
     ]
    },
    {
     "name": "stdout",
     "output_type": "stream",
     "text": [
      "All attempts failed for model mistral, metric plot, row 2405. Storing default value 5.\n",
      "0\n"
     ]
    },
    {
     "name": "stderr",
     "output_type": "stream",
     "text": [
      "Classifying rows:  49%|██████████████████████████████████████████████████████████████████████████████████████████████████████████▎                                                                                                               | 2439/5000 [2:29:09<3:42:41,  5.22s/it]"
     ]
    },
    {
     "name": "stdout",
     "output_type": "stream",
     "text": [
      "All attempts failed for model mistral, metric plot, row 2439. Storing default value 5.\n",
      "11 (I\n"
     ]
    },
    {
     "name": "stderr",
     "output_type": "stream",
     "text": [
      "Classifying rows:  49%|██████████████████████████████████████████████████████████████████████████████████████████████████████████▍                                                                                                               | 2440/5000 [2:29:21<5:06:36,  7.19s/it]"
     ]
    },
    {
     "name": "stdout",
     "output_type": "stream",
     "text": [
      "All attempts failed for model mistral, metric cinematography, row 2439. Storing default value 5.\n",
      "11\n"
     ]
    },
    {
     "name": "stderr",
     "output_type": "stream",
     "text": [
      "Classifying rows:  54%|████████████████████████████████████████████████████████████████████████████████████████████████████████████████████▊                                                                                                     | 2680/5000 [2:44:13<1:37:43,  2.53s/it]"
     ]
    },
    {
     "name": "stdout",
     "output_type": "stream",
     "text": [
      "All attempts failed for model mistral, metric characters, row 2680. Storing default value 5.\n",
      "0 (T\n"
     ]
    },
    {
     "name": "stderr",
     "output_type": "stream",
     "text": [
      "Classifying rows:  55%|███████████████████████████████████████████████████████████████████████████████████████████████████████████████████████▉                                                                                                  | 2750/5000 [2:48:23<2:00:02,  3.20s/it]"
     ]
    },
    {
     "name": "stdout",
     "output_type": "stream",
     "text": [
      "All attempts failed for model mistral, metric plot, row 2750. Storing default value 5.\n",
      "0\n",
      "All attempts failed for model mistral, metric characters, row 2750. Storing default value 5.\n",
      "0 (z\n",
      "All attempts failed for model mistral, metric acting & performances, row 2750. Storing default value 5.\n",
      "0\n"
     ]
    },
    {
     "name": "stderr",
     "output_type": "stream",
     "text": [
      "Classifying rows:  57%|███████████████████████████████████████████████████████████████████████████████████████████████████████████████████████████▎                                                                                              | 2827/5000 [2:53:39<2:09:09,  3.57s/it]"
     ]
    },
    {
     "name": "stdout",
     "output_type": "stream",
     "text": [
      "All attempts failed for model mistral, metric characters, row 2827. Storing default value 5.\n",
      "0\n"
     ]
    },
    {
     "name": "stderr",
     "output_type": "stream",
     "text": [
      "Classifying rows:  57%|███████████████████████████████████████████████████████████████████████████████████████████████████████████████████████████▎                                                                                              | 2828/5000 [2:53:48<3:06:53,  5.16s/it]"
     ]
    },
    {
     "name": "stdout",
     "output_type": "stream",
     "text": [
      "All attempts failed for model mistral, metric cinematography, row 2827. Storing default value 5.\n",
      "0 (T\n"
     ]
    },
    {
     "name": "stderr",
     "output_type": "stream",
     "text": [
      "Classifying rows:  60%|██████████████████████████████████████████████████████████████████████████████████████████████████████████████████████████████████▍                                                                                       | 2991/5000 [3:05:00<2:11:24,  3.92s/it]"
     ]
    },
    {
     "name": "stdout",
     "output_type": "stream",
     "text": [
      "All attempts failed for model mistral, metric characters, row 2991. Storing default value 5.\n",
      "0 (Th\n"
     ]
    },
    {
     "name": "stderr",
     "output_type": "stream",
     "text": [
      "Classifying rows:  60%|███████████████████████████████████████████████████████████████████████████████████████████████████████████████████████████████████▊                                                                                      | 3024/5000 [3:06:59<1:29:31,  2.72s/it]"
     ]
    },
    {
     "name": "stdout",
     "output_type": "stream",
     "text": [
      "All attempts failed for model mistral, metric plot, row 3024. Storing default value 5.\n",
      " Th\n",
      "All attempts failed for model mistral, metric characters, row 3024. Storing default value 5.\n",
      " Titl\n",
      "All attempts failed for model mistral, metric acting & performances, row 3024. Storing default value 5.\n",
      " Th\n"
     ]
    },
    {
     "name": "stderr",
     "output_type": "stream",
     "text": [
      "Classifying rows:  60%|███████████████████████████████████████████████████████████████████████████████████████████████████████████████████████████████████▉                                                                                      | 3025/5000 [3:07:19<4:19:33,  7.89s/it]"
     ]
    },
    {
     "name": "stdout",
     "output_type": "stream",
     "text": [
      "All attempts failed for model mistral, metric cinematography, row 3024. Storing default value 5.\n",
      " Titl\n"
     ]
    },
    {
     "name": "stderr",
     "output_type": "stream",
     "text": [
      "Classifying rows:  65%|██████████████████████████████████████████████████████████████████████████████████████████████████████████████████████████████████████████████▏                                                                           | 3260/5000 [3:21:35<1:43:17,  3.56s/it]"
     ]
    },
    {
     "name": "stdout",
     "output_type": "stream",
     "text": [
      "All attempts failed for model mistral, metric characters, row 3260. Storing default value 5.\n",
      "0\n",
      "All attempts failed for model mistral, metric acting & performances, row 3260. Storing default value 5.\n",
      "0\n"
     ]
    },
    {
     "name": "stderr",
     "output_type": "stream",
     "text": [
      "Classifying rows:  65%|██████████████████████████████████████████████████████████████████████████████████████████████████████████████████████████████████████████████▏                                                                           | 3261/5000 [3:21:43<2:24:39,  4.99s/it]"
     ]
    },
    {
     "name": "stdout",
     "output_type": "stream",
     "text": [
      "All attempts failed for model mistral, metric cinematography, row 3260. Storing default value 5.\n",
      "0 (Th\n"
     ]
    },
    {
     "name": "stderr",
     "output_type": "stream",
     "text": [
      "Classifying rows:  73%|██████████████████████████████████████████████████████████████████████████████████████████████████████████████████████████████████████████████████████████████▏                                                           | 3628/5000 [3:43:57<1:09:19,  3.03s/it]"
     ]
    },
    {
     "name": "stdout",
     "output_type": "stream",
     "text": [
      "All attempts failed for model mistral, metric cinematography, row 3627. Storing default value 5.\n",
      "0 (Th\n"
     ]
    },
    {
     "name": "stderr",
     "output_type": "stream",
     "text": [
      "Classifying rows:  73%|███████████████████████████████████████████████████████████████████████████████████████████████████████████████████████████████████████████████████████████████▎                                                          | 3654/5000 [3:45:29<1:35:20,  4.25s/it]"
     ]
    },
    {
     "name": "stdout",
     "output_type": "stream",
     "text": [
      "All attempts failed for model mistral, metric plot, row 3654. Storing default value 5.\n",
      " Th\n",
      "All attempts failed for model mistral, metric characters, row 3654. Storing default value 5.\n",
      " I\n",
      "All attempts failed for model mistral, metric acting & performances, row 3654. Storing default value 5.\n",
      " I\n"
     ]
    },
    {
     "name": "stderr",
     "output_type": "stream",
     "text": [
      "Classifying rows:  73%|███████████████████████████████████████████████████████████████████████████████████████████████████████████████████████████████████████████████████████████████▎                                                          | 3655/5000 [3:45:38<2:09:12,  5.76s/it]"
     ]
    },
    {
     "name": "stdout",
     "output_type": "stream",
     "text": [
      "All attempts failed for model mistral, metric cinematography, row 3654. Storing default value 5.\n",
      " I\n"
     ]
    },
    {
     "name": "stderr",
     "output_type": "stream",
     "text": [
      "Classifying rows:  79%|█████████████████████████████████████████████████████████████████████████████████████████████████████████████████████████████████████████████████████████████████████████████                                               | 3932/5000 [4:02:28<57:50,  3.25s/it]"
     ]
    },
    {
     "name": "stdout",
     "output_type": "stream",
     "text": [
      "All attempts failed for model mistral, metric plot, row 3932. Storing default value 5.\n",
      "0\n",
      "All attempts failed for model mistral, metric characters, row 3932. Storing default value 5.\n",
      "0 (T\n",
      "All attempts failed for model mistral, metric acting & performances, row 3932. Storing default value 5.\n",
      "0 (T\n"
     ]
    },
    {
     "name": "stderr",
     "output_type": "stream",
     "text": [
      "Classifying rows:  79%|███████████████████████████████████████████████████████████████████████████████████████████████████████████████████████████████████████████████████████████████████████████▍                                              | 3933/5000 [4:02:34<1:13:54,  4.16s/it]"
     ]
    },
    {
     "name": "stdout",
     "output_type": "stream",
     "text": [
      "All attempts failed for model mistral, metric cinematography, row 3932. Storing default value 5.\n",
      "0 (T\n"
     ]
    },
    {
     "name": "stderr",
     "output_type": "stream",
     "text": [
      "Classifying rows:  81%|█████████████████████████████████████████████████████████████████████████████████████████████████████████████████████████████████████████████████████████████████████████████████▌                                          | 4036/5000 [4:08:30<53:35,  3.34s/it]"
     ]
    },
    {
     "name": "stdout",
     "output_type": "stream",
     "text": [
      "All attempts failed for model mistral, metric characters, row 4036. Storing default value 5.\n",
      "0 (T\n"
     ]
    },
    {
     "name": "stderr",
     "output_type": "stream",
     "text": [
      "Classifying rows:  82%|████████████████████████████████████████████████████████████████████████████████████████████████████████████████████████████████████████████████████████████████████████████████████▏                                       | 4096/5000 [4:12:03<43:35,  2.89s/it]"
     ]
    },
    {
     "name": "stdout",
     "output_type": "stream",
     "text": [
      "All attempts failed for model mistral, metric plot, row 4096. Storing default value 5.\n",
      "0\n",
      "All attempts failed for model mistral, metric characters, row 4096. Storing default value 5.\n",
      "0\n",
      "All attempts failed for model mistral, metric acting & performances, row 4096. Storing default value 5.\n",
      "0\n"
     ]
    },
    {
     "name": "stderr",
     "output_type": "stream",
     "text": [
      "Classifying rows:  84%|████████████████████████████████████████████████████████████████████████████████████████████████████████████████████████████████████████████████████████████████████████████████████████                                  | 4223/5000 [4:20:18<1:16:57,  5.94s/it]"
     ]
    },
    {
     "name": "stdout",
     "output_type": "stream",
     "text": [
      "All attempts failed for model mistral, metric plot, row 4223. Storing default value 5.\n",
      "0 (T\n"
     ]
    },
    {
     "name": "stderr",
     "output_type": "stream",
     "text": [
      "Classifying rows:  85%|███████████████████████████████████████████████████████████████████████████████████████████████████████████████████████████████████████████████████████████████████████████████████████████▎                                | 4258/5000 [4:22:03<43:15,  3.50s/it]"
     ]
    },
    {
     "name": "stdout",
     "output_type": "stream",
     "text": [
      "All attempts failed for model mistral, metric plot, row 4258. Storing default value 5.\n",
      "0\n",
      "All attempts failed for model mistral, metric characters, row 4258. Storing default value 5.\n",
      "0\n",
      "All attempts failed for model mistral, metric acting & performances, row 4258. Storing default value 5.\n",
      "0\n"
     ]
    },
    {
     "name": "stderr",
     "output_type": "stream",
     "text": [
      "Classifying rows:  85%|█████████████████████████████████████████████████████████████████████████████████████████████████████████████████████████████████████████████████████████████████████████████████████████▋                                | 4259/5000 [4:22:11<1:01:52,  5.01s/it]"
     ]
    },
    {
     "name": "stdout",
     "output_type": "stream",
     "text": [
      "All attempts failed for model mistral, metric cinematography, row 4258. Storing default value 5.\n",
      "0\n"
     ]
    },
    {
     "name": "stderr",
     "output_type": "stream",
     "text": [
      "Classifying rows:  88%|██████████████████████████████████████████████████████████████████████████████████████████████████████████████████████████████████████████████████████████████████████████████████████████████████▌                         | 4422/5000 [4:32:13<43:04,  4.47s/it]"
     ]
    },
    {
     "name": "stdout",
     "output_type": "stream",
     "text": [
      "All attempts failed for model mistral, metric plot, row 4422. Storing default value 5.\n",
      "0\n",
      "All attempts failed for model mistral, metric characters, row 4422. Storing default value 5.\n",
      "0\n",
      "All attempts failed for model mistral, metric acting & performances, row 4422. Storing default value 5.\n",
      "0\n"
     ]
    },
    {
     "name": "stderr",
     "output_type": "stream",
     "text": [
      "Classifying rows:  88%|██████████████████████████████████████████████████████████████████████████████████████████████████████████████████████████████████████████████████████████████████████████████████████████████████▌                         | 4423/5000 [4:32:21<51:17,  5.33s/it]"
     ]
    },
    {
     "name": "stdout",
     "output_type": "stream",
     "text": [
      "All attempts failed for model mistral, metric cinematography, row 4422. Storing default value 5.\n",
      "0\n"
     ]
    },
    {
     "name": "stderr",
     "output_type": "stream",
     "text": [
      "Classifying rows:  89%|███████████████████████████████████████████████████████████████████████████████████████████████████████████████████████████████████████████████████████████████████████████████████████████████████▍                        | 4442/5000 [4:33:41<38:22,  4.13s/it]"
     ]
    },
    {
     "name": "stdout",
     "output_type": "stream",
     "text": [
      "All attempts failed for model mistral, metric plot, row 4442. Storing default value 5.\n",
      "0\n",
      "All attempts failed for model mistral, metric characters, row 4442. Storing default value 5.\n",
      "0 (T\n",
      "All attempts failed for model mistral, metric acting & performances, row 4442. Storing default value 5.\n",
      "0\n"
     ]
    },
    {
     "name": "stderr",
     "output_type": "stream",
     "text": [
      "Classifying rows:  94%|█████████████████████████████████████████████████████████████████████████████████████████████████████████████████████████████████████████████████████████████████████████████████████████████████████████████▉              | 4679/5000 [4:49:06<23:54,  4.47s/it]"
     ]
    },
    {
     "name": "stdout",
     "output_type": "stream",
     "text": [
      "All attempts failed for model mistral, metric plot, row 4679. Storing default value 5.\n",
      "0\n",
      "All attempts failed for model mistral, metric characters, row 4679. Storing default value 5.\n",
      "0\n",
      "All attempts failed for model mistral, metric acting & performances, row 4679. Storing default value 5.\n",
      "0\n"
     ]
    },
    {
     "name": "stderr",
     "output_type": "stream",
     "text": [
      "Classifying rows:  94%|█████████████████████████████████████████████████████████████████████████████████████████████████████████████████████████████████████████████████████████████████████████████████████████████████████████████▉              | 4680/5000 [4:49:12<26:57,  5.05s/it]"
     ]
    },
    {
     "name": "stdout",
     "output_type": "stream",
     "text": [
      "All attempts failed for model mistral, metric cinematography, row 4679. Storing default value 5.\n",
      "0\n"
     ]
    },
    {
     "name": "stderr",
     "output_type": "stream",
     "text": [
      "Classifying rows:  94%|██████████████████████████████████████████████████████████████████████████████████████████████████████████████████████████████████████████████████████████████████████████████████████████████████████████████▏             | 4687/5000 [4:49:55<33:58,  6.51s/it]"
     ]
    },
    {
     "name": "stdout",
     "output_type": "stream",
     "text": [
      "All attempts failed for model mistral, metric cinematography, row 4686. Storing default value 5.\n",
      "0 (\n"
     ]
    },
    {
     "name": "stderr",
     "output_type": "stream",
     "text": [
      "Classifying rows:  95%|████████████████████████████████████████████████████████████████████████████████████████████████████████████████████████████████████████████████████████████████████████████████████████████████████████████████            | 4728/5000 [4:52:30<14:45,  3.25s/it]"
     ]
    },
    {
     "name": "stdout",
     "output_type": "stream",
     "text": [
      "All attempts failed for model mistral, metric plot, row 4728. Storing default value 5.\n",
      "0\n",
      "All attempts failed for model mistral, metric characters, row 4728. Storing default value 5.\n",
      "0\n",
      "All attempts failed for model mistral, metric acting & performances, row 4728. Storing default value 5.\n",
      "0\n"
     ]
    },
    {
     "name": "stderr",
     "output_type": "stream",
     "text": [
      "Classifying rows:  95%|████████████████████████████████████████████████████████████████████████████████████████████████████████████████████████████████████████████████████████████████████████████████████████████████████████████████            | 4729/5000 [4:52:35<17:59,  3.98s/it]"
     ]
    },
    {
     "name": "stdout",
     "output_type": "stream",
     "text": [
      "All attempts failed for model mistral, metric cinematography, row 4728. Storing default value 5.\n",
      "0\n"
     ]
    },
    {
     "name": "stderr",
     "output_type": "stream",
     "text": [
      "Classifying rows:  95%|█████████████████████████████████████████████████████████████████████████████████████████████████████████████████████████████████████████████████████████████████████████████████████████████████████████████████▉          | 4771/5000 [4:55:21<21:28,  5.63s/it]"
     ]
    },
    {
     "name": "stdout",
     "output_type": "stream",
     "text": [
      "All attempts failed for model mistral, metric plot, row 4771. Storing default value 5.\n",
      "0\n",
      "All attempts failed for model mistral, metric characters, row 4771. Storing default value 5.\n",
      "0\n",
      "All attempts failed for model mistral, metric acting & performances, row 4771. Storing default value 5.\n",
      "0\n"
     ]
    },
    {
     "name": "stderr",
     "output_type": "stream",
     "text": [
      "Classifying rows:  95%|█████████████████████████████████████████████████████████████████████████████████████████████████████████████████████████████████████████████████████████████████████████████████████████████████████████████████▉          | 4772/5000 [4:55:28<22:25,  5.90s/it]"
     ]
    },
    {
     "name": "stdout",
     "output_type": "stream",
     "text": [
      "All attempts failed for model mistral, metric cinematography, row 4771. Storing default value 5.\n",
      "0\n"
     ]
    },
    {
     "name": "stderr",
     "output_type": "stream",
     "text": [
      "Classifying rows:  97%|██████████████████████████████████████████████████████████████████████████████████████████████████████████████████████████████████████████████████████████████████████████████████████████████████████████████████████      | 4866/5000 [5:01:40<13:43,  6.15s/it]"
     ]
    },
    {
     "name": "stdout",
     "output_type": "stream",
     "text": [
      "All attempts failed for model mistral, metric characters, row 4866. Storing default value 5.\n",
      "0\n",
      "All attempts failed for model mistral, metric acting & performances, row 4866. Storing default value 5.\n",
      "0\n"
     ]
    },
    {
     "name": "stderr",
     "output_type": "stream",
     "text": [
      "Classifying rows:  99%|█████████████████████████████████████████████████████████████████████████████████████████████████████████████████████████████████████████████████████████████████████████████████████████████████████████████████████████▏  | 4936/5000 [5:06:21<02:35,  2.43s/it]"
     ]
    },
    {
     "name": "stdout",
     "output_type": "stream",
     "text": [
      "All attempts failed for model mistral, metric characters, row 4936. Storing default value 5.\n",
      "0\n"
     ]
    },
    {
     "name": "stderr",
     "output_type": "stream",
     "text": [
      "Classifying rows: 100%|████████████████████████████████████████████████████████████████████████████████████████████████████████████████████████████████████████████████████████████████████████████████████████████████████████████████████████████| 5000/5000 [5:10:06<00:00,  3.72s/it]\n"
     ]
    },
    {
     "name": "stdout",
     "output_type": "stream",
     "text": [
      "Processing Model: deepseek-llm (Model 3/3)\n"
     ]
    },
    {
     "name": "stderr",
     "output_type": "stream",
     "text": [
      "Classifying rows:   2%|███▋                                                                                                                                                                                                                          | 84/5000 [06:52<9:32:19,  6.99s/it]"
     ]
    },
    {
     "name": "stdout",
     "output_type": "stream",
     "text": [
      "All attempts failed for model deepseek-llm, metric cinematography, row 83. Storing default value 5.\n",
      "T\n"
     ]
    },
    {
     "name": "stderr",
     "output_type": "stream",
     "text": [
      "Classifying rows:   4%|█████████▌                                                                                                                                                                                                                   | 215/5000 [17:13<5:18:43,  4.00s/it]"
     ]
    },
    {
     "name": "stdout",
     "output_type": "stream",
     "text": [
      "All attempts failed for model deepseek-llm, metric cinematography, row 214. Storing default value 5.\n",
      "T\n"
     ]
    },
    {
     "name": "stderr",
     "output_type": "stream",
     "text": [
      "Classifying rows:   5%|███████████▌                                                                                                                                                                                                                | 264/5000 [21:10<12:48:51,  9.74s/it]"
     ]
    },
    {
     "name": "stdout",
     "output_type": "stream",
     "text": [
      "All attempts failed for model deepseek-llm, metric cinematography, row 263. Storing default value 5.\n",
      "Th\n"
     ]
    },
    {
     "name": "stderr",
     "output_type": "stream",
     "text": [
      "Classifying rows:   7%|████████████████                                                                                                                                                                                                            | 365/5000 [29:23<10:38:53,  8.27s/it]"
     ]
    },
    {
     "name": "stdout",
     "output_type": "stream",
     "text": [
      "All attempts failed for model deepseek-llm, metric plot, row 365. Storing default value 5.\n",
      "Th\n",
      "All attempts failed for model deepseek-llm, metric characters, row 365. Storing default value 5.\n",
      "Th\n"
     ]
    },
    {
     "name": "stderr",
     "output_type": "stream",
     "text": [
      "Classifying rows:   7%|████████████████                                                                                                                                                                                                            | 366/5000 [29:43<15:28:47, 12.03s/it]"
     ]
    },
    {
     "name": "stdout",
     "output_type": "stream",
     "text": [
      "All attempts failed for model deepseek-llm, metric cinematography, row 365. Storing default value 5.\n",
      "Th\n"
     ]
    },
    {
     "name": "stderr",
     "output_type": "stream",
     "text": [
      "Classifying rows:   8%|██████████████████▍                                                                                                                                                                                                          | 417/5000 [33:54<5:23:31,  4.24s/it]"
     ]
    },
    {
     "name": "stdout",
     "output_type": "stream",
     "text": [
      "All attempts failed for model deepseek-llm, metric cinematography, row 416. Storing default value 5.\n",
      "T\n"
     ]
    },
    {
     "name": "stderr",
     "output_type": "stream",
     "text": [
      "Classifying rows:  10%|██████████████████████                                                                                                                                                                                                       | 499/5000 [40:48<5:23:24,  4.31s/it]"
     ]
    },
    {
     "name": "stdout",
     "output_type": "stream",
     "text": [
      "All attempts failed for model deepseek-llm, metric plot, row 499. Storing default value 5.\n",
      "Th\n",
      "All attempts failed for model deepseek-llm, metric characters, row 499. Storing default value 5.\n",
      "Th\n",
      "All attempts failed for model deepseek-llm, metric acting & performances, row 499. Storing default value 5.\n",
      "Th\n"
     ]
    },
    {
     "name": "stderr",
     "output_type": "stream",
     "text": [
      "Classifying rows:  10%|██████████████████████                                                                                                                                                                                                      | 500/5000 [41:10<12:01:59,  9.63s/it]"
     ]
    },
    {
     "name": "stdout",
     "output_type": "stream",
     "text": [
      "All attempts failed for model deepseek-llm, metric cinematography, row 499. Storing default value 5.\n",
      "Th\n"
     ]
    },
    {
     "name": "stderr",
     "output_type": "stream",
     "text": [
      "Classifying rows:  10%|██████████████████████▋                                                                                                                                                                                                      | 514/5000 [42:01<4:51:04,  3.89s/it]"
     ]
    },
    {
     "name": "stdout",
     "output_type": "stream",
     "text": [
      "All attempts failed for model deepseek-llm, metric plot, row 514. Storing default value 5.\n",
      "An\n"
     ]
    },
    {
     "name": "stderr",
     "output_type": "stream",
     "text": [
      "Classifying rows:  13%|█████████████████████████████▋                                                                                                                                                                                               | 672/5000 [54:52<4:13:20,  3.51s/it]"
     ]
    },
    {
     "name": "stdout",
     "output_type": "stream",
     "text": [
      "All attempts failed for model deepseek-llm, metric plot, row 672. Storing default value 5.\n",
      "Th\n",
      "All attempts failed for model deepseek-llm, metric characters, row 672. Storing default value 5.\n",
      "Th\n",
      "All attempts failed for model deepseek-llm, metric acting & performances, row 672. Storing default value 5.\n",
      "Th\n"
     ]
    },
    {
     "name": "stderr",
     "output_type": "stream",
     "text": [
      "Classifying rows:  17%|█████████████████████████████████████▏                                                                                                                                                                                     | 848/5000 [1:08:15<4:02:11,  3.50s/it]"
     ]
    },
    {
     "name": "stdout",
     "output_type": "stream",
     "text": [
      "All attempts failed for model deepseek-llm, metric characters, row 848. Storing default value 5.\n",
      "P\n"
     ]
    },
    {
     "name": "stderr",
     "output_type": "stream",
     "text": [
      "Classifying rows:  17%|█████████████████████████████████████▏                                                                                                                                                                                     | 849/5000 [1:08:24<5:55:02,  5.13s/it]"
     ]
    },
    {
     "name": "stdout",
     "output_type": "stream",
     "text": [
      "All attempts failed for model deepseek-llm, metric cinematography, row 848. Storing default value 5.\n",
      "P\n"
     ]
    },
    {
     "name": "stderr",
     "output_type": "stream",
     "text": [
      "Classifying rows:  17%|█████████████████████████████████████▋                                                                                                                                                                                     | 860/5000 [1:09:12<6:43:17,  5.84s/it]"
     ]
    },
    {
     "name": "stdout",
     "output_type": "stream",
     "text": [
      "All attempts failed for model deepseek-llm, metric cinematography, row 859. Storing default value 5.\n",
      "P\n"
     ]
    },
    {
     "name": "stderr",
     "output_type": "stream",
     "text": [
      "Classifying rows:  19%|█████████████████████████████████████████▎                                                                                                                                                                                 | 943/5000 [1:15:19<4:36:42,  4.09s/it]"
     ]
    },
    {
     "name": "stdout",
     "output_type": "stream",
     "text": [
      "All attempts failed for model deepseek-llm, metric acting & performances, row 943. Storing default value 5.\n",
      "4.0\n"
     ]
    },
    {
     "name": "stderr",
     "output_type": "stream",
     "text": [
      "Classifying rows:  19%|█████████████████████████████████████████▎                                                                                                                                                                                 | 944/5000 [1:15:35<8:43:38,  7.75s/it]"
     ]
    },
    {
     "name": "stdout",
     "output_type": "stream",
     "text": [
      "All attempts failed for model deepseek-llm, metric cinematography, row 943. Storing default value 5.\n",
      "Th\n"
     ]
    },
    {
     "name": "stderr",
     "output_type": "stream",
     "text": [
      "Classifying rows:  19%|█████████████████████████████████████████▍                                                                                                                                                                                 | 946/5000 [1:15:47<7:25:09,  6.59s/it]"
     ]
    },
    {
     "name": "stdout",
     "output_type": "stream",
     "text": [
      "All attempts failed for model deepseek-llm, metric cinematography, row 945. Storing default value 5.\n",
      "T\n"
     ]
    },
    {
     "name": "stderr",
     "output_type": "stream",
     "text": [
      "Classifying rows:  20%|████████████████████████████████████████████▍                                                                                                                                                                             | 1018/5000 [1:20:59<5:46:33,  5.22s/it]"
     ]
    },
    {
     "name": "stdout",
     "output_type": "stream",
     "text": [
      "All attempts failed for model deepseek-llm, metric acting & performances, row 1018. Storing default value 5.\n",
      "4/10\n"
     ]
    },
    {
     "name": "stderr",
     "output_type": "stream",
     "text": [
      "Classifying rows:  21%|██████████████████████████████████████████████                                                                                                                                                                            | 1057/5000 [1:24:27<4:26:12,  4.05s/it]"
     ]
    },
    {
     "name": "stdout",
     "output_type": "stream",
     "text": [
      "All attempts failed for model deepseek-llm, metric plot, row 1057. Storing default value 5.\n",
      "An\n"
     ]
    },
    {
     "name": "stderr",
     "output_type": "stream",
     "text": [
      "Classifying rows:  22%|████████████████████████████████████████████████                                                                                                                                                                          | 1102/5000 [1:27:56<5:48:54,  5.37s/it]"
     ]
    },
    {
     "name": "stdout",
     "output_type": "stream",
     "text": [
      "All attempts failed for model deepseek-llm, metric acting & performances, row 1102. Storing default value 5.\n",
      "4/10\n"
     ]
    },
    {
     "name": "stderr",
     "output_type": "stream",
     "text": [
      "Classifying rows:  22%|███████████████████████████████████████████████▊                                                                                                                                                                         | 1103/5000 [1:28:18<11:04:59, 10.24s/it]"
     ]
    },
    {
     "name": "stdout",
     "output_type": "stream",
     "text": [
      "All attempts failed for model deepseek-llm, metric cinematography, row 1102. Storing default value 5.\n",
      "4/10\n"
     ]
    },
    {
     "name": "stderr",
     "output_type": "stream",
     "text": [
      "Classifying rows:  24%|███████████████████████████████████████████████████▋                                                                                                                                                                      | 1186/5000 [1:34:03<4:57:24,  4.68s/it]"
     ]
    },
    {
     "name": "stdout",
     "output_type": "stream",
     "text": [
      "All attempts failed for model deepseek-llm, metric plot, row 1186. Storing default value 5.\n",
      "P\n"
     ]
    },
    {
     "name": "stderr",
     "output_type": "stream",
     "text": [
      "Classifying rows:  25%|██████████████████████████████████████████████████████▌                                                                                                                                                                   | 1252/5000 [1:38:55<4:43:22,  4.54s/it]"
     ]
    },
    {
     "name": "stdout",
     "output_type": "stream",
     "text": [
      "All attempts failed for model deepseek-llm, metric cinematography, row 1251. Storing default value 5.\n",
      "T\n"
     ]
    },
    {
     "name": "stderr",
     "output_type": "stream",
     "text": [
      "Classifying rows:  25%|███████████████████████████████████████████████████████▏                                                                                                                                                                  | 1267/5000 [1:40:11<4:49:19,  4.65s/it]"
     ]
    },
    {
     "name": "stdout",
     "output_type": "stream",
     "text": [
      "All attempts failed for model deepseek-llm, metric acting & performances, row 1267. Storing default value 5.\n",
      "4.2\n"
     ]
    },
    {
     "name": "stderr",
     "output_type": "stream",
     "text": [
      "Classifying rows:  27%|███████████████████████████████████████████████████████████▌                                                                                                                                                              | 1367/5000 [1:47:01<4:11:57,  4.16s/it]"
     ]
    },
    {
     "name": "stdout",
     "output_type": "stream",
     "text": [
      "All attempts failed for model deepseek-llm, metric cinematography, row 1366. Storing default value 5.\n",
      "T\n"
     ]
    },
    {
     "name": "stderr",
     "output_type": "stream",
     "text": [
      "Classifying rows:  28%|████████████████████████████████████████████████████████████▏                                                                                                                                                             | 1381/5000 [1:47:52<3:29:21,  3.47s/it]"
     ]
    },
    {
     "name": "stdout",
     "output_type": "stream",
     "text": [
      "All attempts failed for model deepseek-llm, metric characters, row 1381. Storing default value 5.\n",
      "Th\n"
     ]
    },
    {
     "name": "stderr",
     "output_type": "stream",
     "text": [
      "Classifying rows:  28%|████████████████████████████████████████████████████████████▎                                                                                                                                                             | 1382/5000 [1:48:10<7:56:06,  7.90s/it]"
     ]
    },
    {
     "name": "stdout",
     "output_type": "stream",
     "text": [
      "All attempts failed for model deepseek-llm, metric cinematography, row 1381. Storing default value 5.\n",
      "Th\n"
     ]
    },
    {
     "name": "stderr",
     "output_type": "stream",
     "text": [
      "Classifying rows:  28%|██████████████████████████████████████████████████████████████                                                                                                                                                            | 1423/5000 [1:50:58<4:27:51,  4.49s/it]"
     ]
    },
    {
     "name": "stdout",
     "output_type": "stream",
     "text": [
      "All attempts failed for model deepseek-llm, metric cinematography, row 1422. Storing default value 5.\n",
      "T\n"
     ]
    },
    {
     "name": "stderr",
     "output_type": "stream",
     "text": [
      "Classifying rows:  29%|███████████████████████████████████████████████████████████████                                                                                                                                                           | 1447/5000 [1:52:57<8:44:00,  8.85s/it]"
     ]
    },
    {
     "name": "stdout",
     "output_type": "stream",
     "text": [
      "All attempts failed for model deepseek-llm, metric cinematography, row 1446. Storing default value 5.\n",
      "Th\n"
     ]
    },
    {
     "name": "stderr",
     "output_type": "stream",
     "text": [
      "Classifying rows:  30%|████████████████████████████████████████████████████████████████▍                                                                                                                                                         | 1478/5000 [1:55:47<4:56:14,  5.05s/it]"
     ]
    },
    {
     "name": "stdout",
     "output_type": "stream",
     "text": [
      "All attempts failed for model deepseek-llm, metric acting & performances, row 1478. Storing default value 5.\n",
      "Th\n"
     ]
    },
    {
     "name": "stderr",
     "output_type": "stream",
     "text": [
      "Classifying rows:  31%|██████████████████████████████████████████████████████████████████▊                                                                                                                                                       | 1531/5000 [2:00:37<3:22:50,  3.51s/it]"
     ]
    },
    {
     "name": "stdout",
     "output_type": "stream",
     "text": [
      "All attempts failed for model deepseek-llm, metric plot, row 1531. Storing default value 5.\n",
      "Th\n",
      "All attempts failed for model deepseek-llm, metric characters, row 1531. Storing default value 5.\n",
      "Th\n",
      "All attempts failed for model deepseek-llm, metric acting & performances, row 1531. Storing default value 5.\n",
      "Th\n"
     ]
    },
    {
     "name": "stderr",
     "output_type": "stream",
     "text": [
      "Classifying rows:  31%|██████████████████████████████████████████████████████████████████▍                                                                                                                                                      | 1532/5000 [2:01:06<10:44:17, 11.15s/it]"
     ]
    },
    {
     "name": "stdout",
     "output_type": "stream",
     "text": [
      "All attempts failed for model deepseek-llm, metric cinematography, row 1531. Storing default value 5.\n",
      "Th\n"
     ]
    },
    {
     "name": "stderr",
     "output_type": "stream",
     "text": [
      "Classifying rows:  31%|███████████████████████████████████████████████████████████████████▏                                                                                                                                                      | 1540/5000 [2:01:39<4:15:55,  4.44s/it]"
     ]
    },
    {
     "name": "stdout",
     "output_type": "stream",
     "text": [
      "All attempts failed for model deepseek-llm, metric cinematography, row 1539. Storing default value 5.\n",
      "T\n"
     ]
    },
    {
     "name": "stderr",
     "output_type": "stream",
     "text": [
      "Classifying rows:  34%|█████████████████████████████████████████████████████████████████████████▌                                                                                                                                                | 1687/5000 [2:13:15<6:43:47,  7.31s/it]"
     ]
    },
    {
     "name": "stdout",
     "output_type": "stream",
     "text": [
      "All attempts failed for model deepseek-llm, metric cinematography, row 1686. Storing default value 5.\n",
      "Th\n"
     ]
    },
    {
     "name": "stderr",
     "output_type": "stream",
     "text": [
      "Classifying rows:  35%|███████████████████████████████████████████████████████████████████████████▌                                                                                                                                              | 1732/5000 [2:16:51<3:26:50,  3.80s/it]"
     ]
    },
    {
     "name": "stdout",
     "output_type": "stream",
     "text": [
      "All attempts failed for model deepseek-llm, metric characters, row 1732. Storing default value 5.\n",
      "T\n"
     ]
    },
    {
     "name": "stderr",
     "output_type": "stream",
     "text": [
      "Classifying rows:  35%|███████████████████████████████████████████████████████████████████████████▌                                                                                                                                              | 1733/5000 [2:16:57<4:03:32,  4.47s/it]"
     ]
    },
    {
     "name": "stdout",
     "output_type": "stream",
     "text": [
      "All attempts failed for model deepseek-llm, metric cinematography, row 1732. Storing default value 5.\n",
      "T\n"
     ]
    },
    {
     "name": "stderr",
     "output_type": "stream",
     "text": [
      "Classifying rows:  35%|███████████████████████████████████████████████████████████████████████████▉                                                                                                                                              | 1741/5000 [2:17:35<3:21:15,  3.71s/it]"
     ]
    },
    {
     "name": "stdout",
     "output_type": "stream",
     "text": [
      "All attempts failed for model deepseek-llm, metric plot, row 1741. Storing default value 5.\n",
      "Th\n"
     ]
    },
    {
     "name": "stderr",
     "output_type": "stream",
     "text": [
      "Classifying rows:  40%|███████████████████████████████████████████████████████████████████████████████████████▉                                                                                                                                  | 2018/5000 [2:38:53<4:04:18,  4.92s/it]"
     ]
    },
    {
     "name": "stdout",
     "output_type": "stream",
     "text": [
      "All attempts failed for model deepseek-llm, metric cinematography, row 2017. Storing default value 5.\n",
      "P\n"
     ]
    },
    {
     "name": "stderr",
     "output_type": "stream",
     "text": [
      "Classifying rows:  40%|████████████████████████████████████████████████████████████████████████████████████████▏                                                                                                                                 | 2023/5000 [2:39:36<7:54:42,  9.57s/it]"
     ]
    },
    {
     "name": "stdout",
     "output_type": "stream",
     "text": [
      "All attempts failed for model deepseek-llm, metric cinematography, row 2022. Storing default value 5.\n",
      "Th\n"
     ]
    },
    {
     "name": "stderr",
     "output_type": "stream",
     "text": [
      "Classifying rows:  41%|██████████████████████████████████████████████████████████████████████████████████████████▍                                                                                                                               | 2073/5000 [2:44:00<6:16:09,  7.71s/it]"
     ]
    },
    {
     "name": "stdout",
     "output_type": "stream",
     "text": [
      "All attempts failed for model deepseek-llm, metric cinematography, row 2072. Storing default value 5.\n",
      "Th\n"
     ]
    },
    {
     "name": "stderr",
     "output_type": "stream",
     "text": [
      "Classifying rows:  45%|█████████████████████████████████████████████████████████████████████████████████████████████████▏                                                                                                                        | 2228/5000 [2:55:42<4:06:55,  5.34s/it]"
     ]
    },
    {
     "name": "stdout",
     "output_type": "stream",
     "text": [
      "All attempts failed for model deepseek-llm, metric plot, row 2228. Storing default value 5.\n",
      "Th\n"
     ]
    },
    {
     "name": "stderr",
     "output_type": "stream",
     "text": [
      "Classifying rows:  45%|█████████████████████████████████████████████████████████████████████████████████████████████████▏                                                                                                                        | 2229/5000 [2:55:56<6:14:20,  8.11s/it]"
     ]
    },
    {
     "name": "stdout",
     "output_type": "stream",
     "text": [
      "All attempts failed for model deepseek-llm, metric cinematography, row 2228. Storing default value 5.\n",
      "Th\n"
     ]
    },
    {
     "name": "stderr",
     "output_type": "stream",
     "text": [
      "Classifying rows:  45%|█████████████████████████████████████████████████████████████████████████████████████████████████▉                                                                                                                        | 2245/5000 [2:57:16<5:00:41,  6.55s/it]"
     ]
    },
    {
     "name": "stdout",
     "output_type": "stream",
     "text": [
      "All attempts failed for model deepseek-llm, metric cinematography, row 2244. Storing default value 5.\n",
      "Th\n"
     ]
    },
    {
     "name": "stderr",
     "output_type": "stream",
     "text": [
      "Classifying rows:  46%|█████████████████████████████████████████████████████████████████████████████████████████████████████                                                                                                                     | 2317/5000 [3:03:00<2:54:10,  3.89s/it]"
     ]
    },
    {
     "name": "stdout",
     "output_type": "stream",
     "text": [
      "All attempts failed for model deepseek-llm, metric plot, row 2317. Storing default value 5.\n",
      "St\n",
      "All attempts failed for model deepseek-llm, metric acting & performances, row 2317. Storing default value 5.\n",
      "T\n"
     ]
    },
    {
     "name": "stderr",
     "output_type": "stream",
     "text": [
      "Classifying rows:  48%|████████████████████████████████████████████████████████████████████████████████████████████████████████▎                                                                                                                 | 2393/5000 [3:08:57<5:17:56,  7.32s/it]"
     ]
    },
    {
     "name": "stdout",
     "output_type": "stream",
     "text": [
      "All attempts failed for model deepseek-llm, metric acting & performances, row 2393. Storing default value 5.\n",
      "Th\n"
     ]
    },
    {
     "name": "stderr",
     "output_type": "stream",
     "text": [
      "Classifying rows:  48%|████████████████████████████████████████████████████████████████████████████████████████████████████████▍                                                                                                                 | 2394/5000 [3:09:10<6:33:30,  9.06s/it]"
     ]
    },
    {
     "name": "stdout",
     "output_type": "stream",
     "text": [
      "All attempts failed for model deepseek-llm, metric cinematography, row 2393. Storing default value 5.\n",
      "Th\n"
     ]
    },
    {
     "name": "stderr",
     "output_type": "stream",
     "text": [
      "Classifying rows:  50%|█████████████████████████████████████████████████████████████████████████████████████████████████████████████▉                                                                                                            | 2522/5000 [3:19:26<3:00:53,  4.38s/it]"
     ]
    },
    {
     "name": "stdout",
     "output_type": "stream",
     "text": [
      "All attempts failed for model deepseek-llm, metric plot, row 2522. Storing default value 5.\n",
      "Th\n",
      "All attempts failed for model deepseek-llm, metric acting & performances, row 2522. Storing default value 5.\n",
      "Th\n"
     ]
    },
    {
     "name": "stderr",
     "output_type": "stream",
     "text": [
      "Classifying rows:  50%|██████████████████████████████████████████████████████████████████████████████████████████████████████████████                                                                                                            | 2523/5000 [3:19:48<6:28:25,  9.41s/it]"
     ]
    },
    {
     "name": "stdout",
     "output_type": "stream",
     "text": [
      "All attempts failed for model deepseek-llm, metric cinematography, row 2522. Storing default value 5.\n",
      "Th\n"
     ]
    },
    {
     "name": "stderr",
     "output_type": "stream",
     "text": [
      "Classifying rows:  52%|████████████████████████████████████████████████████████████████████████████████████████████████████████████████▊                                                                                                         | 2587/5000 [3:24:54<4:08:26,  6.18s/it]"
     ]
    },
    {
     "name": "stdout",
     "output_type": "stream",
     "text": [
      "All attempts failed for model deepseek-llm, metric cinematography, row 2586. Storing default value 5.\n",
      "T\n"
     ]
    },
    {
     "name": "stderr",
     "output_type": "stream",
     "text": [
      "Classifying rows:  52%|██████████████████████████████████████████████████████████████████████████████████████████████████████████████████▎                                                                                                       | 2622/5000 [3:27:44<4:04:48,  6.18s/it]"
     ]
    },
    {
     "name": "stdout",
     "output_type": "stream",
     "text": [
      "All attempts failed for model deepseek-llm, metric plot, row 2622. Storing default value 5.\n",
      "4/5\n",
      "All attempts failed for model deepseek-llm, metric characters, row 2622. Storing default value 5.\n",
      "9/10\n",
      "All attempts failed for model deepseek-llm, metric acting & performances, row 2622. Storing default value 5.\n",
      "4/5\n"
     ]
    },
    {
     "name": "stderr",
     "output_type": "stream",
     "text": [
      "Classifying rows:  52%|██████████████████████████████████████████████████████████████████████████████████████████████████████████████████▎                                                                                                       | 2623/5000 [3:28:11<8:09:08, 12.35s/it]"
     ]
    },
    {
     "name": "stdout",
     "output_type": "stream",
     "text": [
      "All attempts failed for model deepseek-llm, metric cinematography, row 2622. Storing default value 5.\n",
      "4/5\n"
     ]
    },
    {
     "name": "stderr",
     "output_type": "stream",
     "text": [
      "Classifying rows:  56%|█████████████████████████████████████████████████████████████████████████████████████████████████████████████████████████▌                                                                                                | 2789/5000 [3:41:27<3:12:11,  5.22s/it]"
     ]
    },
    {
     "name": "stdout",
     "output_type": "stream",
     "text": [
      "All attempts failed for model deepseek-llm, metric plot, row 2789. Storing default value 5.\n",
      "Th\n"
     ]
    },
    {
     "name": "stderr",
     "output_type": "stream",
     "text": [
      "Classifying rows:  56%|█████████████████████████████████████████████████████████████████████████████████████████████████████████████████████████▋                                                                                                | 2790/5000 [3:41:44<5:23:50,  8.79s/it]"
     ]
    },
    {
     "name": "stdout",
     "output_type": "stream",
     "text": [
      "All attempts failed for model deepseek-llm, metric cinematography, row 2789. Storing default value 5.\n",
      "Th\n"
     ]
    },
    {
     "name": "stderr",
     "output_type": "stream",
     "text": [
      "Classifying rows:  56%|███████████████████████████████████████████████████████████████████████████████████████████████████████████████████████████                                                                                               | 2822/5000 [3:44:23<2:41:16,  4.44s/it]"
     ]
    },
    {
     "name": "stdout",
     "output_type": "stream",
     "text": [
      "All attempts failed for model deepseek-llm, metric cinematography, row 2821. Storing default value 5.\n",
      "T\n"
     ]
    },
    {
     "name": "stderr",
     "output_type": "stream",
     "text": [
      "Classifying rows:  59%|████████████████████████████████████████████████████████████████████████████████████████████████████████████████████████████████▌                                                                                         | 2949/5000 [3:55:31<2:02:26,  3.58s/it]"
     ]
    },
    {
     "name": "stdout",
     "output_type": "stream",
     "text": [
      "All attempts failed for model deepseek-llm, metric characters, row 2949. Storing default value 5.\n",
      "Th\n",
      "All attempts failed for model deepseek-llm, metric acting & performances, row 2949. Storing default value 5.\n",
      "Th\n"
     ]
    },
    {
     "name": "stderr",
     "output_type": "stream",
     "text": [
      "Classifying rows:  60%|███████████████████████████████████████████████████████████████████████████████████████████████████████████████████████████████████▊                                                                                      | 3022/5000 [4:01:34<2:57:20,  5.38s/it]"
     ]
    },
    {
     "name": "stdout",
     "output_type": "stream",
     "text": [
      "All attempts failed for model deepseek-llm, metric cinematography, row 3021. Storing default value 5.\n",
      "P\n"
     ]
    },
    {
     "name": "stderr",
     "output_type": "stream",
     "text": [
      "Classifying rows:  60%|███████████████████████████████████████████████████████████████████████████████████████████████████████████████████████████████████▊                                                                                      | 3024/5000 [4:01:40<2:17:51,  4.19s/it]"
     ]
    },
    {
     "name": "stdout",
     "output_type": "stream",
     "text": [
      "All attempts failed for model deepseek-llm, metric plot, row 3024. Storing default value 5.\n",
      "Th\n",
      "All attempts failed for model deepseek-llm, metric characters, row 3024. Storing default value 5.\n",
      "B\n",
      "All attempts failed for model deepseek-llm, metric acting & performances, row 3024. Storing default value 5.\n",
      "Th\n"
     ]
    },
    {
     "name": "stderr",
     "output_type": "stream",
     "text": [
      "Classifying rows:  60%|███████████████████████████████████████████████████████████████████████████████████████████████████████████████████████████████████▉                                                                                      | 3025/5000 [4:02:15<7:27:28, 13.59s/it]"
     ]
    },
    {
     "name": "stdout",
     "output_type": "stream",
     "text": [
      "All attempts failed for model deepseek-llm, metric cinematography, row 3024. Storing default value 5.\n",
      "Th\n"
     ]
    },
    {
     "name": "stderr",
     "output_type": "stream",
     "text": [
      "Classifying rows:  61%|█████████████████████████████████████████████████████████████████████████████████████████████████████████████████████████████████████▍                                                                                    | 3060/5000 [4:05:21<3:05:52,  5.75s/it]"
     ]
    },
    {
     "name": "stdout",
     "output_type": "stream",
     "text": [
      "All attempts failed for model deepseek-llm, metric cinematography, row 3059. Storing default value 5.\n",
      "4.0\n"
     ]
    },
    {
     "name": "stderr",
     "output_type": "stream",
     "text": [
      "Classifying rows:  64%|██████████████████████████████████████████████████████████████████████████████████████████████████████████████████████████████████████████▋                                                                               | 3181/5000 [4:14:10<2:19:32,  4.60s/it]"
     ]
    },
    {
     "name": "stdout",
     "output_type": "stream",
     "text": [
      "All attempts failed for model deepseek-llm, metric characters, row 3181. Storing default value 5.\n",
      "T\n"
     ]
    },
    {
     "name": "stderr",
     "output_type": "stream",
     "text": [
      "Classifying rows:  64%|████████████████████████████████████████████████████████████████████████████████████████████████████████████████████████████████████████████▏                                                                             | 3216/5000 [4:17:00<1:58:08,  3.97s/it]"
     ]
    },
    {
     "name": "stdout",
     "output_type": "stream",
     "text": [
      "All attempts failed for model deepseek-llm, metric plot, row 3216. Storing default value 5.\n",
      "Th\n",
      "All attempts failed for model deepseek-llm, metric acting & performances, row 3216. Storing default value 5.\n",
      "Th\n"
     ]
    },
    {
     "name": "stderr",
     "output_type": "stream",
     "text": [
      "Classifying rows:  64%|████████████████████████████████████████████████████████████████████████████████████████████████████████████████████████████████████████████▎                                                                             | 3217/5000 [4:17:20<4:17:19,  8.66s/it]"
     ]
    },
    {
     "name": "stdout",
     "output_type": "stream",
     "text": [
      "All attempts failed for model deepseek-llm, metric cinematography, row 3216. Storing default value 5.\n",
      "Th\n"
     ]
    },
    {
     "name": "stderr",
     "output_type": "stream",
     "text": [
      "Classifying rows:  65%|████████████████████████████████████████████████████████████████████████████████████████████████████████████████████████████████████████████▊                                                                             | 3231/5000 [4:18:31<2:31:52,  5.15s/it]"
     ]
    },
    {
     "name": "stdout",
     "output_type": "stream",
     "text": [
      "All attempts failed for model deepseek-llm, metric cinematography, row 3230. Storing default value 5.\n",
      "T\n"
     ]
    },
    {
     "name": "stderr",
     "output_type": "stream",
     "text": [
      "Classifying rows:  65%|█████████████████████████████████████████████████████████████████████████████████████████████████████████████████████████████████████████████▉                                                                            | 3255/5000 [4:20:27<2:01:49,  4.19s/it]"
     ]
    },
    {
     "name": "stdout",
     "output_type": "stream",
     "text": [
      "All attempts failed for model deepseek-llm, metric plot, row 3255. Storing default value 5.\n",
      "T\n"
     ]
    },
    {
     "name": "stderr",
     "output_type": "stream",
     "text": [
      "Classifying rows:  68%|█████████████████████████████████████████████████████████████████████████████████████████████████████████████████████████████████████████████████████▏                                                                    | 3421/5000 [4:33:37<2:36:22,  5.94s/it]"
     ]
    },
    {
     "name": "stdout",
     "output_type": "stream",
     "text": [
      "All attempts failed for model deepseek-llm, metric cinematography, row 3420. Storing default value 5.\n",
      "Th\n"
     ]
    },
    {
     "name": "stderr",
     "output_type": "stream",
     "text": [
      "Classifying rows:  69%|██████████████████████████████████████████████████████████████████████████████████████████████████████████████████████████████████████████████████████▌                                                                   | 3453/5000 [4:36:33<3:10:34,  7.39s/it]"
     ]
    },
    {
     "name": "stdout",
     "output_type": "stream",
     "text": [
      "All attempts failed for model deepseek-llm, metric cinematography, row 3452. Storing default value 5.\n",
      "4/10\n"
     ]
    },
    {
     "name": "stderr",
     "output_type": "stream",
     "text": [
      "Classifying rows:  69%|██████████████████████████████████████████████████████████████████████████████████████████████████████████████████████████████████████████████████████▋                                                                   | 3455/5000 [4:36:43<2:40:17,  6.22s/it]"
     ]
    },
    {
     "name": "stdout",
     "output_type": "stream",
     "text": [
      "All attempts failed for model deepseek-llm, metric cinematography, row 3454. Storing default value 5.\n",
      "P\n"
     ]
    },
    {
     "name": "stderr",
     "output_type": "stream",
     "text": [
      "Classifying rows:  70%|████████████████████████████████████████████████████████████████████████████████████████████████████████████████████████████████████████████████████████                                                                  | 3488/5000 [4:39:18<1:38:07,  3.89s/it]"
     ]
    },
    {
     "name": "stdout",
     "output_type": "stream",
     "text": [
      "All attempts failed for model deepseek-llm, metric cinematography, row 3487. Storing default value 5.\n",
      "P\n"
     ]
    },
    {
     "name": "stderr",
     "output_type": "stream",
     "text": [
      "Classifying rows:  70%|████████████████████████████████████████████████████████████████████████████████████████████████████████████████████████████████████████████████████████▍                                                                 | 3497/5000 [4:40:04<2:26:56,  5.87s/it]"
     ]
    },
    {
     "name": "stdout",
     "output_type": "stream",
     "text": [
      "All attempts failed for model deepseek-llm, metric cinematography, row 3496. Storing default value 5.\n",
      "P\n"
     ]
    },
    {
     "name": "stderr",
     "output_type": "stream",
     "text": [
      "Classifying rows:  73%|███████████████████████████████████████████████████████████████████████████████████████████████████████████████████████████████████████████████████████████████▏                                                          | 3651/5000 [4:51:35<2:21:46,  6.31s/it]"
     ]
    },
    {
     "name": "stdout",
     "output_type": "stream",
     "text": [
      "All attempts failed for model deepseek-llm, metric cinematography, row 3650. Storing default value 5.\n",
      "#movi\n"
     ]
    },
    {
     "name": "stderr",
     "output_type": "stream",
     "text": [
      "Classifying rows:  73%|███████████████████████████████████████████████████████████████████████████████████████████████████████████████████████████████████████████████████████████████▎                                                          | 3654/5000 [4:51:52<2:06:43,  5.65s/it]"
     ]
    },
    {
     "name": "stdout",
     "output_type": "stream",
     "text": [
      "All attempts failed for model deepseek-llm, metric characters, row 3654. Storing default value 5.\n",
      "Th\n",
      "All attempts failed for model deepseek-llm, metric acting & performances, row 3654. Storing default value 5.\n",
      "Th\n"
     ]
    },
    {
     "name": "stderr",
     "output_type": "stream",
     "text": [
      "Classifying rows:  73%|███████████████████████████████████████████████████████████████████████████████████████████████████████████████████████████████████████████████████████████████▎                                                          | 3655/5000 [4:52:26<5:14:50, 14.05s/it]"
     ]
    },
    {
     "name": "stdout",
     "output_type": "stream",
     "text": [
      "All attempts failed for model deepseek-llm, metric cinematography, row 3654. Storing default value 5.\n",
      "Th\n"
     ]
    },
    {
     "name": "stderr",
     "output_type": "stream",
     "text": [
      "Classifying rows:  75%|███████████████████████████████████████████████████████████████████████████████████████████████████████████████████████████████████████████████████████████████████▋                                                      | 3754/5000 [4:59:44<1:50:23,  5.32s/it]"
     ]
    },
    {
     "name": "stdout",
     "output_type": "stream",
     "text": [
      "All attempts failed for model deepseek-llm, metric cinematography, row 3753. Storing default value 5.\n",
      "P\n"
     ]
    },
    {
     "name": "stderr",
     "output_type": "stream",
     "text": [
      "Classifying rows:  76%|█████████████████████████████████████████████████████████████████████████████████████████████████████████████████████████████████████████████████████████████████████▏                                                    | 3789/5000 [5:02:33<2:16:40,  6.77s/it]"
     ]
    },
    {
     "name": "stdout",
     "output_type": "stream",
     "text": [
      "All attempts failed for model deepseek-llm, metric cinematography, row 3788. Storing default value 5.\n",
      "T\n"
     ]
    },
    {
     "name": "stderr",
     "output_type": "stream",
     "text": [
      "Classifying rows:  79%|███████████████████████████████████████████████████████████████████████████████████████████████████████████████████████████████████████████████████████████████████████████▋                                              | 3939/5000 [5:14:24<1:14:38,  4.22s/it]"
     ]
    },
    {
     "name": "stdout",
     "output_type": "stream",
     "text": [
      "All attempts failed for model deepseek-llm, metric acting & performances, row 3939. Storing default value 5.\n",
      "Th\n"
     ]
    },
    {
     "name": "stderr",
     "output_type": "stream",
     "text": [
      "Classifying rows:  79%|███████████████████████████████████████████████████████████████████████████████████████████████████████████████████████████████████████████████████████████████████████████▊                                              | 3940/5000 [5:14:45<2:44:07,  9.29s/it]"
     ]
    },
    {
     "name": "stdout",
     "output_type": "stream",
     "text": [
      "All attempts failed for model deepseek-llm, metric cinematography, row 3939. Storing default value 5.\n",
      "Th\n"
     ]
    },
    {
     "name": "stderr",
     "output_type": "stream",
     "text": [
      "Classifying rows:  80%|██████████████████████████████████████████████████████████████████████████████████████████████████████████████████████████████████████████████████████████████████████████████▋                                           | 4007/5000 [5:19:39<2:06:02,  7.62s/it]"
     ]
    },
    {
     "name": "stdout",
     "output_type": "stream",
     "text": [
      "All attempts failed for model deepseek-llm, metric cinematography, row 4006. Storing default value 5.\n",
      "3/10\n"
     ]
    },
    {
     "name": "stderr",
     "output_type": "stream",
     "text": [
      "Classifying rows:  81%|████████████████████████████████████████████████████████████████████████████████████████████████████████████████████████████████████████████████████████████████████████████████▉                                         | 4059/5000 [5:23:36<1:17:33,  4.95s/it]"
     ]
    },
    {
     "name": "stdout",
     "output_type": "stream",
     "text": [
      "All attempts failed for model deepseek-llm, metric cinematography, row 4058. Storing default value 5.\n",
      "T\n"
     ]
    },
    {
     "name": "stderr",
     "output_type": "stream",
     "text": [
      "Classifying rows:  84%|███████████████████████████████████████████████████████████████████████████████████████████████████████████████████████████████████████████████████████████████████████████████████████▋                                  | 4212/5000 [5:35:51<1:49:29,  8.34s/it]"
     ]
    },
    {
     "name": "stdout",
     "output_type": "stream",
     "text": [
      "All attempts failed for model deepseek-llm, metric characters, row 4212. Storing default value 5.\n",
      "\n"
     ]
    },
    {
     "name": "stderr",
     "output_type": "stream",
     "text": [
      "Classifying rows:  85%|███████████████████████████████████████████████████████████████████████████████████████████████████████████████████████████████████████████████████████████████████████████████████████████▍                                | 4259/5000 [5:39:16<58:49,  4.76s/it]"
     ]
    },
    {
     "name": "stdout",
     "output_type": "stream",
     "text": [
      "All attempts failed for model deepseek-llm, metric plot, row 4259. Storing default value 5.\n",
      "T\n"
     ]
    },
    {
     "name": "stderr",
     "output_type": "stream",
     "text": [
      "Classifying rows:  85%|██████████████████████████████████████████████████████████████████████████████████████████████████████████████████████████████████████████████████████████████████████████████████████████▎                               | 4274/5000 [5:40:43<1:12:08,  5.96s/it]"
     ]
    },
    {
     "name": "stdout",
     "output_type": "stream",
     "text": [
      "All attempts failed for model deepseek-llm, metric cinematography, row 4273. Storing default value 5.\n",
      "T\n"
     ]
    },
    {
     "name": "stderr",
     "output_type": "stream",
     "text": [
      "Classifying rows:  86%|█████████████████████████████████████████████████████████████████████████████████████████████████████████████████████████████████████████████████████████████████████████████████████████████                               | 4297/5000 [5:42:18<52:44,  4.50s/it]"
     ]
    },
    {
     "name": "stdout",
     "output_type": "stream",
     "text": [
      "All attempts failed for model deepseek-llm, metric acting & performances, row 4297. Storing default value 5.\n",
      "Th\n"
     ]
    },
    {
     "name": "stderr",
     "output_type": "stream",
     "text": [
      "Classifying rows:  87%|███████████████████████████████████████████████████████████████████████████████████████████████████████████████████████████████████████████████████████████████████████████████████████████████▌                            | 4353/5000 [5:46:41<44:08,  4.09s/it]"
     ]
    },
    {
     "name": "stdout",
     "output_type": "stream",
     "text": [
      "All attempts failed for model deepseek-llm, metric acting & performances, row 4353. Storing default value 5.\n",
      "Th\n"
     ]
    },
    {
     "name": "stderr",
     "output_type": "stream",
     "text": [
      "Classifying rows:  87%|█████████████████████████████████████████████████████████████████████████████████████████████████████████████████████████████████████████████████████████████████████████████████████████████▊                            | 4354/5000 [5:46:58<1:27:01,  8.08s/it]"
     ]
    },
    {
     "name": "stdout",
     "output_type": "stream",
     "text": [
      "All attempts failed for model deepseek-llm, metric cinematography, row 4353. Storing default value 5.\n",
      "Th\n"
     ]
    },
    {
     "name": "stderr",
     "output_type": "stream",
     "text": [
      "Classifying rows:  88%|███████████████████████████████████████████████████████████████████████████████████████████████████████████████████████████████████████████████████████████████████████████████████████████████▌                          | 4393/5000 [5:50:20<1:34:14,  9.32s/it]"
     ]
    },
    {
     "name": "stdout",
     "output_type": "stream",
     "text": [
      "All attempts failed for model deepseek-llm, metric cinematography, row 4392. Storing default value 5.\n",
      "Th\n"
     ]
    },
    {
     "name": "stderr",
     "output_type": "stream",
     "text": [
      "Classifying rows:  88%|██████████████████████████████████████████████████████████████████████████████████████████████████████████████████████████████████████████████████████████████████████████████████████████████████▌                         | 4422/5000 [5:52:23<51:24,  5.34s/it]"
     ]
    },
    {
     "name": "stdout",
     "output_type": "stream",
     "text": [
      "All attempts failed for model deepseek-llm, metric plot, row 4422. Storing default value 5.\n",
      "3/10\n",
      "All attempts failed for model deepseek-llm, metric characters, row 4422. Storing default value 5.\n",
      "4/10\n",
      "All attempts failed for model deepseek-llm, metric acting & performances, row 4422. Storing default value 5.\n",
      "4/10\n"
     ]
    },
    {
     "name": "stderr",
     "output_type": "stream",
     "text": [
      "Classifying rows:  88%|████████████████████████████████████████████████████████████████████████████████████████████████████████████████████████████████████████████████████████████████████████████████████████████████▊                         | 4423/5000 [5:52:42<1:31:05,  9.47s/it]"
     ]
    },
    {
     "name": "stdout",
     "output_type": "stream",
     "text": [
      "All attempts failed for model deepseek-llm, metric cinematography, row 4422. Storing default value 5.\n",
      "St\n"
     ]
    },
    {
     "name": "stderr",
     "output_type": "stream",
     "text": [
      "Classifying rows:  89%|███████████████████████████████████████████████████████████████████████████████████████████████████████████████████████████████████████████████████████████████████████████████████████████████████▉                        | 4452/5000 [5:55:18<54:34,  5.98s/it]"
     ]
    },
    {
     "name": "stdout",
     "output_type": "stream",
     "text": [
      "All attempts failed for model deepseek-llm, metric plot, row 4452. Storing default value 5.\n",
      "Th\n",
      "All attempts failed for model deepseek-llm, metric acting & performances, row 4452. Storing default value 5.\n",
      "4/10\n"
     ]
    },
    {
     "name": "stderr",
     "output_type": "stream",
     "text": [
      "Classifying rows:  89%|██████████████████████████████████████████████████████████████████████████████████████████████████████████████████████████████████████████████████████████████████████████████████████████████████▏                       | 4453/5000 [5:55:51<2:09:03, 14.16s/it]"
     ]
    },
    {
     "name": "stdout",
     "output_type": "stream",
     "text": [
      "All attempts failed for model deepseek-llm, metric cinematography, row 4452. Storing default value 5.\n",
      "Th\n"
     ]
    },
    {
     "name": "stderr",
     "output_type": "stream",
     "text": [
      "Classifying rows:  90%|█████████████████████████████████████████████████████████████████████████████████████████████████████████████████████████████████████████████████████████████████████████████████████████████████████▏                      | 4482/5000 [5:57:58<30:14,  3.50s/it]"
     ]
    },
    {
     "name": "stdout",
     "output_type": "stream",
     "text": [
      "All attempts failed for model deepseek-llm, metric plot, row 4482. Storing default value 5.\n",
      "P\n"
     ]
    },
    {
     "name": "stderr",
     "output_type": "stream",
     "text": [
      "Classifying rows:  91%|████████████████████████████████████████████████████████████████████████████████████████████████████████████████████████████████████████████████████████████████████████████████████████████████████████▊                   | 4565/5000 [6:04:41<42:02,  5.80s/it]"
     ]
    },
    {
     "name": "stdout",
     "output_type": "stream",
     "text": [
      "All attempts failed for model deepseek-llm, metric acting & performances, row 4565. Storing default value 5.\n",
      "4/10\n"
     ]
    },
    {
     "name": "stderr",
     "output_type": "stream",
     "text": [
      "Classifying rows:  91%|███████████████████████████████████████████████████████████████████████████████████████████████████████████████████████████████████████████████████████████████████████████████████████████████████████                   | 4566/5000 [6:04:58<1:05:46,  9.09s/it]"
     ]
    },
    {
     "name": "stdout",
     "output_type": "stream",
     "text": [
      "All attempts failed for model deepseek-llm, metric cinematography, row 4565. Storing default value 5.\n",
      "9/10\n"
     ]
    },
    {
     "name": "stderr",
     "output_type": "stream",
     "text": [
      "Classifying rows:  91%|████████████████████████████████████████████████████████████████████████████████████████████████████████████████████████████████████████████████████████████████████████████████████████████████████████▉                   | 4568/5000 [6:05:05<45:02,  6.26s/it]"
     ]
    },
    {
     "name": "stdout",
     "output_type": "stream",
     "text": [
      "All attempts failed for model deepseek-llm, metric characters, row 4568. Storing default value 5.\n",
      "Th\n",
      "All attempts failed for model deepseek-llm, metric acting & performances, row 4568. Storing default value 5.\n",
      "Th\n"
     ]
    },
    {
     "name": "stderr",
     "output_type": "stream",
     "text": [
      "Classifying rows:  91%|███████████████████████████████████████████████████████████████████████████████████████████████████████████████████████████████████████████████████████████████████████████████████████████████████████▏                  | 4569/5000 [6:05:24<1:12:36, 10.11s/it]"
     ]
    },
    {
     "name": "stdout",
     "output_type": "stream",
     "text": [
      "All attempts failed for model deepseek-llm, metric cinematography, row 4568. Storing default value 5.\n",
      "Th\n"
     ]
    },
    {
     "name": "stderr",
     "output_type": "stream",
     "text": [
      "Classifying rows:  94%|██████████████████████████████████████████████████████████████████████████████████████████████████████████████████████████████████████████████████████████████████████████████████████████████████████████████▏             | 4686/5000 [6:15:12<40:19,  7.70s/it]"
     ]
    },
    {
     "name": "stdout",
     "output_type": "stream",
     "text": [
      "All attempts failed for model deepseek-llm, metric plot, row 4686. Storing default value 5.\n",
      "P\n"
     ]
    },
    {
     "name": "stderr",
     "output_type": "stream",
     "text": [
      "Classifying rows:  95%|█████████████████████████████████████████████████████████████████████████████████████████████████████████████████████████████████████████████████████████████████████████████████████████████████████████████████▍          | 4761/5000 [6:21:03<22:43,  5.70s/it]"
     ]
    },
    {
     "name": "stdout",
     "output_type": "stream",
     "text": [
      "All attempts failed for model deepseek-llm, metric characters, row 4761. Storing default value 5.\n",
      "Th\n"
     ]
    },
    {
     "name": "stderr",
     "output_type": "stream",
     "text": [
      "Classifying rows:  96%|██████████████████████████████████████████████████████████████████████████████████████████████████████████████████████████████████████████████████████████████████████████████████████████████████████████████████▏         | 4776/5000 [6:22:33<19:03,  5.10s/it]"
     ]
    },
    {
     "name": "stdout",
     "output_type": "stream",
     "text": [
      "All attempts failed for model deepseek-llm, metric plot, row 4776. Storing default value 5.\n",
      "Th\n"
     ]
    },
    {
     "name": "stderr",
     "output_type": "stream",
     "text": [
      "Classifying rows:  96%|██████████████████████████████████████████████████████████████████████████████████████████████████████████████████████████████████████████████████████████████████████████████████████████████████████████████████▏         | 4777/5000 [6:22:47<28:41,  7.72s/it]"
     ]
    },
    {
     "name": "stdout",
     "output_type": "stream",
     "text": [
      "All attempts failed for model deepseek-llm, metric cinematography, row 4776. Storing default value 5.\n",
      "Th\n"
     ]
    },
    {
     "name": "stderr",
     "output_type": "stream",
     "text": [
      "Classifying rows:  96%|███████████████████████████████████████████████████████████████████████████████████████████████████████████████████████████████████████████████████████████████████████████████████████████████████████████████████▋        | 4810/5000 [6:25:41<22:04,  6.97s/it]"
     ]
    },
    {
     "name": "stdout",
     "output_type": "stream",
     "text": [
      "All attempts failed for model deepseek-llm, metric cinematography, row 4809. Storing default value 5.\n",
      "T\n"
     ]
    },
    {
     "name": "stderr",
     "output_type": "stream",
     "text": [
      "Classifying rows:  97%|█████████████████████████████████████████████████████████████████████████████████████████████████████████████████████████████████████████████████████████████████████████████████████████████████████████████████████▉      | 4863/5000 [6:29:38<11:03,  4.85s/it]"
     ]
    },
    {
     "name": "stdout",
     "output_type": "stream",
     "text": [
      "All attempts failed for model deepseek-llm, metric plot, row 4863. Storing default value 5.\n",
      "Th\n",
      "All attempts failed for model deepseek-llm, metric characters, row 4863. Storing default value 5.\n",
      "Th\n",
      "All attempts failed for model deepseek-llm, metric acting & performances, row 4863. Storing default value 5.\n",
      "Th\n"
     ]
    },
    {
     "name": "stderr",
     "output_type": "stream",
     "text": [
      "Classifying rows:  97%|██████████████████████████████████████████████████████████████████████████████████████████████████████████████████████████████████████████████████████████████████████████████████████████████████████████████████████      | 4864/5000 [6:29:59<22:09,  9.77s/it]"
     ]
    },
    {
     "name": "stdout",
     "output_type": "stream",
     "text": [
      "All attempts failed for model deepseek-llm, metric cinematography, row 4863. Storing default value 5.\n",
      "Th\n"
     ]
    },
    {
     "name": "stderr",
     "output_type": "stream",
     "text": [
      "Classifying rows:  98%|███████████████████████████████████████████████████████████████████████████████████████████████████████████████████████████████████████████████████████████████████████████████████████████████████████████████████████▌    | 4899/5000 [6:32:52<07:06,  4.22s/it]"
     ]
    },
    {
     "name": "stdout",
     "output_type": "stream",
     "text": [
      "All attempts failed for model deepseek-llm, metric plot, row 4899. Storing default value 5.\n",
      "Th\n",
      "All attempts failed for model deepseek-llm, metric characters, row 4899. Storing default value 5.\n",
      "Th\n",
      "All attempts failed for model deepseek-llm, metric acting & performances, row 4899. Storing default value 5.\n",
      "Th\n"
     ]
    },
    {
     "name": "stderr",
     "output_type": "stream",
     "text": [
      "Classifying rows:  98%|███████████████████████████████████████████████████████████████████████████████████████████████████████████████████████████████████████████████████████████████████████████████████████████████████████████████████████▌    | 4900/5000 [6:33:12<15:15,  9.15s/it]"
     ]
    },
    {
     "name": "stdout",
     "output_type": "stream",
     "text": [
      "All attempts failed for model deepseek-llm, metric cinematography, row 4899. Storing default value 5.\n",
      "Th\n"
     ]
    },
    {
     "name": "stderr",
     "output_type": "stream",
     "text": [
      "Classifying rows:  98%|███████████████████████████████████████████████████████████████████████████████████████████████████████████████████████████████████████████████████████████████████████████████████████████████████████████████████████▋    | 4902/5000 [6:33:26<13:44,  8.42s/it]"
     ]
    },
    {
     "name": "stdout",
     "output_type": "stream",
     "text": [
      "All attempts failed for model deepseek-llm, metric cinematography, row 4901. Storing default value 5.\n",
      "B\n"
     ]
    },
    {
     "name": "stderr",
     "output_type": "stream",
     "text": [
      "Classifying rows:  99%|█████████████████████████████████████████████████████████████████████████████████████████████████████████████████████████████████████████████████████████████████████████████████████████████████████████████████████████▊  | 4951/5000 [6:37:32<04:26,  5.45s/it]"
     ]
    },
    {
     "name": "stdout",
     "output_type": "stream",
     "text": [
      "All attempts failed for model deepseek-llm, metric plot, row 4951. Storing default value 5.\n",
      "Th\n"
     ]
    },
    {
     "name": "stderr",
     "output_type": "stream",
     "text": [
      "Classifying rows: 100%|███████████████████████████████████████████████████████████████████████████████████████████████████████████████████████████████████████████████████████████████████████████████████████████████████████████████████████████▍| 4986/5000 [6:40:14<01:14,  5.35s/it]"
     ]
    },
    {
     "name": "stdout",
     "output_type": "stream",
     "text": [
      "All attempts failed for model deepseek-llm, metric cinematography, row 4985. Storing default value 5.\n",
      "T\n"
     ]
    },
    {
     "name": "stderr",
     "output_type": "stream",
     "text": [
      "Classifying rows: 100%|████████████████████████████████████████████████████████████████████████████████████████████████████████████████████████████████████████████████████████████████████████████████████████████████████████████████████████████| 5000/5000 [6:41:12<00:00,  4.81s/it]\n"
     ]
    }
   ],
   "source": [
    "# Iterate through models\n",
    "for index, model in enumerate(models):\n",
    "    print(\"Processing Model: \" + model + \" (Model \" + str(index + 1) + \"/\" + str(len(models)) + \")\")\n",
    "\n",
    "    # For each row\n",
    "    for index, row in tqdm(df.iterrows(), total=len(df), desc=\"Classifying rows\"):\n",
    "        # For each feature that we will generate \n",
    "        for metric in metrics:\n",
    "            # Format the prompt based on the row (review) and the metric\n",
    "            formatted_prompt = prompt.format(review=row['review'], metric=metric)\n",
    "\n",
    "            raw_response = None\n",
    "            attempts = 0\n",
    "            success = False\n",
    "            \n",
    "            # Try up to 10 times\n",
    "            while attempts < 10 and not success:\n",
    "                try:\n",
    "                    # Generate feature \n",
    "                    raw_response = ollama.generate(model=model, prompt=formatted_prompt, options={\"stop\": stop_chars})['response'] # Stop with letters\n",
    "                    response = int(''.join(filter(str.isdigit, raw_response)))\n",
    "    \n",
    "                    # Assert validity response\n",
    "                    assert 1 <= response <= 10\n",
    "                    \n",
    "                    # Store response\n",
    "                    df.at[index, f\"{model}_{metric}\"] = response\n",
    "                    success = True\n",
    "                    \n",
    "                except Exception as e:\n",
    "                    attempts += 1\n",
    "            \n",
    "            # If all attempts failed, store 5\n",
    "            if not success:\n",
    "                df.at[index, f\"{model}_{metric}\"] = 5\n",
    "                print(f\"All attempts failed for model {model}, metric {metric}, row {index}. Storing default value 5.\")\n",
    "                print(raw_response)"
   ]
  },
  {
   "cell_type": "code",
   "execution_count": 15,
   "id": "88c50596-8a12-4d00-8ddd-76bdce04281b",
   "metadata": {},
   "outputs": [],
   "source": [
    "models = ['llama3.2:1b', 'llama3.2:3b', 'gemma3:1b', 'gemma3:4b', 'llama3.1', 'dolphin3', 'mistral', 'deepseek-llm']"
   ]
  },
  {
   "cell_type": "code",
   "execution_count": 16,
   "id": "dc9df93b-16d5-4a3a-942f-39cac7d403a3",
   "metadata": {},
   "outputs": [
    {
     "data": {
      "text/html": [
       "<div>\n",
       "<style scoped>\n",
       "    .dataframe tbody tr th:only-of-type {\n",
       "        vertical-align: middle;\n",
       "    }\n",
       "\n",
       "    .dataframe tbody tr th {\n",
       "        vertical-align: top;\n",
       "    }\n",
       "\n",
       "    .dataframe thead th {\n",
       "        text-align: right;\n",
       "    }\n",
       "</style>\n",
       "<table border=\"1\" class=\"dataframe\">\n",
       "  <thead>\n",
       "    <tr style=\"text-align: right;\">\n",
       "      <th></th>\n",
       "      <th>review</th>\n",
       "      <th>sentiment</th>\n",
       "      <th>llama3.2:1b_plot</th>\n",
       "      <th>llama3.2:1b_characters</th>\n",
       "      <th>llama3.2:1b_acting &amp; performances</th>\n",
       "      <th>llama3.2:1b_cinematography</th>\n",
       "      <th>llama3.2:3b_plot</th>\n",
       "      <th>llama3.2:3b_characters</th>\n",
       "      <th>llama3.2:3b_acting &amp; performances</th>\n",
       "      <th>llama3.2:3b_cinematography</th>\n",
       "      <th>...</th>\n",
       "      <th>dolphin3_acting &amp; performances</th>\n",
       "      <th>dolphin3_cinematography</th>\n",
       "      <th>mistral_plot</th>\n",
       "      <th>mistral_characters</th>\n",
       "      <th>mistral_acting &amp; performances</th>\n",
       "      <th>mistral_cinematography</th>\n",
       "      <th>deepseek-llm_plot</th>\n",
       "      <th>deepseek-llm_characters</th>\n",
       "      <th>deepseek-llm_acting &amp; performances</th>\n",
       "      <th>deepseek-llm_cinematography</th>\n",
       "    </tr>\n",
       "  </thead>\n",
       "  <tbody>\n",
       "    <tr>\n",
       "      <th>0</th>\n",
       "      <td>One of the other reviewers has mentioned that ...</td>\n",
       "      <td>1</td>\n",
       "      <td>4.0</td>\n",
       "      <td>1.0</td>\n",
       "      <td>9.0</td>\n",
       "      <td>5.0</td>\n",
       "      <td>9.0</td>\n",
       "      <td>8.0</td>\n",
       "      <td>8.0</td>\n",
       "      <td>8.0</td>\n",
       "      <td>...</td>\n",
       "      <td>9.0</td>\n",
       "      <td>8.0</td>\n",
       "      <td>8.0</td>\n",
       "      <td>8.0</td>\n",
       "      <td>8.0</td>\n",
       "      <td>8.0</td>\n",
       "      <td>7.0</td>\n",
       "      <td>9.0</td>\n",
       "      <td>9.0</td>\n",
       "      <td>7.0</td>\n",
       "    </tr>\n",
       "    <tr>\n",
       "      <th>1</th>\n",
       "      <td>A wonderful little production. \\nThe filming t...</td>\n",
       "      <td>1</td>\n",
       "      <td>6.0</td>\n",
       "      <td>5.0</td>\n",
       "      <td>8.0</td>\n",
       "      <td>3.0</td>\n",
       "      <td>9.0</td>\n",
       "      <td>8.0</td>\n",
       "      <td>8.0</td>\n",
       "      <td>8.0</td>\n",
       "      <td>...</td>\n",
       "      <td>9.0</td>\n",
       "      <td>8.0</td>\n",
       "      <td>9.0</td>\n",
       "      <td>9.0</td>\n",
       "      <td>9.0</td>\n",
       "      <td>9.0</td>\n",
       "      <td>4.0</td>\n",
       "      <td>4.0</td>\n",
       "      <td>4.0</td>\n",
       "      <td>4.0</td>\n",
       "    </tr>\n",
       "    <tr>\n",
       "      <th>2</th>\n",
       "      <td>I thought this was a wonderful way to spend ti...</td>\n",
       "      <td>1</td>\n",
       "      <td>3.0</td>\n",
       "      <td>2.0</td>\n",
       "      <td>1.0</td>\n",
       "      <td>3.0</td>\n",
       "      <td>7.0</td>\n",
       "      <td>8.0</td>\n",
       "      <td>8.0</td>\n",
       "      <td>8.0</td>\n",
       "      <td>...</td>\n",
       "      <td>8.0</td>\n",
       "      <td>7.0</td>\n",
       "      <td>8.0</td>\n",
       "      <td>7.0</td>\n",
       "      <td>8.0</td>\n",
       "      <td>8.0</td>\n",
       "      <td>4.0</td>\n",
       "      <td>4.0</td>\n",
       "      <td>4.0</td>\n",
       "      <td>4.0</td>\n",
       "    </tr>\n",
       "    <tr>\n",
       "      <th>3</th>\n",
       "      <td>Basically there's a family where a little boy ...</td>\n",
       "      <td>0</td>\n",
       "      <td>2.0</td>\n",
       "      <td>2.0</td>\n",
       "      <td>2.0</td>\n",
       "      <td>2.0</td>\n",
       "      <td>5.0</td>\n",
       "      <td>7.0</td>\n",
       "      <td>6.0</td>\n",
       "      <td>4.0</td>\n",
       "      <td>...</td>\n",
       "      <td>5.0</td>\n",
       "      <td>6.0</td>\n",
       "      <td>5.0</td>\n",
       "      <td>6.0</td>\n",
       "      <td>6.0</td>\n",
       "      <td>6.0</td>\n",
       "      <td>7.0</td>\n",
       "      <td>4.0</td>\n",
       "      <td>6.0</td>\n",
       "      <td>4.0</td>\n",
       "    </tr>\n",
       "    <tr>\n",
       "      <th>4</th>\n",
       "      <td>Petter Mattei's \"Love in the Time of Money\" is...</td>\n",
       "      <td>1</td>\n",
       "      <td>5.0</td>\n",
       "      <td>3.0</td>\n",
       "      <td>6.0</td>\n",
       "      <td>6.0</td>\n",
       "      <td>7.0</td>\n",
       "      <td>8.0</td>\n",
       "      <td>7.0</td>\n",
       "      <td>8.0</td>\n",
       "      <td>...</td>\n",
       "      <td>9.0</td>\n",
       "      <td>9.0</td>\n",
       "      <td>7.0</td>\n",
       "      <td>8.0</td>\n",
       "      <td>8.0</td>\n",
       "      <td>9.0</td>\n",
       "      <td>4.0</td>\n",
       "      <td>4.0</td>\n",
       "      <td>4.0</td>\n",
       "      <td>4.0</td>\n",
       "    </tr>\n",
       "  </tbody>\n",
       "</table>\n",
       "<p>5 rows × 34 columns</p>\n",
       "</div>"
      ],
      "text/plain": [
       "                                              review  sentiment  \\\n",
       "0  One of the other reviewers has mentioned that ...          1   \n",
       "1  A wonderful little production. \\nThe filming t...          1   \n",
       "2  I thought this was a wonderful way to spend ti...          1   \n",
       "3  Basically there's a family where a little boy ...          0   \n",
       "4  Petter Mattei's \"Love in the Time of Money\" is...          1   \n",
       "\n",
       "   llama3.2:1b_plot  llama3.2:1b_characters  \\\n",
       "0               4.0                     1.0   \n",
       "1               6.0                     5.0   \n",
       "2               3.0                     2.0   \n",
       "3               2.0                     2.0   \n",
       "4               5.0                     3.0   \n",
       "\n",
       "   llama3.2:1b_acting & performances  llama3.2:1b_cinematography  \\\n",
       "0                                9.0                         5.0   \n",
       "1                                8.0                         3.0   \n",
       "2                                1.0                         3.0   \n",
       "3                                2.0                         2.0   \n",
       "4                                6.0                         6.0   \n",
       "\n",
       "   llama3.2:3b_plot  llama3.2:3b_characters  \\\n",
       "0               9.0                     8.0   \n",
       "1               9.0                     8.0   \n",
       "2               7.0                     8.0   \n",
       "3               5.0                     7.0   \n",
       "4               7.0                     8.0   \n",
       "\n",
       "   llama3.2:3b_acting & performances  llama3.2:3b_cinematography  ...  \\\n",
       "0                                8.0                         8.0  ...   \n",
       "1                                8.0                         8.0  ...   \n",
       "2                                8.0                         8.0  ...   \n",
       "3                                6.0                         4.0  ...   \n",
       "4                                7.0                         8.0  ...   \n",
       "\n",
       "   dolphin3_acting & performances  dolphin3_cinematography  mistral_plot  \\\n",
       "0                             9.0                      8.0           8.0   \n",
       "1                             9.0                      8.0           9.0   \n",
       "2                             8.0                      7.0           8.0   \n",
       "3                             5.0                      6.0           5.0   \n",
       "4                             9.0                      9.0           7.0   \n",
       "\n",
       "   mistral_characters  mistral_acting & performances  mistral_cinematography  \\\n",
       "0                 8.0                            8.0                     8.0   \n",
       "1                 9.0                            9.0                     9.0   \n",
       "2                 7.0                            8.0                     8.0   \n",
       "3                 6.0                            6.0                     6.0   \n",
       "4                 8.0                            8.0                     9.0   \n",
       "\n",
       "   deepseek-llm_plot  deepseek-llm_characters  \\\n",
       "0                7.0                      9.0   \n",
       "1                4.0                      4.0   \n",
       "2                4.0                      4.0   \n",
       "3                7.0                      4.0   \n",
       "4                4.0                      4.0   \n",
       "\n",
       "   deepseek-llm_acting & performances  deepseek-llm_cinematography  \n",
       "0                                 9.0                          7.0  \n",
       "1                                 4.0                          4.0  \n",
       "2                                 4.0                          4.0  \n",
       "3                                 6.0                          4.0  \n",
       "4                                 4.0                          4.0  \n",
       "\n",
       "[5 rows x 34 columns]"
      ]
     },
     "execution_count": 16,
     "metadata": {},
     "output_type": "execute_result"
    }
   ],
   "source": [
    "df.head()"
   ]
  },
  {
   "cell_type": "markdown",
   "id": "a6a5b15a-c6d5-436f-b701-d83ff3dd7ad0",
   "metadata": {},
   "source": [
    "# Comparison"
   ]
  },
  {
   "cell_type": "markdown",
   "id": "1995fdd2-a7d8-4930-a9e7-83756e422625",
   "metadata": {},
   "source": [
    "### Split the data\n",
    "We make a train and test split, however the train is seperated in the LLM generated features and the review text"
   ]
  },
  {
   "cell_type": "code",
   "execution_count": 17,
   "id": "971a3e82-39d0-4046-8d32-690d0c713f47",
   "metadata": {},
   "outputs": [],
   "source": [
    "def experimental_setup(data, model):\n",
    "    # We select the cols review, sentiment and the metric columns for the model (LLM)\n",
    "    selected_cols = ['review', 'sentiment'] + [f\"{model}_{metric}\" for metric in metrics]\n",
    "    df = data.copy()[selected_cols]\n",
    "    \n",
    "    # Split into X and y\n",
    "    X = df.drop('sentiment', axis=1)\n",
    "    y = df['sentiment']\n",
    "    \n",
    "    # Split data into train and test set\n",
    "    X_train, X_test, y_train, y_test = train_test_split(X, y, test_size=0.2, random_state=42)\n",
    "    X_train_text = X_train['review']\n",
    "    X_train_tab = X_train.drop('review', axis=1)\n",
    "    X_test_text = X_test['review']\n",
    "    X_test_tab = X_test.drop('review', axis=1)\n",
    "    \n",
    "    # Transform text reviews to Bag of Words representation\n",
    "    X_train_text = vectorizer.fit_transform(X_train_text)\n",
    "    X_test_text = vectorizer.transform(X_test_text)\n",
    "    \n",
    "    # Print the shapes of the sets\n",
    "    print(f\"Train shapes - Text: {X_train_text.shape}, Tab: {X_train_tab.shape}, Label: {y_train.shape}\")\n",
    "    print(f\"Test shapes  - Text: {X_test_text.shape}, Tab: {X_test_tab.shape}, Label: {y_test.shape}\")\n",
    "    print()\n",
    "\n",
    "    return X_train_text, X_train_tab, y_train, X_test_text, X_test_tab, y_test"
   ]
  },
  {
   "cell_type": "markdown",
   "id": "94e2e44b-fd1a-4bd7-8df3-8634f966eabd",
   "metadata": {},
   "source": [
    "### Method to train model and get performance metrics"
   ]
  },
  {
   "cell_type": "code",
   "execution_count": 18,
   "id": "42490c48-f957-46d8-a244-bcee84b02856",
   "metadata": {},
   "outputs": [],
   "source": [
    "# Function to train and evaluate models with multiple metrics\n",
    "def evaluate_models_with_metrics(models, X_train, y_train, X_test, y_test):\n",
    "    results = []\n",
    "\n",
    "    for name, model in models:      \n",
    "        # Train the model\n",
    "        model.fit(X_train, y_train)\n",
    "        \n",
    "        # Predict on test set\n",
    "        y_test_pred = model.predict(X_test)\n",
    "\n",
    "        # Store results for the model\n",
    "        model_results = {\n",
    "            'Model': name,\n",
    "            'Test Accuracy': accuracy_score(y_test, y_test_pred),\n",
    "            'Test Precision': precision_score(y_test, y_test_pred),\n",
    "            'Test Recall': recall_score(y_test, y_test_pred),\n",
    "            'Test F1-Score': f1_score(y_test, y_test_pred)\n",
    "        }\n",
    "        \n",
    "        results.append(model_results)\n",
    "\n",
    "    # Convert results to a pandas DataFrame\n",
    "    results_df = pd.DataFrame(results).set_index(\"Model\")\n",
    "    \n",
    "    return results_df"
   ]
  },
  {
   "cell_type": "markdown",
   "id": "3e80e860-0da1-424a-948d-6dca7231f5e8",
   "metadata": {},
   "source": [
    "## Textual vs LLM Generated Features - Classifcations"
   ]
  },
  {
   "cell_type": "code",
   "execution_count": 19,
   "id": "304cad29-ee21-4f21-8d94-4c2c5412d151",
   "metadata": {},
   "outputs": [
    {
     "name": "stdout",
     "output_type": "stream",
     "text": [
      "Processing Model: llama3.2:1b (Model 1/8)\n",
      "Train shapes - Text: (4000, 10000), Tab: (4000, 4), Label: (4000,)\n",
      "Test shapes  - Text: (1000, 10000), Tab: (1000, 4), Label: (1000,)\n",
      "\n",
      "Predictions on review text:\n"
     ]
    },
    {
     "data": {
      "text/html": [
       "<div>\n",
       "<style scoped>\n",
       "    .dataframe tbody tr th:only-of-type {\n",
       "        vertical-align: middle;\n",
       "    }\n",
       "\n",
       "    .dataframe tbody tr th {\n",
       "        vertical-align: top;\n",
       "    }\n",
       "\n",
       "    .dataframe thead th {\n",
       "        text-align: right;\n",
       "    }\n",
       "</style>\n",
       "<table border=\"1\" class=\"dataframe\">\n",
       "  <thead>\n",
       "    <tr style=\"text-align: right;\">\n",
       "      <th></th>\n",
       "      <th>Test Accuracy</th>\n",
       "      <th>Test Precision</th>\n",
       "      <th>Test Recall</th>\n",
       "      <th>Test F1-Score</th>\n",
       "    </tr>\n",
       "    <tr>\n",
       "      <th>Model</th>\n",
       "      <th></th>\n",
       "      <th></th>\n",
       "      <th></th>\n",
       "      <th></th>\n",
       "    </tr>\n",
       "  </thead>\n",
       "  <tbody>\n",
       "    <tr>\n",
       "      <th>Logistic Regression</th>\n",
       "      <td>0.866</td>\n",
       "      <td>0.840081</td>\n",
       "      <td>0.882979</td>\n",
       "      <td>0.860996</td>\n",
       "    </tr>\n",
       "    <tr>\n",
       "      <th>Random Forest</th>\n",
       "      <td>0.834</td>\n",
       "      <td>0.833333</td>\n",
       "      <td>0.808511</td>\n",
       "      <td>0.820734</td>\n",
       "    </tr>\n",
       "    <tr>\n",
       "      <th>SVM</th>\n",
       "      <td>0.841</td>\n",
       "      <td>0.806706</td>\n",
       "      <td>0.870213</td>\n",
       "      <td>0.837257</td>\n",
       "    </tr>\n",
       "    <tr>\n",
       "      <th>KNN</th>\n",
       "      <td>0.586</td>\n",
       "      <td>0.560606</td>\n",
       "      <td>0.551064</td>\n",
       "      <td>0.555794</td>\n",
       "    </tr>\n",
       "    <tr>\n",
       "      <th>Gradient Boosting</th>\n",
       "      <td>0.786</td>\n",
       "      <td>0.742424</td>\n",
       "      <td>0.834043</td>\n",
       "      <td>0.785571</td>\n",
       "    </tr>\n",
       "  </tbody>\n",
       "</table>\n",
       "</div>"
      ],
      "text/plain": [
       "                     Test Accuracy  Test Precision  Test Recall  Test F1-Score\n",
       "Model                                                                         \n",
       "Logistic Regression          0.866        0.840081     0.882979       0.860996\n",
       "Random Forest                0.834        0.833333     0.808511       0.820734\n",
       "SVM                          0.841        0.806706     0.870213       0.837257\n",
       "KNN                          0.586        0.560606     0.551064       0.555794\n",
       "Gradient Boosting            0.786        0.742424     0.834043       0.785571"
      ]
     },
     "metadata": {},
     "output_type": "display_data"
    },
    {
     "name": "stdout",
     "output_type": "stream",
     "text": [
      "Predictions on tabular features derived from text (by LLM):\n"
     ]
    },
    {
     "data": {
      "text/html": [
       "<div>\n",
       "<style scoped>\n",
       "    .dataframe tbody tr th:only-of-type {\n",
       "        vertical-align: middle;\n",
       "    }\n",
       "\n",
       "    .dataframe tbody tr th {\n",
       "        vertical-align: top;\n",
       "    }\n",
       "\n",
       "    .dataframe thead th {\n",
       "        text-align: right;\n",
       "    }\n",
       "</style>\n",
       "<table border=\"1\" class=\"dataframe\">\n",
       "  <thead>\n",
       "    <tr style=\"text-align: right;\">\n",
       "      <th></th>\n",
       "      <th>Test Accuracy</th>\n",
       "      <th>Test Precision</th>\n",
       "      <th>Test Recall</th>\n",
       "      <th>Test F1-Score</th>\n",
       "    </tr>\n",
       "    <tr>\n",
       "      <th>Model</th>\n",
       "      <th></th>\n",
       "      <th></th>\n",
       "      <th></th>\n",
       "      <th></th>\n",
       "    </tr>\n",
       "  </thead>\n",
       "  <tbody>\n",
       "    <tr>\n",
       "      <th>Logistic Regression</th>\n",
       "      <td>0.674</td>\n",
       "      <td>0.660714</td>\n",
       "      <td>0.629787</td>\n",
       "      <td>0.644880</td>\n",
       "    </tr>\n",
       "    <tr>\n",
       "      <th>Random Forest</th>\n",
       "      <td>0.597</td>\n",
       "      <td>0.571734</td>\n",
       "      <td>0.568085</td>\n",
       "      <td>0.569904</td>\n",
       "    </tr>\n",
       "    <tr>\n",
       "      <th>SVM</th>\n",
       "      <td>0.679</td>\n",
       "      <td>0.662309</td>\n",
       "      <td>0.646809</td>\n",
       "      <td>0.654467</td>\n",
       "    </tr>\n",
       "    <tr>\n",
       "      <th>KNN</th>\n",
       "      <td>0.635</td>\n",
       "      <td>0.610994</td>\n",
       "      <td>0.614894</td>\n",
       "      <td>0.612937</td>\n",
       "    </tr>\n",
       "    <tr>\n",
       "      <th>Gradient Boosting</th>\n",
       "      <td>0.667</td>\n",
       "      <td>0.643606</td>\n",
       "      <td>0.653191</td>\n",
       "      <td>0.648363</td>\n",
       "    </tr>\n",
       "  </tbody>\n",
       "</table>\n",
       "</div>"
      ],
      "text/plain": [
       "                     Test Accuracy  Test Precision  Test Recall  Test F1-Score\n",
       "Model                                                                         \n",
       "Logistic Regression          0.674        0.660714     0.629787       0.644880\n",
       "Random Forest                0.597        0.571734     0.568085       0.569904\n",
       "SVM                          0.679        0.662309     0.646809       0.654467\n",
       "KNN                          0.635        0.610994     0.614894       0.612937\n",
       "Gradient Boosting            0.667        0.643606     0.653191       0.648363"
      ]
     },
     "metadata": {},
     "output_type": "display_data"
    },
    {
     "name": "stdout",
     "output_type": "stream",
     "text": [
      "Absolute Differences:\n"
     ]
    },
    {
     "data": {
      "text/html": [
       "<div>\n",
       "<style scoped>\n",
       "    .dataframe tbody tr th:only-of-type {\n",
       "        vertical-align: middle;\n",
       "    }\n",
       "\n",
       "    .dataframe tbody tr th {\n",
       "        vertical-align: top;\n",
       "    }\n",
       "\n",
       "    .dataframe thead th {\n",
       "        text-align: right;\n",
       "    }\n",
       "</style>\n",
       "<table border=\"1\" class=\"dataframe\">\n",
       "  <thead>\n",
       "    <tr style=\"text-align: right;\">\n",
       "      <th></th>\n",
       "      <th>Test Accuracy</th>\n",
       "      <th>Test Precision</th>\n",
       "      <th>Test Recall</th>\n",
       "      <th>Test F1-Score</th>\n",
       "    </tr>\n",
       "    <tr>\n",
       "      <th>Model</th>\n",
       "      <th></th>\n",
       "      <th></th>\n",
       "      <th></th>\n",
       "      <th></th>\n",
       "    </tr>\n",
       "  </thead>\n",
       "  <tbody>\n",
       "    <tr>\n",
       "      <th>Logistic Regression</th>\n",
       "      <td>0.192</td>\n",
       "      <td>0.179</td>\n",
       "      <td>0.253</td>\n",
       "      <td>0.216</td>\n",
       "    </tr>\n",
       "    <tr>\n",
       "      <th>Random Forest</th>\n",
       "      <td>0.237</td>\n",
       "      <td>0.262</td>\n",
       "      <td>0.240</td>\n",
       "      <td>0.251</td>\n",
       "    </tr>\n",
       "    <tr>\n",
       "      <th>SVM</th>\n",
       "      <td>0.162</td>\n",
       "      <td>0.144</td>\n",
       "      <td>0.223</td>\n",
       "      <td>0.183</td>\n",
       "    </tr>\n",
       "    <tr>\n",
       "      <th>KNN</th>\n",
       "      <td>0.049</td>\n",
       "      <td>0.050</td>\n",
       "      <td>0.064</td>\n",
       "      <td>0.057</td>\n",
       "    </tr>\n",
       "    <tr>\n",
       "      <th>Gradient Boosting</th>\n",
       "      <td>0.119</td>\n",
       "      <td>0.099</td>\n",
       "      <td>0.181</td>\n",
       "      <td>0.137</td>\n",
       "    </tr>\n",
       "  </tbody>\n",
       "</table>\n",
       "</div>"
      ],
      "text/plain": [
       "                     Test Accuracy  Test Precision  Test Recall  Test F1-Score\n",
       "Model                                                                         \n",
       "Logistic Regression          0.192           0.179        0.253          0.216\n",
       "Random Forest                0.237           0.262        0.240          0.251\n",
       "SVM                          0.162           0.144        0.223          0.183\n",
       "KNN                          0.049           0.050        0.064          0.057\n",
       "Gradient Boosting            0.119           0.099        0.181          0.137"
      ]
     },
     "metadata": {},
     "output_type": "display_data"
    },
    {
     "name": "stdout",
     "output_type": "stream",
     "text": [
      "Percentage Differences:\n"
     ]
    },
    {
     "data": {
      "text/html": [
       "<div>\n",
       "<style scoped>\n",
       "    .dataframe tbody tr th:only-of-type {\n",
       "        vertical-align: middle;\n",
       "    }\n",
       "\n",
       "    .dataframe tbody tr th {\n",
       "        vertical-align: top;\n",
       "    }\n",
       "\n",
       "    .dataframe thead th {\n",
       "        text-align: right;\n",
       "    }\n",
       "</style>\n",
       "<table border=\"1\" class=\"dataframe\">\n",
       "  <thead>\n",
       "    <tr style=\"text-align: right;\">\n",
       "      <th></th>\n",
       "      <th>Test Accuracy</th>\n",
       "      <th>Test Precision</th>\n",
       "      <th>Test Recall</th>\n",
       "      <th>Test F1-Score</th>\n",
       "    </tr>\n",
       "    <tr>\n",
       "      <th>Model</th>\n",
       "      <th></th>\n",
       "      <th></th>\n",
       "      <th></th>\n",
       "      <th></th>\n",
       "    </tr>\n",
       "  </thead>\n",
       "  <tbody>\n",
       "    <tr>\n",
       "      <th>Logistic Regression</th>\n",
       "      <td>28.49</td>\n",
       "      <td>27.09</td>\n",
       "      <td>40.17</td>\n",
       "      <td>33.49</td>\n",
       "    </tr>\n",
       "    <tr>\n",
       "      <th>Random Forest</th>\n",
       "      <td>39.70</td>\n",
       "      <td>45.83</td>\n",
       "      <td>42.25</td>\n",
       "      <td>44.04</td>\n",
       "    </tr>\n",
       "    <tr>\n",
       "      <th>SVM</th>\n",
       "      <td>23.86</td>\n",
       "      <td>21.74</td>\n",
       "      <td>34.48</td>\n",
       "      <td>27.96</td>\n",
       "    </tr>\n",
       "    <tr>\n",
       "      <th>KNN</th>\n",
       "      <td>7.72</td>\n",
       "      <td>8.18</td>\n",
       "      <td>10.41</td>\n",
       "      <td>9.30</td>\n",
       "    </tr>\n",
       "    <tr>\n",
       "      <th>Gradient Boosting</th>\n",
       "      <td>17.84</td>\n",
       "      <td>15.38</td>\n",
       "      <td>27.71</td>\n",
       "      <td>21.13</td>\n",
       "    </tr>\n",
       "  </tbody>\n",
       "</table>\n",
       "</div>"
      ],
      "text/plain": [
       "                     Test Accuracy  Test Precision  Test Recall  Test F1-Score\n",
       "Model                                                                         \n",
       "Logistic Regression          28.49           27.09        40.17          33.49\n",
       "Random Forest                39.70           45.83        42.25          44.04\n",
       "SVM                          23.86           21.74        34.48          27.96\n",
       "KNN                           7.72            8.18        10.41           9.30\n",
       "Gradient Boosting            17.84           15.38        27.71          21.13"
      ]
     },
     "metadata": {},
     "output_type": "display_data"
    },
    {
     "name": "stdout",
     "output_type": "stream",
     "text": [
      "\n",
      "Processing Model: llama3.2:3b (Model 2/8)\n",
      "Train shapes - Text: (4000, 10000), Tab: (4000, 4), Label: (4000,)\n",
      "Test shapes  - Text: (1000, 10000), Tab: (1000, 4), Label: (1000,)\n",
      "\n",
      "Predictions on review text:\n"
     ]
    },
    {
     "data": {
      "text/html": [
       "<div>\n",
       "<style scoped>\n",
       "    .dataframe tbody tr th:only-of-type {\n",
       "        vertical-align: middle;\n",
       "    }\n",
       "\n",
       "    .dataframe tbody tr th {\n",
       "        vertical-align: top;\n",
       "    }\n",
       "\n",
       "    .dataframe thead th {\n",
       "        text-align: right;\n",
       "    }\n",
       "</style>\n",
       "<table border=\"1\" class=\"dataframe\">\n",
       "  <thead>\n",
       "    <tr style=\"text-align: right;\">\n",
       "      <th></th>\n",
       "      <th>Test Accuracy</th>\n",
       "      <th>Test Precision</th>\n",
       "      <th>Test Recall</th>\n",
       "      <th>Test F1-Score</th>\n",
       "    </tr>\n",
       "    <tr>\n",
       "      <th>Model</th>\n",
       "      <th></th>\n",
       "      <th></th>\n",
       "      <th></th>\n",
       "      <th></th>\n",
       "    </tr>\n",
       "  </thead>\n",
       "  <tbody>\n",
       "    <tr>\n",
       "      <th>Logistic Regression</th>\n",
       "      <td>0.866</td>\n",
       "      <td>0.840081</td>\n",
       "      <td>0.882979</td>\n",
       "      <td>0.860996</td>\n",
       "    </tr>\n",
       "    <tr>\n",
       "      <th>Random Forest</th>\n",
       "      <td>0.834</td>\n",
       "      <td>0.833333</td>\n",
       "      <td>0.808511</td>\n",
       "      <td>0.820734</td>\n",
       "    </tr>\n",
       "    <tr>\n",
       "      <th>SVM</th>\n",
       "      <td>0.841</td>\n",
       "      <td>0.806706</td>\n",
       "      <td>0.870213</td>\n",
       "      <td>0.837257</td>\n",
       "    </tr>\n",
       "    <tr>\n",
       "      <th>KNN</th>\n",
       "      <td>0.586</td>\n",
       "      <td>0.560606</td>\n",
       "      <td>0.551064</td>\n",
       "      <td>0.555794</td>\n",
       "    </tr>\n",
       "    <tr>\n",
       "      <th>Gradient Boosting</th>\n",
       "      <td>0.786</td>\n",
       "      <td>0.742424</td>\n",
       "      <td>0.834043</td>\n",
       "      <td>0.785571</td>\n",
       "    </tr>\n",
       "  </tbody>\n",
       "</table>\n",
       "</div>"
      ],
      "text/plain": [
       "                     Test Accuracy  Test Precision  Test Recall  Test F1-Score\n",
       "Model                                                                         \n",
       "Logistic Regression          0.866        0.840081     0.882979       0.860996\n",
       "Random Forest                0.834        0.833333     0.808511       0.820734\n",
       "SVM                          0.841        0.806706     0.870213       0.837257\n",
       "KNN                          0.586        0.560606     0.551064       0.555794\n",
       "Gradient Boosting            0.786        0.742424     0.834043       0.785571"
      ]
     },
     "metadata": {},
     "output_type": "display_data"
    },
    {
     "name": "stdout",
     "output_type": "stream",
     "text": [
      "Predictions on tabular features derived from text (by LLM):\n"
     ]
    },
    {
     "data": {
      "text/html": [
       "<div>\n",
       "<style scoped>\n",
       "    .dataframe tbody tr th:only-of-type {\n",
       "        vertical-align: middle;\n",
       "    }\n",
       "\n",
       "    .dataframe tbody tr th {\n",
       "        vertical-align: top;\n",
       "    }\n",
       "\n",
       "    .dataframe thead th {\n",
       "        text-align: right;\n",
       "    }\n",
       "</style>\n",
       "<table border=\"1\" class=\"dataframe\">\n",
       "  <thead>\n",
       "    <tr style=\"text-align: right;\">\n",
       "      <th></th>\n",
       "      <th>Test Accuracy</th>\n",
       "      <th>Test Precision</th>\n",
       "      <th>Test Recall</th>\n",
       "      <th>Test F1-Score</th>\n",
       "    </tr>\n",
       "    <tr>\n",
       "      <th>Model</th>\n",
       "      <th></th>\n",
       "      <th></th>\n",
       "      <th></th>\n",
       "      <th></th>\n",
       "    </tr>\n",
       "  </thead>\n",
       "  <tbody>\n",
       "    <tr>\n",
       "      <th>Logistic Regression</th>\n",
       "      <td>0.875</td>\n",
       "      <td>0.854209</td>\n",
       "      <td>0.885106</td>\n",
       "      <td>0.869383</td>\n",
       "    </tr>\n",
       "    <tr>\n",
       "      <th>Random Forest</th>\n",
       "      <td>0.851</td>\n",
       "      <td>0.829569</td>\n",
       "      <td>0.859574</td>\n",
       "      <td>0.844305</td>\n",
       "    </tr>\n",
       "    <tr>\n",
       "      <th>SVM</th>\n",
       "      <td>0.874</td>\n",
       "      <td>0.852459</td>\n",
       "      <td>0.885106</td>\n",
       "      <td>0.868476</td>\n",
       "    </tr>\n",
       "    <tr>\n",
       "      <th>KNN</th>\n",
       "      <td>0.857</td>\n",
       "      <td>0.845666</td>\n",
       "      <td>0.851064</td>\n",
       "      <td>0.848356</td>\n",
       "    </tr>\n",
       "    <tr>\n",
       "      <th>Gradient Boosting</th>\n",
       "      <td>0.873</td>\n",
       "      <td>0.852156</td>\n",
       "      <td>0.882979</td>\n",
       "      <td>0.867294</td>\n",
       "    </tr>\n",
       "  </tbody>\n",
       "</table>\n",
       "</div>"
      ],
      "text/plain": [
       "                     Test Accuracy  Test Precision  Test Recall  Test F1-Score\n",
       "Model                                                                         \n",
       "Logistic Regression          0.875        0.854209     0.885106       0.869383\n",
       "Random Forest                0.851        0.829569     0.859574       0.844305\n",
       "SVM                          0.874        0.852459     0.885106       0.868476\n",
       "KNN                          0.857        0.845666     0.851064       0.848356\n",
       "Gradient Boosting            0.873        0.852156     0.882979       0.867294"
      ]
     },
     "metadata": {},
     "output_type": "display_data"
    },
    {
     "name": "stdout",
     "output_type": "stream",
     "text": [
      "Absolute Differences:\n"
     ]
    },
    {
     "data": {
      "text/html": [
       "<div>\n",
       "<style scoped>\n",
       "    .dataframe tbody tr th:only-of-type {\n",
       "        vertical-align: middle;\n",
       "    }\n",
       "\n",
       "    .dataframe tbody tr th {\n",
       "        vertical-align: top;\n",
       "    }\n",
       "\n",
       "    .dataframe thead th {\n",
       "        text-align: right;\n",
       "    }\n",
       "</style>\n",
       "<table border=\"1\" class=\"dataframe\">\n",
       "  <thead>\n",
       "    <tr style=\"text-align: right;\">\n",
       "      <th></th>\n",
       "      <th>Test Accuracy</th>\n",
       "      <th>Test Precision</th>\n",
       "      <th>Test Recall</th>\n",
       "      <th>Test F1-Score</th>\n",
       "    </tr>\n",
       "    <tr>\n",
       "      <th>Model</th>\n",
       "      <th></th>\n",
       "      <th></th>\n",
       "      <th></th>\n",
       "      <th></th>\n",
       "    </tr>\n",
       "  </thead>\n",
       "  <tbody>\n",
       "    <tr>\n",
       "      <th>Logistic Regression</th>\n",
       "      <td>0.009</td>\n",
       "      <td>0.014</td>\n",
       "      <td>0.002</td>\n",
       "      <td>0.008</td>\n",
       "    </tr>\n",
       "    <tr>\n",
       "      <th>Random Forest</th>\n",
       "      <td>0.017</td>\n",
       "      <td>0.004</td>\n",
       "      <td>0.051</td>\n",
       "      <td>0.024</td>\n",
       "    </tr>\n",
       "    <tr>\n",
       "      <th>SVM</th>\n",
       "      <td>0.033</td>\n",
       "      <td>0.046</td>\n",
       "      <td>0.015</td>\n",
       "      <td>0.031</td>\n",
       "    </tr>\n",
       "    <tr>\n",
       "      <th>KNN</th>\n",
       "      <td>0.271</td>\n",
       "      <td>0.285</td>\n",
       "      <td>0.300</td>\n",
       "      <td>0.293</td>\n",
       "    </tr>\n",
       "    <tr>\n",
       "      <th>Gradient Boosting</th>\n",
       "      <td>0.087</td>\n",
       "      <td>0.110</td>\n",
       "      <td>0.049</td>\n",
       "      <td>0.082</td>\n",
       "    </tr>\n",
       "  </tbody>\n",
       "</table>\n",
       "</div>"
      ],
      "text/plain": [
       "                     Test Accuracy  Test Precision  Test Recall  Test F1-Score\n",
       "Model                                                                         \n",
       "Logistic Regression          0.009           0.014        0.002          0.008\n",
       "Random Forest                0.017           0.004        0.051          0.024\n",
       "SVM                          0.033           0.046        0.015          0.031\n",
       "KNN                          0.271           0.285        0.300          0.293\n",
       "Gradient Boosting            0.087           0.110        0.049          0.082"
      ]
     },
     "metadata": {},
     "output_type": "display_data"
    },
    {
     "name": "stdout",
     "output_type": "stream",
     "text": [
      "Percentage Differences:\n"
     ]
    },
    {
     "data": {
      "text/html": [
       "<div>\n",
       "<style scoped>\n",
       "    .dataframe tbody tr th:only-of-type {\n",
       "        vertical-align: middle;\n",
       "    }\n",
       "\n",
       "    .dataframe tbody tr th {\n",
       "        vertical-align: top;\n",
       "    }\n",
       "\n",
       "    .dataframe thead th {\n",
       "        text-align: right;\n",
       "    }\n",
       "</style>\n",
       "<table border=\"1\" class=\"dataframe\">\n",
       "  <thead>\n",
       "    <tr style=\"text-align: right;\">\n",
       "      <th></th>\n",
       "      <th>Test Accuracy</th>\n",
       "      <th>Test Precision</th>\n",
       "      <th>Test Recall</th>\n",
       "      <th>Test F1-Score</th>\n",
       "    </tr>\n",
       "    <tr>\n",
       "      <th>Model</th>\n",
       "      <th></th>\n",
       "      <th></th>\n",
       "      <th></th>\n",
       "      <th></th>\n",
       "    </tr>\n",
       "  </thead>\n",
       "  <tbody>\n",
       "    <tr>\n",
       "      <th>Logistic Regression</th>\n",
       "      <td>1.03</td>\n",
       "      <td>1.64</td>\n",
       "      <td>0.23</td>\n",
       "      <td>0.92</td>\n",
       "    </tr>\n",
       "    <tr>\n",
       "      <th>Random Forest</th>\n",
       "      <td>2.00</td>\n",
       "      <td>0.48</td>\n",
       "      <td>5.93</td>\n",
       "      <td>2.84</td>\n",
       "    </tr>\n",
       "    <tr>\n",
       "      <th>SVM</th>\n",
       "      <td>3.78</td>\n",
       "      <td>5.40</td>\n",
       "      <td>1.69</td>\n",
       "      <td>3.57</td>\n",
       "    </tr>\n",
       "    <tr>\n",
       "      <th>KNN</th>\n",
       "      <td>31.62</td>\n",
       "      <td>33.70</td>\n",
       "      <td>35.25</td>\n",
       "      <td>34.54</td>\n",
       "    </tr>\n",
       "    <tr>\n",
       "      <th>Gradient Boosting</th>\n",
       "      <td>9.97</td>\n",
       "      <td>12.91</td>\n",
       "      <td>5.55</td>\n",
       "      <td>9.45</td>\n",
       "    </tr>\n",
       "  </tbody>\n",
       "</table>\n",
       "</div>"
      ],
      "text/plain": [
       "                     Test Accuracy  Test Precision  Test Recall  Test F1-Score\n",
       "Model                                                                         \n",
       "Logistic Regression           1.03            1.64         0.23           0.92\n",
       "Random Forest                 2.00            0.48         5.93           2.84\n",
       "SVM                           3.78            5.40         1.69           3.57\n",
       "KNN                          31.62           33.70        35.25          34.54\n",
       "Gradient Boosting             9.97           12.91         5.55           9.45"
      ]
     },
     "metadata": {},
     "output_type": "display_data"
    },
    {
     "name": "stdout",
     "output_type": "stream",
     "text": [
      "\n",
      "Processing Model: gemma3:1b (Model 3/8)\n",
      "Train shapes - Text: (4000, 10000), Tab: (4000, 4), Label: (4000,)\n",
      "Test shapes  - Text: (1000, 10000), Tab: (1000, 4), Label: (1000,)\n",
      "\n",
      "Predictions on review text:\n"
     ]
    },
    {
     "data": {
      "text/html": [
       "<div>\n",
       "<style scoped>\n",
       "    .dataframe tbody tr th:only-of-type {\n",
       "        vertical-align: middle;\n",
       "    }\n",
       "\n",
       "    .dataframe tbody tr th {\n",
       "        vertical-align: top;\n",
       "    }\n",
       "\n",
       "    .dataframe thead th {\n",
       "        text-align: right;\n",
       "    }\n",
       "</style>\n",
       "<table border=\"1\" class=\"dataframe\">\n",
       "  <thead>\n",
       "    <tr style=\"text-align: right;\">\n",
       "      <th></th>\n",
       "      <th>Test Accuracy</th>\n",
       "      <th>Test Precision</th>\n",
       "      <th>Test Recall</th>\n",
       "      <th>Test F1-Score</th>\n",
       "    </tr>\n",
       "    <tr>\n",
       "      <th>Model</th>\n",
       "      <th></th>\n",
       "      <th></th>\n",
       "      <th></th>\n",
       "      <th></th>\n",
       "    </tr>\n",
       "  </thead>\n",
       "  <tbody>\n",
       "    <tr>\n",
       "      <th>Logistic Regression</th>\n",
       "      <td>0.866</td>\n",
       "      <td>0.840081</td>\n",
       "      <td>0.882979</td>\n",
       "      <td>0.860996</td>\n",
       "    </tr>\n",
       "    <tr>\n",
       "      <th>Random Forest</th>\n",
       "      <td>0.834</td>\n",
       "      <td>0.833333</td>\n",
       "      <td>0.808511</td>\n",
       "      <td>0.820734</td>\n",
       "    </tr>\n",
       "    <tr>\n",
       "      <th>SVM</th>\n",
       "      <td>0.841</td>\n",
       "      <td>0.806706</td>\n",
       "      <td>0.870213</td>\n",
       "      <td>0.837257</td>\n",
       "    </tr>\n",
       "    <tr>\n",
       "      <th>KNN</th>\n",
       "      <td>0.586</td>\n",
       "      <td>0.560606</td>\n",
       "      <td>0.551064</td>\n",
       "      <td>0.555794</td>\n",
       "    </tr>\n",
       "    <tr>\n",
       "      <th>Gradient Boosting</th>\n",
       "      <td>0.786</td>\n",
       "      <td>0.742424</td>\n",
       "      <td>0.834043</td>\n",
       "      <td>0.785571</td>\n",
       "    </tr>\n",
       "  </tbody>\n",
       "</table>\n",
       "</div>"
      ],
      "text/plain": [
       "                     Test Accuracy  Test Precision  Test Recall  Test F1-Score\n",
       "Model                                                                         \n",
       "Logistic Regression          0.866        0.840081     0.882979       0.860996\n",
       "Random Forest                0.834        0.833333     0.808511       0.820734\n",
       "SVM                          0.841        0.806706     0.870213       0.837257\n",
       "KNN                          0.586        0.560606     0.551064       0.555794\n",
       "Gradient Boosting            0.786        0.742424     0.834043       0.785571"
      ]
     },
     "metadata": {},
     "output_type": "display_data"
    },
    {
     "name": "stdout",
     "output_type": "stream",
     "text": [
      "Predictions on tabular features derived from text (by LLM):\n"
     ]
    },
    {
     "data": {
      "text/html": [
       "<div>\n",
       "<style scoped>\n",
       "    .dataframe tbody tr th:only-of-type {\n",
       "        vertical-align: middle;\n",
       "    }\n",
       "\n",
       "    .dataframe tbody tr th {\n",
       "        vertical-align: top;\n",
       "    }\n",
       "\n",
       "    .dataframe thead th {\n",
       "        text-align: right;\n",
       "    }\n",
       "</style>\n",
       "<table border=\"1\" class=\"dataframe\">\n",
       "  <thead>\n",
       "    <tr style=\"text-align: right;\">\n",
       "      <th></th>\n",
       "      <th>Test Accuracy</th>\n",
       "      <th>Test Precision</th>\n",
       "      <th>Test Recall</th>\n",
       "      <th>Test F1-Score</th>\n",
       "    </tr>\n",
       "    <tr>\n",
       "      <th>Model</th>\n",
       "      <th></th>\n",
       "      <th></th>\n",
       "      <th></th>\n",
       "      <th></th>\n",
       "    </tr>\n",
       "  </thead>\n",
       "  <tbody>\n",
       "    <tr>\n",
       "      <th>Logistic Regression</th>\n",
       "      <td>0.805</td>\n",
       "      <td>0.855297</td>\n",
       "      <td>0.704255</td>\n",
       "      <td>0.772462</td>\n",
       "    </tr>\n",
       "    <tr>\n",
       "      <th>Random Forest</th>\n",
       "      <td>0.826</td>\n",
       "      <td>0.877551</td>\n",
       "      <td>0.731915</td>\n",
       "      <td>0.798144</td>\n",
       "    </tr>\n",
       "    <tr>\n",
       "      <th>SVM</th>\n",
       "      <td>0.811</td>\n",
       "      <td>0.838554</td>\n",
       "      <td>0.740426</td>\n",
       "      <td>0.786441</td>\n",
       "    </tr>\n",
       "    <tr>\n",
       "      <th>KNN</th>\n",
       "      <td>0.827</td>\n",
       "      <td>0.875949</td>\n",
       "      <td>0.736170</td>\n",
       "      <td>0.800000</td>\n",
       "    </tr>\n",
       "    <tr>\n",
       "      <th>Gradient Boosting</th>\n",
       "      <td>0.828</td>\n",
       "      <td>0.861650</td>\n",
       "      <td>0.755319</td>\n",
       "      <td>0.804989</td>\n",
       "    </tr>\n",
       "  </tbody>\n",
       "</table>\n",
       "</div>"
      ],
      "text/plain": [
       "                     Test Accuracy  Test Precision  Test Recall  Test F1-Score\n",
       "Model                                                                         \n",
       "Logistic Regression          0.805        0.855297     0.704255       0.772462\n",
       "Random Forest                0.826        0.877551     0.731915       0.798144\n",
       "SVM                          0.811        0.838554     0.740426       0.786441\n",
       "KNN                          0.827        0.875949     0.736170       0.800000\n",
       "Gradient Boosting            0.828        0.861650     0.755319       0.804989"
      ]
     },
     "metadata": {},
     "output_type": "display_data"
    },
    {
     "name": "stdout",
     "output_type": "stream",
     "text": [
      "Absolute Differences:\n"
     ]
    },
    {
     "data": {
      "text/html": [
       "<div>\n",
       "<style scoped>\n",
       "    .dataframe tbody tr th:only-of-type {\n",
       "        vertical-align: middle;\n",
       "    }\n",
       "\n",
       "    .dataframe tbody tr th {\n",
       "        vertical-align: top;\n",
       "    }\n",
       "\n",
       "    .dataframe thead th {\n",
       "        text-align: right;\n",
       "    }\n",
       "</style>\n",
       "<table border=\"1\" class=\"dataframe\">\n",
       "  <thead>\n",
       "    <tr style=\"text-align: right;\">\n",
       "      <th></th>\n",
       "      <th>Test Accuracy</th>\n",
       "      <th>Test Precision</th>\n",
       "      <th>Test Recall</th>\n",
       "      <th>Test F1-Score</th>\n",
       "    </tr>\n",
       "    <tr>\n",
       "      <th>Model</th>\n",
       "      <th></th>\n",
       "      <th></th>\n",
       "      <th></th>\n",
       "      <th></th>\n",
       "    </tr>\n",
       "  </thead>\n",
       "  <tbody>\n",
       "    <tr>\n",
       "      <th>Logistic Regression</th>\n",
       "      <td>0.061</td>\n",
       "      <td>0.015</td>\n",
       "      <td>0.179</td>\n",
       "      <td>0.089</td>\n",
       "    </tr>\n",
       "    <tr>\n",
       "      <th>Random Forest</th>\n",
       "      <td>0.008</td>\n",
       "      <td>0.044</td>\n",
       "      <td>0.077</td>\n",
       "      <td>0.023</td>\n",
       "    </tr>\n",
       "    <tr>\n",
       "      <th>SVM</th>\n",
       "      <td>0.030</td>\n",
       "      <td>0.032</td>\n",
       "      <td>0.130</td>\n",
       "      <td>0.051</td>\n",
       "    </tr>\n",
       "    <tr>\n",
       "      <th>KNN</th>\n",
       "      <td>0.241</td>\n",
       "      <td>0.315</td>\n",
       "      <td>0.185</td>\n",
       "      <td>0.244</td>\n",
       "    </tr>\n",
       "    <tr>\n",
       "      <th>Gradient Boosting</th>\n",
       "      <td>0.042</td>\n",
       "      <td>0.119</td>\n",
       "      <td>0.079</td>\n",
       "      <td>0.019</td>\n",
       "    </tr>\n",
       "  </tbody>\n",
       "</table>\n",
       "</div>"
      ],
      "text/plain": [
       "                     Test Accuracy  Test Precision  Test Recall  Test F1-Score\n",
       "Model                                                                         \n",
       "Logistic Regression          0.061           0.015        0.179          0.089\n",
       "Random Forest                0.008           0.044        0.077          0.023\n",
       "SVM                          0.030           0.032        0.130          0.051\n",
       "KNN                          0.241           0.315        0.185          0.244\n",
       "Gradient Boosting            0.042           0.119        0.079          0.019"
      ]
     },
     "metadata": {},
     "output_type": "display_data"
    },
    {
     "name": "stdout",
     "output_type": "stream",
     "text": [
      "Percentage Differences:\n"
     ]
    },
    {
     "data": {
      "text/html": [
       "<div>\n",
       "<style scoped>\n",
       "    .dataframe tbody tr th:only-of-type {\n",
       "        vertical-align: middle;\n",
       "    }\n",
       "\n",
       "    .dataframe tbody tr th {\n",
       "        vertical-align: top;\n",
       "    }\n",
       "\n",
       "    .dataframe thead th {\n",
       "        text-align: right;\n",
       "    }\n",
       "</style>\n",
       "<table border=\"1\" class=\"dataframe\">\n",
       "  <thead>\n",
       "    <tr style=\"text-align: right;\">\n",
       "      <th></th>\n",
       "      <th>Test Accuracy</th>\n",
       "      <th>Test Precision</th>\n",
       "      <th>Test Recall</th>\n",
       "      <th>Test F1-Score</th>\n",
       "    </tr>\n",
       "    <tr>\n",
       "      <th>Model</th>\n",
       "      <th></th>\n",
       "      <th></th>\n",
       "      <th></th>\n",
       "      <th></th>\n",
       "    </tr>\n",
       "  </thead>\n",
       "  <tbody>\n",
       "    <tr>\n",
       "      <th>Logistic Regression</th>\n",
       "      <td>7.58</td>\n",
       "      <td>1.75</td>\n",
       "      <td>25.42</td>\n",
       "      <td>11.52</td>\n",
       "    </tr>\n",
       "    <tr>\n",
       "      <th>Random Forest</th>\n",
       "      <td>0.97</td>\n",
       "      <td>5.01</td>\n",
       "      <td>10.52</td>\n",
       "      <td>2.88</td>\n",
       "    </tr>\n",
       "    <tr>\n",
       "      <th>SVM</th>\n",
       "      <td>3.70</td>\n",
       "      <td>3.82</td>\n",
       "      <td>17.56</td>\n",
       "      <td>6.48</td>\n",
       "    </tr>\n",
       "    <tr>\n",
       "      <th>KNN</th>\n",
       "      <td>29.14</td>\n",
       "      <td>35.96</td>\n",
       "      <td>25.13</td>\n",
       "      <td>30.50</td>\n",
       "    </tr>\n",
       "    <tr>\n",
       "      <th>Gradient Boosting</th>\n",
       "      <td>5.07</td>\n",
       "      <td>13.81</td>\n",
       "      <td>10.46</td>\n",
       "      <td>2.36</td>\n",
       "    </tr>\n",
       "  </tbody>\n",
       "</table>\n",
       "</div>"
      ],
      "text/plain": [
       "                     Test Accuracy  Test Precision  Test Recall  Test F1-Score\n",
       "Model                                                                         \n",
       "Logistic Regression           7.58            1.75        25.42          11.52\n",
       "Random Forest                 0.97            5.01        10.52           2.88\n",
       "SVM                           3.70            3.82        17.56           6.48\n",
       "KNN                          29.14           35.96        25.13          30.50\n",
       "Gradient Boosting             5.07           13.81        10.46           2.36"
      ]
     },
     "metadata": {},
     "output_type": "display_data"
    },
    {
     "name": "stdout",
     "output_type": "stream",
     "text": [
      "\n",
      "Processing Model: gemma3:4b (Model 4/8)\n",
      "Train shapes - Text: (4000, 10000), Tab: (4000, 4), Label: (4000,)\n",
      "Test shapes  - Text: (1000, 10000), Tab: (1000, 4), Label: (1000,)\n",
      "\n",
      "Predictions on review text:\n"
     ]
    },
    {
     "data": {
      "text/html": [
       "<div>\n",
       "<style scoped>\n",
       "    .dataframe tbody tr th:only-of-type {\n",
       "        vertical-align: middle;\n",
       "    }\n",
       "\n",
       "    .dataframe tbody tr th {\n",
       "        vertical-align: top;\n",
       "    }\n",
       "\n",
       "    .dataframe thead th {\n",
       "        text-align: right;\n",
       "    }\n",
       "</style>\n",
       "<table border=\"1\" class=\"dataframe\">\n",
       "  <thead>\n",
       "    <tr style=\"text-align: right;\">\n",
       "      <th></th>\n",
       "      <th>Test Accuracy</th>\n",
       "      <th>Test Precision</th>\n",
       "      <th>Test Recall</th>\n",
       "      <th>Test F1-Score</th>\n",
       "    </tr>\n",
       "    <tr>\n",
       "      <th>Model</th>\n",
       "      <th></th>\n",
       "      <th></th>\n",
       "      <th></th>\n",
       "      <th></th>\n",
       "    </tr>\n",
       "  </thead>\n",
       "  <tbody>\n",
       "    <tr>\n",
       "      <th>Logistic Regression</th>\n",
       "      <td>0.866</td>\n",
       "      <td>0.840081</td>\n",
       "      <td>0.882979</td>\n",
       "      <td>0.860996</td>\n",
       "    </tr>\n",
       "    <tr>\n",
       "      <th>Random Forest</th>\n",
       "      <td>0.834</td>\n",
       "      <td>0.833333</td>\n",
       "      <td>0.808511</td>\n",
       "      <td>0.820734</td>\n",
       "    </tr>\n",
       "    <tr>\n",
       "      <th>SVM</th>\n",
       "      <td>0.841</td>\n",
       "      <td>0.806706</td>\n",
       "      <td>0.870213</td>\n",
       "      <td>0.837257</td>\n",
       "    </tr>\n",
       "    <tr>\n",
       "      <th>KNN</th>\n",
       "      <td>0.586</td>\n",
       "      <td>0.560606</td>\n",
       "      <td>0.551064</td>\n",
       "      <td>0.555794</td>\n",
       "    </tr>\n",
       "    <tr>\n",
       "      <th>Gradient Boosting</th>\n",
       "      <td>0.786</td>\n",
       "      <td>0.742424</td>\n",
       "      <td>0.834043</td>\n",
       "      <td>0.785571</td>\n",
       "    </tr>\n",
       "  </tbody>\n",
       "</table>\n",
       "</div>"
      ],
      "text/plain": [
       "                     Test Accuracy  Test Precision  Test Recall  Test F1-Score\n",
       "Model                                                                         \n",
       "Logistic Regression          0.866        0.840081     0.882979       0.860996\n",
       "Random Forest                0.834        0.833333     0.808511       0.820734\n",
       "SVM                          0.841        0.806706     0.870213       0.837257\n",
       "KNN                          0.586        0.560606     0.551064       0.555794\n",
       "Gradient Boosting            0.786        0.742424     0.834043       0.785571"
      ]
     },
     "metadata": {},
     "output_type": "display_data"
    },
    {
     "name": "stdout",
     "output_type": "stream",
     "text": [
      "Predictions on tabular features derived from text (by LLM):\n"
     ]
    },
    {
     "data": {
      "text/html": [
       "<div>\n",
       "<style scoped>\n",
       "    .dataframe tbody tr th:only-of-type {\n",
       "        vertical-align: middle;\n",
       "    }\n",
       "\n",
       "    .dataframe tbody tr th {\n",
       "        vertical-align: top;\n",
       "    }\n",
       "\n",
       "    .dataframe thead th {\n",
       "        text-align: right;\n",
       "    }\n",
       "</style>\n",
       "<table border=\"1\" class=\"dataframe\">\n",
       "  <thead>\n",
       "    <tr style=\"text-align: right;\">\n",
       "      <th></th>\n",
       "      <th>Test Accuracy</th>\n",
       "      <th>Test Precision</th>\n",
       "      <th>Test Recall</th>\n",
       "      <th>Test F1-Score</th>\n",
       "    </tr>\n",
       "    <tr>\n",
       "      <th>Model</th>\n",
       "      <th></th>\n",
       "      <th></th>\n",
       "      <th></th>\n",
       "      <th></th>\n",
       "    </tr>\n",
       "  </thead>\n",
       "  <tbody>\n",
       "    <tr>\n",
       "      <th>Logistic Regression</th>\n",
       "      <td>0.938</td>\n",
       "      <td>0.943478</td>\n",
       "      <td>0.923404</td>\n",
       "      <td>0.933333</td>\n",
       "    </tr>\n",
       "    <tr>\n",
       "      <th>Random Forest</th>\n",
       "      <td>0.939</td>\n",
       "      <td>0.951435</td>\n",
       "      <td>0.917021</td>\n",
       "      <td>0.933911</td>\n",
       "    </tr>\n",
       "    <tr>\n",
       "      <th>SVM</th>\n",
       "      <td>0.939</td>\n",
       "      <td>0.949451</td>\n",
       "      <td>0.919149</td>\n",
       "      <td>0.934054</td>\n",
       "    </tr>\n",
       "    <tr>\n",
       "      <th>KNN</th>\n",
       "      <td>0.942</td>\n",
       "      <td>0.953744</td>\n",
       "      <td>0.921277</td>\n",
       "      <td>0.937229</td>\n",
       "    </tr>\n",
       "    <tr>\n",
       "      <th>Gradient Boosting</th>\n",
       "      <td>0.939</td>\n",
       "      <td>0.945534</td>\n",
       "      <td>0.923404</td>\n",
       "      <td>0.934338</td>\n",
       "    </tr>\n",
       "  </tbody>\n",
       "</table>\n",
       "</div>"
      ],
      "text/plain": [
       "                     Test Accuracy  Test Precision  Test Recall  Test F1-Score\n",
       "Model                                                                         \n",
       "Logistic Regression          0.938        0.943478     0.923404       0.933333\n",
       "Random Forest                0.939        0.951435     0.917021       0.933911\n",
       "SVM                          0.939        0.949451     0.919149       0.934054\n",
       "KNN                          0.942        0.953744     0.921277       0.937229\n",
       "Gradient Boosting            0.939        0.945534     0.923404       0.934338"
      ]
     },
     "metadata": {},
     "output_type": "display_data"
    },
    {
     "name": "stdout",
     "output_type": "stream",
     "text": [
      "Absolute Differences:\n"
     ]
    },
    {
     "data": {
      "text/html": [
       "<div>\n",
       "<style scoped>\n",
       "    .dataframe tbody tr th:only-of-type {\n",
       "        vertical-align: middle;\n",
       "    }\n",
       "\n",
       "    .dataframe tbody tr th {\n",
       "        vertical-align: top;\n",
       "    }\n",
       "\n",
       "    .dataframe thead th {\n",
       "        text-align: right;\n",
       "    }\n",
       "</style>\n",
       "<table border=\"1\" class=\"dataframe\">\n",
       "  <thead>\n",
       "    <tr style=\"text-align: right;\">\n",
       "      <th></th>\n",
       "      <th>Test Accuracy</th>\n",
       "      <th>Test Precision</th>\n",
       "      <th>Test Recall</th>\n",
       "      <th>Test F1-Score</th>\n",
       "    </tr>\n",
       "    <tr>\n",
       "      <th>Model</th>\n",
       "      <th></th>\n",
       "      <th></th>\n",
       "      <th></th>\n",
       "      <th></th>\n",
       "    </tr>\n",
       "  </thead>\n",
       "  <tbody>\n",
       "    <tr>\n",
       "      <th>Logistic Regression</th>\n",
       "      <td>0.072</td>\n",
       "      <td>0.103</td>\n",
       "      <td>0.040</td>\n",
       "      <td>0.072</td>\n",
       "    </tr>\n",
       "    <tr>\n",
       "      <th>Random Forest</th>\n",
       "      <td>0.105</td>\n",
       "      <td>0.118</td>\n",
       "      <td>0.109</td>\n",
       "      <td>0.113</td>\n",
       "    </tr>\n",
       "    <tr>\n",
       "      <th>SVM</th>\n",
       "      <td>0.098</td>\n",
       "      <td>0.143</td>\n",
       "      <td>0.049</td>\n",
       "      <td>0.097</td>\n",
       "    </tr>\n",
       "    <tr>\n",
       "      <th>KNN</th>\n",
       "      <td>0.356</td>\n",
       "      <td>0.393</td>\n",
       "      <td>0.370</td>\n",
       "      <td>0.381</td>\n",
       "    </tr>\n",
       "    <tr>\n",
       "      <th>Gradient Boosting</th>\n",
       "      <td>0.153</td>\n",
       "      <td>0.203</td>\n",
       "      <td>0.089</td>\n",
       "      <td>0.149</td>\n",
       "    </tr>\n",
       "  </tbody>\n",
       "</table>\n",
       "</div>"
      ],
      "text/plain": [
       "                     Test Accuracy  Test Precision  Test Recall  Test F1-Score\n",
       "Model                                                                         \n",
       "Logistic Regression          0.072           0.103        0.040          0.072\n",
       "Random Forest                0.105           0.118        0.109          0.113\n",
       "SVM                          0.098           0.143        0.049          0.097\n",
       "KNN                          0.356           0.393        0.370          0.381\n",
       "Gradient Boosting            0.153           0.203        0.089          0.149"
      ]
     },
     "metadata": {},
     "output_type": "display_data"
    },
    {
     "name": "stdout",
     "output_type": "stream",
     "text": [
      "Percentage Differences:\n"
     ]
    },
    {
     "data": {
      "text/html": [
       "<div>\n",
       "<style scoped>\n",
       "    .dataframe tbody tr th:only-of-type {\n",
       "        vertical-align: middle;\n",
       "    }\n",
       "\n",
       "    .dataframe tbody tr th {\n",
       "        vertical-align: top;\n",
       "    }\n",
       "\n",
       "    .dataframe thead th {\n",
       "        text-align: right;\n",
       "    }\n",
       "</style>\n",
       "<table border=\"1\" class=\"dataframe\">\n",
       "  <thead>\n",
       "    <tr style=\"text-align: right;\">\n",
       "      <th></th>\n",
       "      <th>Test Accuracy</th>\n",
       "      <th>Test Precision</th>\n",
       "      <th>Test Recall</th>\n",
       "      <th>Test F1-Score</th>\n",
       "    </tr>\n",
       "    <tr>\n",
       "      <th>Model</th>\n",
       "      <th></th>\n",
       "      <th></th>\n",
       "      <th></th>\n",
       "      <th></th>\n",
       "    </tr>\n",
       "  </thead>\n",
       "  <tbody>\n",
       "    <tr>\n",
       "      <th>Logistic Regression</th>\n",
       "      <td>7.68</td>\n",
       "      <td>10.92</td>\n",
       "      <td>4.33</td>\n",
       "      <td>7.71</td>\n",
       "    </tr>\n",
       "    <tr>\n",
       "      <th>Random Forest</th>\n",
       "      <td>11.18</td>\n",
       "      <td>12.40</td>\n",
       "      <td>11.89</td>\n",
       "      <td>12.10</td>\n",
       "    </tr>\n",
       "    <tr>\n",
       "      <th>SVM</th>\n",
       "      <td>10.44</td>\n",
       "      <td>15.06</td>\n",
       "      <td>5.33</td>\n",
       "      <td>10.38</td>\n",
       "    </tr>\n",
       "    <tr>\n",
       "      <th>KNN</th>\n",
       "      <td>37.79</td>\n",
       "      <td>41.21</td>\n",
       "      <td>40.16</td>\n",
       "      <td>40.65</td>\n",
       "    </tr>\n",
       "    <tr>\n",
       "      <th>Gradient Boosting</th>\n",
       "      <td>16.29</td>\n",
       "      <td>21.47</td>\n",
       "      <td>9.64</td>\n",
       "      <td>15.95</td>\n",
       "    </tr>\n",
       "  </tbody>\n",
       "</table>\n",
       "</div>"
      ],
      "text/plain": [
       "                     Test Accuracy  Test Precision  Test Recall  Test F1-Score\n",
       "Model                                                                         \n",
       "Logistic Regression           7.68           10.92         4.33           7.71\n",
       "Random Forest                11.18           12.40        11.89          12.10\n",
       "SVM                          10.44           15.06         5.33          10.38\n",
       "KNN                          37.79           41.21        40.16          40.65\n",
       "Gradient Boosting            16.29           21.47         9.64          15.95"
      ]
     },
     "metadata": {},
     "output_type": "display_data"
    },
    {
     "name": "stdout",
     "output_type": "stream",
     "text": [
      "\n",
      "Processing Model: llama3.1 (Model 5/8)\n",
      "Train shapes - Text: (4000, 10000), Tab: (4000, 4), Label: (4000,)\n",
      "Test shapes  - Text: (1000, 10000), Tab: (1000, 4), Label: (1000,)\n",
      "\n",
      "Predictions on review text:\n"
     ]
    },
    {
     "data": {
      "text/html": [
       "<div>\n",
       "<style scoped>\n",
       "    .dataframe tbody tr th:only-of-type {\n",
       "        vertical-align: middle;\n",
       "    }\n",
       "\n",
       "    .dataframe tbody tr th {\n",
       "        vertical-align: top;\n",
       "    }\n",
       "\n",
       "    .dataframe thead th {\n",
       "        text-align: right;\n",
       "    }\n",
       "</style>\n",
       "<table border=\"1\" class=\"dataframe\">\n",
       "  <thead>\n",
       "    <tr style=\"text-align: right;\">\n",
       "      <th></th>\n",
       "      <th>Test Accuracy</th>\n",
       "      <th>Test Precision</th>\n",
       "      <th>Test Recall</th>\n",
       "      <th>Test F1-Score</th>\n",
       "    </tr>\n",
       "    <tr>\n",
       "      <th>Model</th>\n",
       "      <th></th>\n",
       "      <th></th>\n",
       "      <th></th>\n",
       "      <th></th>\n",
       "    </tr>\n",
       "  </thead>\n",
       "  <tbody>\n",
       "    <tr>\n",
       "      <th>Logistic Regression</th>\n",
       "      <td>0.866</td>\n",
       "      <td>0.840081</td>\n",
       "      <td>0.882979</td>\n",
       "      <td>0.860996</td>\n",
       "    </tr>\n",
       "    <tr>\n",
       "      <th>Random Forest</th>\n",
       "      <td>0.834</td>\n",
       "      <td>0.833333</td>\n",
       "      <td>0.808511</td>\n",
       "      <td>0.820734</td>\n",
       "    </tr>\n",
       "    <tr>\n",
       "      <th>SVM</th>\n",
       "      <td>0.841</td>\n",
       "      <td>0.806706</td>\n",
       "      <td>0.870213</td>\n",
       "      <td>0.837257</td>\n",
       "    </tr>\n",
       "    <tr>\n",
       "      <th>KNN</th>\n",
       "      <td>0.586</td>\n",
       "      <td>0.560606</td>\n",
       "      <td>0.551064</td>\n",
       "      <td>0.555794</td>\n",
       "    </tr>\n",
       "    <tr>\n",
       "      <th>Gradient Boosting</th>\n",
       "      <td>0.786</td>\n",
       "      <td>0.742424</td>\n",
       "      <td>0.834043</td>\n",
       "      <td>0.785571</td>\n",
       "    </tr>\n",
       "  </tbody>\n",
       "</table>\n",
       "</div>"
      ],
      "text/plain": [
       "                     Test Accuracy  Test Precision  Test Recall  Test F1-Score\n",
       "Model                                                                         \n",
       "Logistic Regression          0.866        0.840081     0.882979       0.860996\n",
       "Random Forest                0.834        0.833333     0.808511       0.820734\n",
       "SVM                          0.841        0.806706     0.870213       0.837257\n",
       "KNN                          0.586        0.560606     0.551064       0.555794\n",
       "Gradient Boosting            0.786        0.742424     0.834043       0.785571"
      ]
     },
     "metadata": {},
     "output_type": "display_data"
    },
    {
     "name": "stdout",
     "output_type": "stream",
     "text": [
      "Predictions on tabular features derived from text (by LLM):\n"
     ]
    },
    {
     "data": {
      "text/html": [
       "<div>\n",
       "<style scoped>\n",
       "    .dataframe tbody tr th:only-of-type {\n",
       "        vertical-align: middle;\n",
       "    }\n",
       "\n",
       "    .dataframe tbody tr th {\n",
       "        vertical-align: top;\n",
       "    }\n",
       "\n",
       "    .dataframe thead th {\n",
       "        text-align: right;\n",
       "    }\n",
       "</style>\n",
       "<table border=\"1\" class=\"dataframe\">\n",
       "  <thead>\n",
       "    <tr style=\"text-align: right;\">\n",
       "      <th></th>\n",
       "      <th>Test Accuracy</th>\n",
       "      <th>Test Precision</th>\n",
       "      <th>Test Recall</th>\n",
       "      <th>Test F1-Score</th>\n",
       "    </tr>\n",
       "    <tr>\n",
       "      <th>Model</th>\n",
       "      <th></th>\n",
       "      <th></th>\n",
       "      <th></th>\n",
       "      <th></th>\n",
       "    </tr>\n",
       "  </thead>\n",
       "  <tbody>\n",
       "    <tr>\n",
       "      <th>Logistic Regression</th>\n",
       "      <td>0.914</td>\n",
       "      <td>0.884000</td>\n",
       "      <td>0.940426</td>\n",
       "      <td>0.911340</td>\n",
       "    </tr>\n",
       "    <tr>\n",
       "      <th>Random Forest</th>\n",
       "      <td>0.904</td>\n",
       "      <td>0.894515</td>\n",
       "      <td>0.902128</td>\n",
       "      <td>0.898305</td>\n",
       "    </tr>\n",
       "    <tr>\n",
       "      <th>SVM</th>\n",
       "      <td>0.907</td>\n",
       "      <td>0.890269</td>\n",
       "      <td>0.914894</td>\n",
       "      <td>0.902413</td>\n",
       "    </tr>\n",
       "    <tr>\n",
       "      <th>KNN</th>\n",
       "      <td>0.910</td>\n",
       "      <td>0.907725</td>\n",
       "      <td>0.900000</td>\n",
       "      <td>0.903846</td>\n",
       "    </tr>\n",
       "    <tr>\n",
       "      <th>Gradient Boosting</th>\n",
       "      <td>0.910</td>\n",
       "      <td>0.894191</td>\n",
       "      <td>0.917021</td>\n",
       "      <td>0.905462</td>\n",
       "    </tr>\n",
       "  </tbody>\n",
       "</table>\n",
       "</div>"
      ],
      "text/plain": [
       "                     Test Accuracy  Test Precision  Test Recall  Test F1-Score\n",
       "Model                                                                         \n",
       "Logistic Regression          0.914        0.884000     0.940426       0.911340\n",
       "Random Forest                0.904        0.894515     0.902128       0.898305\n",
       "SVM                          0.907        0.890269     0.914894       0.902413\n",
       "KNN                          0.910        0.907725     0.900000       0.903846\n",
       "Gradient Boosting            0.910        0.894191     0.917021       0.905462"
      ]
     },
     "metadata": {},
     "output_type": "display_data"
    },
    {
     "name": "stdout",
     "output_type": "stream",
     "text": [
      "Absolute Differences:\n"
     ]
    },
    {
     "data": {
      "text/html": [
       "<div>\n",
       "<style scoped>\n",
       "    .dataframe tbody tr th:only-of-type {\n",
       "        vertical-align: middle;\n",
       "    }\n",
       "\n",
       "    .dataframe tbody tr th {\n",
       "        vertical-align: top;\n",
       "    }\n",
       "\n",
       "    .dataframe thead th {\n",
       "        text-align: right;\n",
       "    }\n",
       "</style>\n",
       "<table border=\"1\" class=\"dataframe\">\n",
       "  <thead>\n",
       "    <tr style=\"text-align: right;\">\n",
       "      <th></th>\n",
       "      <th>Test Accuracy</th>\n",
       "      <th>Test Precision</th>\n",
       "      <th>Test Recall</th>\n",
       "      <th>Test F1-Score</th>\n",
       "    </tr>\n",
       "    <tr>\n",
       "      <th>Model</th>\n",
       "      <th></th>\n",
       "      <th></th>\n",
       "      <th></th>\n",
       "      <th></th>\n",
       "    </tr>\n",
       "  </thead>\n",
       "  <tbody>\n",
       "    <tr>\n",
       "      <th>Logistic Regression</th>\n",
       "      <td>0.048</td>\n",
       "      <td>0.044</td>\n",
       "      <td>0.057</td>\n",
       "      <td>0.050</td>\n",
       "    </tr>\n",
       "    <tr>\n",
       "      <th>Random Forest</th>\n",
       "      <td>0.070</td>\n",
       "      <td>0.061</td>\n",
       "      <td>0.094</td>\n",
       "      <td>0.078</td>\n",
       "    </tr>\n",
       "    <tr>\n",
       "      <th>SVM</th>\n",
       "      <td>0.066</td>\n",
       "      <td>0.084</td>\n",
       "      <td>0.045</td>\n",
       "      <td>0.065</td>\n",
       "    </tr>\n",
       "    <tr>\n",
       "      <th>KNN</th>\n",
       "      <td>0.324</td>\n",
       "      <td>0.347</td>\n",
       "      <td>0.349</td>\n",
       "      <td>0.348</td>\n",
       "    </tr>\n",
       "    <tr>\n",
       "      <th>Gradient Boosting</th>\n",
       "      <td>0.124</td>\n",
       "      <td>0.152</td>\n",
       "      <td>0.083</td>\n",
       "      <td>0.120</td>\n",
       "    </tr>\n",
       "  </tbody>\n",
       "</table>\n",
       "</div>"
      ],
      "text/plain": [
       "                     Test Accuracy  Test Precision  Test Recall  Test F1-Score\n",
       "Model                                                                         \n",
       "Logistic Regression          0.048           0.044        0.057          0.050\n",
       "Random Forest                0.070           0.061        0.094          0.078\n",
       "SVM                          0.066           0.084        0.045          0.065\n",
       "KNN                          0.324           0.347        0.349          0.348\n",
       "Gradient Boosting            0.124           0.152        0.083          0.120"
      ]
     },
     "metadata": {},
     "output_type": "display_data"
    },
    {
     "name": "stdout",
     "output_type": "stream",
     "text": [
      "Percentage Differences:\n"
     ]
    },
    {
     "data": {
      "text/html": [
       "<div>\n",
       "<style scoped>\n",
       "    .dataframe tbody tr th:only-of-type {\n",
       "        vertical-align: middle;\n",
       "    }\n",
       "\n",
       "    .dataframe tbody tr th {\n",
       "        vertical-align: top;\n",
       "    }\n",
       "\n",
       "    .dataframe thead th {\n",
       "        text-align: right;\n",
       "    }\n",
       "</style>\n",
       "<table border=\"1\" class=\"dataframe\">\n",
       "  <thead>\n",
       "    <tr style=\"text-align: right;\">\n",
       "      <th></th>\n",
       "      <th>Test Accuracy</th>\n",
       "      <th>Test Precision</th>\n",
       "      <th>Test Recall</th>\n",
       "      <th>Test F1-Score</th>\n",
       "    </tr>\n",
       "    <tr>\n",
       "      <th>Model</th>\n",
       "      <th></th>\n",
       "      <th></th>\n",
       "      <th></th>\n",
       "      <th></th>\n",
       "    </tr>\n",
       "  </thead>\n",
       "  <tbody>\n",
       "    <tr>\n",
       "      <th>Logistic Regression</th>\n",
       "      <td>5.25</td>\n",
       "      <td>4.98</td>\n",
       "      <td>6.06</td>\n",
       "      <td>5.49</td>\n",
       "    </tr>\n",
       "    <tr>\n",
       "      <th>Random Forest</th>\n",
       "      <td>7.74</td>\n",
       "      <td>6.82</td>\n",
       "      <td>10.42</td>\n",
       "      <td>8.68</td>\n",
       "    </tr>\n",
       "    <tr>\n",
       "      <th>SVM</th>\n",
       "      <td>7.28</td>\n",
       "      <td>9.44</td>\n",
       "      <td>4.92</td>\n",
       "      <td>7.20</td>\n",
       "    </tr>\n",
       "    <tr>\n",
       "      <th>KNN</th>\n",
       "      <td>35.60</td>\n",
       "      <td>38.23</td>\n",
       "      <td>38.78</td>\n",
       "      <td>38.50</td>\n",
       "    </tr>\n",
       "    <tr>\n",
       "      <th>Gradient Boosting</th>\n",
       "      <td>13.63</td>\n",
       "      <td>17.00</td>\n",
       "      <td>9.05</td>\n",
       "      <td>13.25</td>\n",
       "    </tr>\n",
       "  </tbody>\n",
       "</table>\n",
       "</div>"
      ],
      "text/plain": [
       "                     Test Accuracy  Test Precision  Test Recall  Test F1-Score\n",
       "Model                                                                         \n",
       "Logistic Regression           5.25            4.98         6.06           5.49\n",
       "Random Forest                 7.74            6.82        10.42           8.68\n",
       "SVM                           7.28            9.44         4.92           7.20\n",
       "KNN                          35.60           38.23        38.78          38.50\n",
       "Gradient Boosting            13.63           17.00         9.05          13.25"
      ]
     },
     "metadata": {},
     "output_type": "display_data"
    },
    {
     "name": "stdout",
     "output_type": "stream",
     "text": [
      "\n",
      "Processing Model: dolphin3 (Model 6/8)\n",
      "Train shapes - Text: (4000, 10000), Tab: (4000, 4), Label: (4000,)\n",
      "Test shapes  - Text: (1000, 10000), Tab: (1000, 4), Label: (1000,)\n",
      "\n",
      "Predictions on review text:\n"
     ]
    },
    {
     "data": {
      "text/html": [
       "<div>\n",
       "<style scoped>\n",
       "    .dataframe tbody tr th:only-of-type {\n",
       "        vertical-align: middle;\n",
       "    }\n",
       "\n",
       "    .dataframe tbody tr th {\n",
       "        vertical-align: top;\n",
       "    }\n",
       "\n",
       "    .dataframe thead th {\n",
       "        text-align: right;\n",
       "    }\n",
       "</style>\n",
       "<table border=\"1\" class=\"dataframe\">\n",
       "  <thead>\n",
       "    <tr style=\"text-align: right;\">\n",
       "      <th></th>\n",
       "      <th>Test Accuracy</th>\n",
       "      <th>Test Precision</th>\n",
       "      <th>Test Recall</th>\n",
       "      <th>Test F1-Score</th>\n",
       "    </tr>\n",
       "    <tr>\n",
       "      <th>Model</th>\n",
       "      <th></th>\n",
       "      <th></th>\n",
       "      <th></th>\n",
       "      <th></th>\n",
       "    </tr>\n",
       "  </thead>\n",
       "  <tbody>\n",
       "    <tr>\n",
       "      <th>Logistic Regression</th>\n",
       "      <td>0.866</td>\n",
       "      <td>0.840081</td>\n",
       "      <td>0.882979</td>\n",
       "      <td>0.860996</td>\n",
       "    </tr>\n",
       "    <tr>\n",
       "      <th>Random Forest</th>\n",
       "      <td>0.834</td>\n",
       "      <td>0.833333</td>\n",
       "      <td>0.808511</td>\n",
       "      <td>0.820734</td>\n",
       "    </tr>\n",
       "    <tr>\n",
       "      <th>SVM</th>\n",
       "      <td>0.841</td>\n",
       "      <td>0.806706</td>\n",
       "      <td>0.870213</td>\n",
       "      <td>0.837257</td>\n",
       "    </tr>\n",
       "    <tr>\n",
       "      <th>KNN</th>\n",
       "      <td>0.586</td>\n",
       "      <td>0.560606</td>\n",
       "      <td>0.551064</td>\n",
       "      <td>0.555794</td>\n",
       "    </tr>\n",
       "    <tr>\n",
       "      <th>Gradient Boosting</th>\n",
       "      <td>0.786</td>\n",
       "      <td>0.742424</td>\n",
       "      <td>0.834043</td>\n",
       "      <td>0.785571</td>\n",
       "    </tr>\n",
       "  </tbody>\n",
       "</table>\n",
       "</div>"
      ],
      "text/plain": [
       "                     Test Accuracy  Test Precision  Test Recall  Test F1-Score\n",
       "Model                                                                         \n",
       "Logistic Regression          0.866        0.840081     0.882979       0.860996\n",
       "Random Forest                0.834        0.833333     0.808511       0.820734\n",
       "SVM                          0.841        0.806706     0.870213       0.837257\n",
       "KNN                          0.586        0.560606     0.551064       0.555794\n",
       "Gradient Boosting            0.786        0.742424     0.834043       0.785571"
      ]
     },
     "metadata": {},
     "output_type": "display_data"
    },
    {
     "name": "stdout",
     "output_type": "stream",
     "text": [
      "Predictions on tabular features derived from text (by LLM):\n"
     ]
    },
    {
     "data": {
      "text/html": [
       "<div>\n",
       "<style scoped>\n",
       "    .dataframe tbody tr th:only-of-type {\n",
       "        vertical-align: middle;\n",
       "    }\n",
       "\n",
       "    .dataframe tbody tr th {\n",
       "        vertical-align: top;\n",
       "    }\n",
       "\n",
       "    .dataframe thead th {\n",
       "        text-align: right;\n",
       "    }\n",
       "</style>\n",
       "<table border=\"1\" class=\"dataframe\">\n",
       "  <thead>\n",
       "    <tr style=\"text-align: right;\">\n",
       "      <th></th>\n",
       "      <th>Test Accuracy</th>\n",
       "      <th>Test Precision</th>\n",
       "      <th>Test Recall</th>\n",
       "      <th>Test F1-Score</th>\n",
       "    </tr>\n",
       "    <tr>\n",
       "      <th>Model</th>\n",
       "      <th></th>\n",
       "      <th></th>\n",
       "      <th></th>\n",
       "      <th></th>\n",
       "    </tr>\n",
       "  </thead>\n",
       "  <tbody>\n",
       "    <tr>\n",
       "      <th>Logistic Regression</th>\n",
       "      <td>0.912</td>\n",
       "      <td>0.894628</td>\n",
       "      <td>0.921277</td>\n",
       "      <td>0.907757</td>\n",
       "    </tr>\n",
       "    <tr>\n",
       "      <th>Random Forest</th>\n",
       "      <td>0.903</td>\n",
       "      <td>0.890985</td>\n",
       "      <td>0.904255</td>\n",
       "      <td>0.897571</td>\n",
       "    </tr>\n",
       "    <tr>\n",
       "      <th>SVM</th>\n",
       "      <td>0.911</td>\n",
       "      <td>0.897704</td>\n",
       "      <td>0.914894</td>\n",
       "      <td>0.906217</td>\n",
       "    </tr>\n",
       "    <tr>\n",
       "      <th>KNN</th>\n",
       "      <td>0.909</td>\n",
       "      <td>0.900634</td>\n",
       "      <td>0.906383</td>\n",
       "      <td>0.903499</td>\n",
       "    </tr>\n",
       "    <tr>\n",
       "      <th>Gradient Boosting</th>\n",
       "      <td>0.906</td>\n",
       "      <td>0.896624</td>\n",
       "      <td>0.904255</td>\n",
       "      <td>0.900424</td>\n",
       "    </tr>\n",
       "  </tbody>\n",
       "</table>\n",
       "</div>"
      ],
      "text/plain": [
       "                     Test Accuracy  Test Precision  Test Recall  Test F1-Score\n",
       "Model                                                                         \n",
       "Logistic Regression          0.912        0.894628     0.921277       0.907757\n",
       "Random Forest                0.903        0.890985     0.904255       0.897571\n",
       "SVM                          0.911        0.897704     0.914894       0.906217\n",
       "KNN                          0.909        0.900634     0.906383       0.903499\n",
       "Gradient Boosting            0.906        0.896624     0.904255       0.900424"
      ]
     },
     "metadata": {},
     "output_type": "display_data"
    },
    {
     "name": "stdout",
     "output_type": "stream",
     "text": [
      "Absolute Differences:\n"
     ]
    },
    {
     "data": {
      "text/html": [
       "<div>\n",
       "<style scoped>\n",
       "    .dataframe tbody tr th:only-of-type {\n",
       "        vertical-align: middle;\n",
       "    }\n",
       "\n",
       "    .dataframe tbody tr th {\n",
       "        vertical-align: top;\n",
       "    }\n",
       "\n",
       "    .dataframe thead th {\n",
       "        text-align: right;\n",
       "    }\n",
       "</style>\n",
       "<table border=\"1\" class=\"dataframe\">\n",
       "  <thead>\n",
       "    <tr style=\"text-align: right;\">\n",
       "      <th></th>\n",
       "      <th>Test Accuracy</th>\n",
       "      <th>Test Precision</th>\n",
       "      <th>Test Recall</th>\n",
       "      <th>Test F1-Score</th>\n",
       "    </tr>\n",
       "    <tr>\n",
       "      <th>Model</th>\n",
       "      <th></th>\n",
       "      <th></th>\n",
       "      <th></th>\n",
       "      <th></th>\n",
       "    </tr>\n",
       "  </thead>\n",
       "  <tbody>\n",
       "    <tr>\n",
       "      <th>Logistic Regression</th>\n",
       "      <td>0.046</td>\n",
       "      <td>0.055</td>\n",
       "      <td>0.038</td>\n",
       "      <td>0.047</td>\n",
       "    </tr>\n",
       "    <tr>\n",
       "      <th>Random Forest</th>\n",
       "      <td>0.069</td>\n",
       "      <td>0.058</td>\n",
       "      <td>0.096</td>\n",
       "      <td>0.077</td>\n",
       "    </tr>\n",
       "    <tr>\n",
       "      <th>SVM</th>\n",
       "      <td>0.070</td>\n",
       "      <td>0.091</td>\n",
       "      <td>0.045</td>\n",
       "      <td>0.069</td>\n",
       "    </tr>\n",
       "    <tr>\n",
       "      <th>KNN</th>\n",
       "      <td>0.323</td>\n",
       "      <td>0.340</td>\n",
       "      <td>0.355</td>\n",
       "      <td>0.348</td>\n",
       "    </tr>\n",
       "    <tr>\n",
       "      <th>Gradient Boosting</th>\n",
       "      <td>0.120</td>\n",
       "      <td>0.154</td>\n",
       "      <td>0.070</td>\n",
       "      <td>0.115</td>\n",
       "    </tr>\n",
       "  </tbody>\n",
       "</table>\n",
       "</div>"
      ],
      "text/plain": [
       "                     Test Accuracy  Test Precision  Test Recall  Test F1-Score\n",
       "Model                                                                         \n",
       "Logistic Regression          0.046           0.055        0.038          0.047\n",
       "Random Forest                0.069           0.058        0.096          0.077\n",
       "SVM                          0.070           0.091        0.045          0.069\n",
       "KNN                          0.323           0.340        0.355          0.348\n",
       "Gradient Boosting            0.120           0.154        0.070          0.115"
      ]
     },
     "metadata": {},
     "output_type": "display_data"
    },
    {
     "name": "stdout",
     "output_type": "stream",
     "text": [
      "Percentage Differences:\n"
     ]
    },
    {
     "data": {
      "text/html": [
       "<div>\n",
       "<style scoped>\n",
       "    .dataframe tbody tr th:only-of-type {\n",
       "        vertical-align: middle;\n",
       "    }\n",
       "\n",
       "    .dataframe tbody tr th {\n",
       "        vertical-align: top;\n",
       "    }\n",
       "\n",
       "    .dataframe thead th {\n",
       "        text-align: right;\n",
       "    }\n",
       "</style>\n",
       "<table border=\"1\" class=\"dataframe\">\n",
       "  <thead>\n",
       "    <tr style=\"text-align: right;\">\n",
       "      <th></th>\n",
       "      <th>Test Accuracy</th>\n",
       "      <th>Test Precision</th>\n",
       "      <th>Test Recall</th>\n",
       "      <th>Test F1-Score</th>\n",
       "    </tr>\n",
       "    <tr>\n",
       "      <th>Model</th>\n",
       "      <th></th>\n",
       "      <th></th>\n",
       "      <th></th>\n",
       "      <th></th>\n",
       "    </tr>\n",
       "  </thead>\n",
       "  <tbody>\n",
       "    <tr>\n",
       "      <th>Logistic Regression</th>\n",
       "      <td>5.04</td>\n",
       "      <td>6.15</td>\n",
       "      <td>4.12</td>\n",
       "      <td>5.18</td>\n",
       "    </tr>\n",
       "    <tr>\n",
       "      <th>Random Forest</th>\n",
       "      <td>7.64</td>\n",
       "      <td>6.51</td>\n",
       "      <td>10.62</td>\n",
       "      <td>8.58</td>\n",
       "    </tr>\n",
       "    <tr>\n",
       "      <th>SVM</th>\n",
       "      <td>7.68</td>\n",
       "      <td>10.14</td>\n",
       "      <td>4.92</td>\n",
       "      <td>7.61</td>\n",
       "    </tr>\n",
       "    <tr>\n",
       "      <th>KNN</th>\n",
       "      <td>35.53</td>\n",
       "      <td>37.75</td>\n",
       "      <td>39.17</td>\n",
       "      <td>38.52</td>\n",
       "    </tr>\n",
       "    <tr>\n",
       "      <th>Gradient Boosting</th>\n",
       "      <td>13.25</td>\n",
       "      <td>17.18</td>\n",
       "      <td>7.74</td>\n",
       "      <td>12.77</td>\n",
       "    </tr>\n",
       "  </tbody>\n",
       "</table>\n",
       "</div>"
      ],
      "text/plain": [
       "                     Test Accuracy  Test Precision  Test Recall  Test F1-Score\n",
       "Model                                                                         \n",
       "Logistic Regression           5.04            6.15         4.12           5.18\n",
       "Random Forest                 7.64            6.51        10.62           8.58\n",
       "SVM                           7.68           10.14         4.92           7.61\n",
       "KNN                          35.53           37.75        39.17          38.52\n",
       "Gradient Boosting            13.25           17.18         7.74          12.77"
      ]
     },
     "metadata": {},
     "output_type": "display_data"
    },
    {
     "name": "stdout",
     "output_type": "stream",
     "text": [
      "\n",
      "Processing Model: mistral (Model 7/8)\n",
      "Train shapes - Text: (4000, 10000), Tab: (4000, 4), Label: (4000,)\n",
      "Test shapes  - Text: (1000, 10000), Tab: (1000, 4), Label: (1000,)\n",
      "\n",
      "Predictions on review text:\n"
     ]
    },
    {
     "data": {
      "text/html": [
       "<div>\n",
       "<style scoped>\n",
       "    .dataframe tbody tr th:only-of-type {\n",
       "        vertical-align: middle;\n",
       "    }\n",
       "\n",
       "    .dataframe tbody tr th {\n",
       "        vertical-align: top;\n",
       "    }\n",
       "\n",
       "    .dataframe thead th {\n",
       "        text-align: right;\n",
       "    }\n",
       "</style>\n",
       "<table border=\"1\" class=\"dataframe\">\n",
       "  <thead>\n",
       "    <tr style=\"text-align: right;\">\n",
       "      <th></th>\n",
       "      <th>Test Accuracy</th>\n",
       "      <th>Test Precision</th>\n",
       "      <th>Test Recall</th>\n",
       "      <th>Test F1-Score</th>\n",
       "    </tr>\n",
       "    <tr>\n",
       "      <th>Model</th>\n",
       "      <th></th>\n",
       "      <th></th>\n",
       "      <th></th>\n",
       "      <th></th>\n",
       "    </tr>\n",
       "  </thead>\n",
       "  <tbody>\n",
       "    <tr>\n",
       "      <th>Logistic Regression</th>\n",
       "      <td>0.866</td>\n",
       "      <td>0.840081</td>\n",
       "      <td>0.882979</td>\n",
       "      <td>0.860996</td>\n",
       "    </tr>\n",
       "    <tr>\n",
       "      <th>Random Forest</th>\n",
       "      <td>0.834</td>\n",
       "      <td>0.833333</td>\n",
       "      <td>0.808511</td>\n",
       "      <td>0.820734</td>\n",
       "    </tr>\n",
       "    <tr>\n",
       "      <th>SVM</th>\n",
       "      <td>0.841</td>\n",
       "      <td>0.806706</td>\n",
       "      <td>0.870213</td>\n",
       "      <td>0.837257</td>\n",
       "    </tr>\n",
       "    <tr>\n",
       "      <th>KNN</th>\n",
       "      <td>0.586</td>\n",
       "      <td>0.560606</td>\n",
       "      <td>0.551064</td>\n",
       "      <td>0.555794</td>\n",
       "    </tr>\n",
       "    <tr>\n",
       "      <th>Gradient Boosting</th>\n",
       "      <td>0.786</td>\n",
       "      <td>0.742424</td>\n",
       "      <td>0.834043</td>\n",
       "      <td>0.785571</td>\n",
       "    </tr>\n",
       "  </tbody>\n",
       "</table>\n",
       "</div>"
      ],
      "text/plain": [
       "                     Test Accuracy  Test Precision  Test Recall  Test F1-Score\n",
       "Model                                                                         \n",
       "Logistic Regression          0.866        0.840081     0.882979       0.860996\n",
       "Random Forest                0.834        0.833333     0.808511       0.820734\n",
       "SVM                          0.841        0.806706     0.870213       0.837257\n",
       "KNN                          0.586        0.560606     0.551064       0.555794\n",
       "Gradient Boosting            0.786        0.742424     0.834043       0.785571"
      ]
     },
     "metadata": {},
     "output_type": "display_data"
    },
    {
     "name": "stdout",
     "output_type": "stream",
     "text": [
      "Predictions on tabular features derived from text (by LLM):\n"
     ]
    },
    {
     "data": {
      "text/html": [
       "<div>\n",
       "<style scoped>\n",
       "    .dataframe tbody tr th:only-of-type {\n",
       "        vertical-align: middle;\n",
       "    }\n",
       "\n",
       "    .dataframe tbody tr th {\n",
       "        vertical-align: top;\n",
       "    }\n",
       "\n",
       "    .dataframe thead th {\n",
       "        text-align: right;\n",
       "    }\n",
       "</style>\n",
       "<table border=\"1\" class=\"dataframe\">\n",
       "  <thead>\n",
       "    <tr style=\"text-align: right;\">\n",
       "      <th></th>\n",
       "      <th>Test Accuracy</th>\n",
       "      <th>Test Precision</th>\n",
       "      <th>Test Recall</th>\n",
       "      <th>Test F1-Score</th>\n",
       "    </tr>\n",
       "    <tr>\n",
       "      <th>Model</th>\n",
       "      <th></th>\n",
       "      <th></th>\n",
       "      <th></th>\n",
       "      <th></th>\n",
       "    </tr>\n",
       "  </thead>\n",
       "  <tbody>\n",
       "    <tr>\n",
       "      <th>Logistic Regression</th>\n",
       "      <td>0.953</td>\n",
       "      <td>0.941545</td>\n",
       "      <td>0.959574</td>\n",
       "      <td>0.950474</td>\n",
       "    </tr>\n",
       "    <tr>\n",
       "      <th>Random Forest</th>\n",
       "      <td>0.944</td>\n",
       "      <td>0.933054</td>\n",
       "      <td>0.948936</td>\n",
       "      <td>0.940928</td>\n",
       "    </tr>\n",
       "    <tr>\n",
       "      <th>SVM</th>\n",
       "      <td>0.954</td>\n",
       "      <td>0.952991</td>\n",
       "      <td>0.948936</td>\n",
       "      <td>0.950959</td>\n",
       "    </tr>\n",
       "    <tr>\n",
       "      <th>KNN</th>\n",
       "      <td>0.945</td>\n",
       "      <td>0.940552</td>\n",
       "      <td>0.942553</td>\n",
       "      <td>0.941552</td>\n",
       "    </tr>\n",
       "    <tr>\n",
       "      <th>Gradient Boosting</th>\n",
       "      <td>0.954</td>\n",
       "      <td>0.951064</td>\n",
       "      <td>0.951064</td>\n",
       "      <td>0.951064</td>\n",
       "    </tr>\n",
       "  </tbody>\n",
       "</table>\n",
       "</div>"
      ],
      "text/plain": [
       "                     Test Accuracy  Test Precision  Test Recall  Test F1-Score\n",
       "Model                                                                         \n",
       "Logistic Regression          0.953        0.941545     0.959574       0.950474\n",
       "Random Forest                0.944        0.933054     0.948936       0.940928\n",
       "SVM                          0.954        0.952991     0.948936       0.950959\n",
       "KNN                          0.945        0.940552     0.942553       0.941552\n",
       "Gradient Boosting            0.954        0.951064     0.951064       0.951064"
      ]
     },
     "metadata": {},
     "output_type": "display_data"
    },
    {
     "name": "stdout",
     "output_type": "stream",
     "text": [
      "Absolute Differences:\n"
     ]
    },
    {
     "data": {
      "text/html": [
       "<div>\n",
       "<style scoped>\n",
       "    .dataframe tbody tr th:only-of-type {\n",
       "        vertical-align: middle;\n",
       "    }\n",
       "\n",
       "    .dataframe tbody tr th {\n",
       "        vertical-align: top;\n",
       "    }\n",
       "\n",
       "    .dataframe thead th {\n",
       "        text-align: right;\n",
       "    }\n",
       "</style>\n",
       "<table border=\"1\" class=\"dataframe\">\n",
       "  <thead>\n",
       "    <tr style=\"text-align: right;\">\n",
       "      <th></th>\n",
       "      <th>Test Accuracy</th>\n",
       "      <th>Test Precision</th>\n",
       "      <th>Test Recall</th>\n",
       "      <th>Test F1-Score</th>\n",
       "    </tr>\n",
       "    <tr>\n",
       "      <th>Model</th>\n",
       "      <th></th>\n",
       "      <th></th>\n",
       "      <th></th>\n",
       "      <th></th>\n",
       "    </tr>\n",
       "  </thead>\n",
       "  <tbody>\n",
       "    <tr>\n",
       "      <th>Logistic Regression</th>\n",
       "      <td>0.087</td>\n",
       "      <td>0.101</td>\n",
       "      <td>0.077</td>\n",
       "      <td>0.089</td>\n",
       "    </tr>\n",
       "    <tr>\n",
       "      <th>Random Forest</th>\n",
       "      <td>0.110</td>\n",
       "      <td>0.100</td>\n",
       "      <td>0.140</td>\n",
       "      <td>0.120</td>\n",
       "    </tr>\n",
       "    <tr>\n",
       "      <th>SVM</th>\n",
       "      <td>0.113</td>\n",
       "      <td>0.146</td>\n",
       "      <td>0.079</td>\n",
       "      <td>0.114</td>\n",
       "    </tr>\n",
       "    <tr>\n",
       "      <th>KNN</th>\n",
       "      <td>0.359</td>\n",
       "      <td>0.380</td>\n",
       "      <td>0.391</td>\n",
       "      <td>0.386</td>\n",
       "    </tr>\n",
       "    <tr>\n",
       "      <th>Gradient Boosting</th>\n",
       "      <td>0.168</td>\n",
       "      <td>0.209</td>\n",
       "      <td>0.117</td>\n",
       "      <td>0.165</td>\n",
       "    </tr>\n",
       "  </tbody>\n",
       "</table>\n",
       "</div>"
      ],
      "text/plain": [
       "                     Test Accuracy  Test Precision  Test Recall  Test F1-Score\n",
       "Model                                                                         \n",
       "Logistic Regression          0.087           0.101        0.077          0.089\n",
       "Random Forest                0.110           0.100        0.140          0.120\n",
       "SVM                          0.113           0.146        0.079          0.114\n",
       "KNN                          0.359           0.380        0.391          0.386\n",
       "Gradient Boosting            0.168           0.209        0.117          0.165"
      ]
     },
     "metadata": {},
     "output_type": "display_data"
    },
    {
     "name": "stdout",
     "output_type": "stream",
     "text": [
      "Percentage Differences:\n"
     ]
    },
    {
     "data": {
      "text/html": [
       "<div>\n",
       "<style scoped>\n",
       "    .dataframe tbody tr th:only-of-type {\n",
       "        vertical-align: middle;\n",
       "    }\n",
       "\n",
       "    .dataframe tbody tr th {\n",
       "        vertical-align: top;\n",
       "    }\n",
       "\n",
       "    .dataframe thead th {\n",
       "        text-align: right;\n",
       "    }\n",
       "</style>\n",
       "<table border=\"1\" class=\"dataframe\">\n",
       "  <thead>\n",
       "    <tr style=\"text-align: right;\">\n",
       "      <th></th>\n",
       "      <th>Test Accuracy</th>\n",
       "      <th>Test Precision</th>\n",
       "      <th>Test Recall</th>\n",
       "      <th>Test F1-Score</th>\n",
       "    </tr>\n",
       "    <tr>\n",
       "      <th>Model</th>\n",
       "      <th></th>\n",
       "      <th></th>\n",
       "      <th></th>\n",
       "      <th></th>\n",
       "    </tr>\n",
       "  </thead>\n",
       "  <tbody>\n",
       "    <tr>\n",
       "      <th>Logistic Regression</th>\n",
       "      <td>9.13</td>\n",
       "      <td>10.73</td>\n",
       "      <td>8.02</td>\n",
       "      <td>9.36</td>\n",
       "    </tr>\n",
       "    <tr>\n",
       "      <th>Random Forest</th>\n",
       "      <td>11.65</td>\n",
       "      <td>10.72</td>\n",
       "      <td>14.75</td>\n",
       "      <td>12.75</td>\n",
       "    </tr>\n",
       "    <tr>\n",
       "      <th>SVM</th>\n",
       "      <td>11.84</td>\n",
       "      <td>15.32</td>\n",
       "      <td>8.33</td>\n",
       "      <td>11.99</td>\n",
       "    </tr>\n",
       "    <tr>\n",
       "      <th>KNN</th>\n",
       "      <td>37.99</td>\n",
       "      <td>40.40</td>\n",
       "      <td>41.48</td>\n",
       "      <td>41.00</td>\n",
       "    </tr>\n",
       "    <tr>\n",
       "      <th>Gradient Boosting</th>\n",
       "      <td>17.61</td>\n",
       "      <td>21.98</td>\n",
       "      <td>12.30</td>\n",
       "      <td>17.35</td>\n",
       "    </tr>\n",
       "  </tbody>\n",
       "</table>\n",
       "</div>"
      ],
      "text/plain": [
       "                     Test Accuracy  Test Precision  Test Recall  Test F1-Score\n",
       "Model                                                                         \n",
       "Logistic Regression           9.13           10.73         8.02           9.36\n",
       "Random Forest                11.65           10.72        14.75          12.75\n",
       "SVM                          11.84           15.32         8.33          11.99\n",
       "KNN                          37.99           40.40        41.48          41.00\n",
       "Gradient Boosting            17.61           21.98        12.30          17.35"
      ]
     },
     "metadata": {},
     "output_type": "display_data"
    },
    {
     "name": "stdout",
     "output_type": "stream",
     "text": [
      "\n",
      "Processing Model: deepseek-llm (Model 8/8)\n",
      "Train shapes - Text: (4000, 10000), Tab: (4000, 4), Label: (4000,)\n",
      "Test shapes  - Text: (1000, 10000), Tab: (1000, 4), Label: (1000,)\n",
      "\n",
      "Predictions on review text:\n"
     ]
    },
    {
     "data": {
      "text/html": [
       "<div>\n",
       "<style scoped>\n",
       "    .dataframe tbody tr th:only-of-type {\n",
       "        vertical-align: middle;\n",
       "    }\n",
       "\n",
       "    .dataframe tbody tr th {\n",
       "        vertical-align: top;\n",
       "    }\n",
       "\n",
       "    .dataframe thead th {\n",
       "        text-align: right;\n",
       "    }\n",
       "</style>\n",
       "<table border=\"1\" class=\"dataframe\">\n",
       "  <thead>\n",
       "    <tr style=\"text-align: right;\">\n",
       "      <th></th>\n",
       "      <th>Test Accuracy</th>\n",
       "      <th>Test Precision</th>\n",
       "      <th>Test Recall</th>\n",
       "      <th>Test F1-Score</th>\n",
       "    </tr>\n",
       "    <tr>\n",
       "      <th>Model</th>\n",
       "      <th></th>\n",
       "      <th></th>\n",
       "      <th></th>\n",
       "      <th></th>\n",
       "    </tr>\n",
       "  </thead>\n",
       "  <tbody>\n",
       "    <tr>\n",
       "      <th>Logistic Regression</th>\n",
       "      <td>0.866</td>\n",
       "      <td>0.840081</td>\n",
       "      <td>0.882979</td>\n",
       "      <td>0.860996</td>\n",
       "    </tr>\n",
       "    <tr>\n",
       "      <th>Random Forest</th>\n",
       "      <td>0.834</td>\n",
       "      <td>0.833333</td>\n",
       "      <td>0.808511</td>\n",
       "      <td>0.820734</td>\n",
       "    </tr>\n",
       "    <tr>\n",
       "      <th>SVM</th>\n",
       "      <td>0.841</td>\n",
       "      <td>0.806706</td>\n",
       "      <td>0.870213</td>\n",
       "      <td>0.837257</td>\n",
       "    </tr>\n",
       "    <tr>\n",
       "      <th>KNN</th>\n",
       "      <td>0.586</td>\n",
       "      <td>0.560606</td>\n",
       "      <td>0.551064</td>\n",
       "      <td>0.555794</td>\n",
       "    </tr>\n",
       "    <tr>\n",
       "      <th>Gradient Boosting</th>\n",
       "      <td>0.786</td>\n",
       "      <td>0.742424</td>\n",
       "      <td>0.834043</td>\n",
       "      <td>0.785571</td>\n",
       "    </tr>\n",
       "  </tbody>\n",
       "</table>\n",
       "</div>"
      ],
      "text/plain": [
       "                     Test Accuracy  Test Precision  Test Recall  Test F1-Score\n",
       "Model                                                                         \n",
       "Logistic Regression          0.866        0.840081     0.882979       0.860996\n",
       "Random Forest                0.834        0.833333     0.808511       0.820734\n",
       "SVM                          0.841        0.806706     0.870213       0.837257\n",
       "KNN                          0.586        0.560606     0.551064       0.555794\n",
       "Gradient Boosting            0.786        0.742424     0.834043       0.785571"
      ]
     },
     "metadata": {},
     "output_type": "display_data"
    },
    {
     "name": "stdout",
     "output_type": "stream",
     "text": [
      "Predictions on tabular features derived from text (by LLM):\n"
     ]
    },
    {
     "data": {
      "text/html": [
       "<div>\n",
       "<style scoped>\n",
       "    .dataframe tbody tr th:only-of-type {\n",
       "        vertical-align: middle;\n",
       "    }\n",
       "\n",
       "    .dataframe tbody tr th {\n",
       "        vertical-align: top;\n",
       "    }\n",
       "\n",
       "    .dataframe thead th {\n",
       "        text-align: right;\n",
       "    }\n",
       "</style>\n",
       "<table border=\"1\" class=\"dataframe\">\n",
       "  <thead>\n",
       "    <tr style=\"text-align: right;\">\n",
       "      <th></th>\n",
       "      <th>Test Accuracy</th>\n",
       "      <th>Test Precision</th>\n",
       "      <th>Test Recall</th>\n",
       "      <th>Test F1-Score</th>\n",
       "    </tr>\n",
       "    <tr>\n",
       "      <th>Model</th>\n",
       "      <th></th>\n",
       "      <th></th>\n",
       "      <th></th>\n",
       "      <th></th>\n",
       "    </tr>\n",
       "  </thead>\n",
       "  <tbody>\n",
       "    <tr>\n",
       "      <th>Logistic Regression</th>\n",
       "      <td>0.686</td>\n",
       "      <td>0.681395</td>\n",
       "      <td>0.623404</td>\n",
       "      <td>0.651111</td>\n",
       "    </tr>\n",
       "    <tr>\n",
       "      <th>Random Forest</th>\n",
       "      <td>0.838</td>\n",
       "      <td>0.776978</td>\n",
       "      <td>0.919149</td>\n",
       "      <td>0.842105</td>\n",
       "    </tr>\n",
       "    <tr>\n",
       "      <th>SVM</th>\n",
       "      <td>0.779</td>\n",
       "      <td>0.704433</td>\n",
       "      <td>0.912766</td>\n",
       "      <td>0.795181</td>\n",
       "    </tr>\n",
       "    <tr>\n",
       "      <th>KNN</th>\n",
       "      <td>0.745</td>\n",
       "      <td>0.804533</td>\n",
       "      <td>0.604255</td>\n",
       "      <td>0.690158</td>\n",
       "    </tr>\n",
       "    <tr>\n",
       "      <th>Gradient Boosting</th>\n",
       "      <td>0.837</td>\n",
       "      <td>0.771681</td>\n",
       "      <td>0.927660</td>\n",
       "      <td>0.842512</td>\n",
       "    </tr>\n",
       "  </tbody>\n",
       "</table>\n",
       "</div>"
      ],
      "text/plain": [
       "                     Test Accuracy  Test Precision  Test Recall  Test F1-Score\n",
       "Model                                                                         \n",
       "Logistic Regression          0.686        0.681395     0.623404       0.651111\n",
       "Random Forest                0.838        0.776978     0.919149       0.842105\n",
       "SVM                          0.779        0.704433     0.912766       0.795181\n",
       "KNN                          0.745        0.804533     0.604255       0.690158\n",
       "Gradient Boosting            0.837        0.771681     0.927660       0.842512"
      ]
     },
     "metadata": {},
     "output_type": "display_data"
    },
    {
     "name": "stdout",
     "output_type": "stream",
     "text": [
      "Absolute Differences:\n"
     ]
    },
    {
     "data": {
      "text/html": [
       "<div>\n",
       "<style scoped>\n",
       "    .dataframe tbody tr th:only-of-type {\n",
       "        vertical-align: middle;\n",
       "    }\n",
       "\n",
       "    .dataframe tbody tr th {\n",
       "        vertical-align: top;\n",
       "    }\n",
       "\n",
       "    .dataframe thead th {\n",
       "        text-align: right;\n",
       "    }\n",
       "</style>\n",
       "<table border=\"1\" class=\"dataframe\">\n",
       "  <thead>\n",
       "    <tr style=\"text-align: right;\">\n",
       "      <th></th>\n",
       "      <th>Test Accuracy</th>\n",
       "      <th>Test Precision</th>\n",
       "      <th>Test Recall</th>\n",
       "      <th>Test F1-Score</th>\n",
       "    </tr>\n",
       "    <tr>\n",
       "      <th>Model</th>\n",
       "      <th></th>\n",
       "      <th></th>\n",
       "      <th></th>\n",
       "      <th></th>\n",
       "    </tr>\n",
       "  </thead>\n",
       "  <tbody>\n",
       "    <tr>\n",
       "      <th>Logistic Regression</th>\n",
       "      <td>0.180</td>\n",
       "      <td>0.159</td>\n",
       "      <td>0.260</td>\n",
       "      <td>0.210</td>\n",
       "    </tr>\n",
       "    <tr>\n",
       "      <th>Random Forest</th>\n",
       "      <td>0.004</td>\n",
       "      <td>0.056</td>\n",
       "      <td>0.111</td>\n",
       "      <td>0.021</td>\n",
       "    </tr>\n",
       "    <tr>\n",
       "      <th>SVM</th>\n",
       "      <td>0.062</td>\n",
       "      <td>0.102</td>\n",
       "      <td>0.043</td>\n",
       "      <td>0.042</td>\n",
       "    </tr>\n",
       "    <tr>\n",
       "      <th>KNN</th>\n",
       "      <td>0.159</td>\n",
       "      <td>0.244</td>\n",
       "      <td>0.053</td>\n",
       "      <td>0.134</td>\n",
       "    </tr>\n",
       "    <tr>\n",
       "      <th>Gradient Boosting</th>\n",
       "      <td>0.051</td>\n",
       "      <td>0.029</td>\n",
       "      <td>0.094</td>\n",
       "      <td>0.057</td>\n",
       "    </tr>\n",
       "  </tbody>\n",
       "</table>\n",
       "</div>"
      ],
      "text/plain": [
       "                     Test Accuracy  Test Precision  Test Recall  Test F1-Score\n",
       "Model                                                                         \n",
       "Logistic Regression          0.180           0.159        0.260          0.210\n",
       "Random Forest                0.004           0.056        0.111          0.021\n",
       "SVM                          0.062           0.102        0.043          0.042\n",
       "KNN                          0.159           0.244        0.053          0.134\n",
       "Gradient Boosting            0.051           0.029        0.094          0.057"
      ]
     },
     "metadata": {},
     "output_type": "display_data"
    },
    {
     "name": "stdout",
     "output_type": "stream",
     "text": [
      "Percentage Differences:\n"
     ]
    },
    {
     "data": {
      "text/html": [
       "<div>\n",
       "<style scoped>\n",
       "    .dataframe tbody tr th:only-of-type {\n",
       "        vertical-align: middle;\n",
       "    }\n",
       "\n",
       "    .dataframe tbody tr th {\n",
       "        vertical-align: top;\n",
       "    }\n",
       "\n",
       "    .dataframe thead th {\n",
       "        text-align: right;\n",
       "    }\n",
       "</style>\n",
       "<table border=\"1\" class=\"dataframe\">\n",
       "  <thead>\n",
       "    <tr style=\"text-align: right;\">\n",
       "      <th></th>\n",
       "      <th>Test Accuracy</th>\n",
       "      <th>Test Precision</th>\n",
       "      <th>Test Recall</th>\n",
       "      <th>Test F1-Score</th>\n",
       "    </tr>\n",
       "    <tr>\n",
       "      <th>Model</th>\n",
       "      <th></th>\n",
       "      <th></th>\n",
       "      <th></th>\n",
       "      <th></th>\n",
       "    </tr>\n",
       "  </thead>\n",
       "  <tbody>\n",
       "    <tr>\n",
       "      <th>Logistic Regression</th>\n",
       "      <td>26.24</td>\n",
       "      <td>23.33</td>\n",
       "      <td>41.71</td>\n",
       "      <td>32.25</td>\n",
       "    </tr>\n",
       "    <tr>\n",
       "      <th>Random Forest</th>\n",
       "      <td>0.48</td>\n",
       "      <td>7.21</td>\n",
       "      <td>12.08</td>\n",
       "      <td>2.49</td>\n",
       "    </tr>\n",
       "    <tr>\n",
       "      <th>SVM</th>\n",
       "      <td>7.96</td>\n",
       "      <td>14.48</td>\n",
       "      <td>4.71</td>\n",
       "      <td>5.28</td>\n",
       "    </tr>\n",
       "    <tr>\n",
       "      <th>KNN</th>\n",
       "      <td>21.34</td>\n",
       "      <td>30.33</td>\n",
       "      <td>8.77</td>\n",
       "      <td>19.42</td>\n",
       "    </tr>\n",
       "    <tr>\n",
       "      <th>Gradient Boosting</th>\n",
       "      <td>6.09</td>\n",
       "      <td>3.76</td>\n",
       "      <td>10.13</td>\n",
       "      <td>6.77</td>\n",
       "    </tr>\n",
       "  </tbody>\n",
       "</table>\n",
       "</div>"
      ],
      "text/plain": [
       "                     Test Accuracy  Test Precision  Test Recall  Test F1-Score\n",
       "Model                                                                         \n",
       "Logistic Regression          26.24           23.33        41.71          32.25\n",
       "Random Forest                 0.48            7.21        12.08           2.49\n",
       "SVM                           7.96           14.48         4.71           5.28\n",
       "KNN                          21.34           30.33         8.77          19.42\n",
       "Gradient Boosting             6.09            3.76        10.13           6.77"
      ]
     },
     "metadata": {},
     "output_type": "display_data"
    },
    {
     "name": "stdout",
     "output_type": "stream",
     "text": [
      "\n"
     ]
    }
   ],
   "source": [
    "# For each LLM\n",
    "for index, model in enumerate(models):\n",
    "    print(\"Processing Model: \" + model + \" (Model \" + str(index + 1) + \"/\" + str(len(models)) + \")\")\n",
    "\n",
    "    # Generate the data split\n",
    "    X_train_text, X_train_tab, y_train, X_test_text, X_test_tab, y_test = experimental_setup(df, model)\n",
    "\n",
    "    # Evaluate models with multiple metrics and print results\n",
    "    textual_results = evaluate_models_with_metrics(ml_models, X_train_text, y_train, X_test_text, y_test)\n",
    "    tabular_results = evaluate_models_with_metrics(ml_models, X_train_tab, y_train, X_test_tab, y_test) \n",
    "    \n",
    "    # Compute absolute and percentage differences\n",
    "    abs_diff = (textual_results - tabular_results).abs().round(3)\n",
    "    percent_diff = ((abs_diff / tabular_results) * 100).round(2)\n",
    "    \n",
    "    # Display results\n",
    "    print(\"Predictions on review text:\")\n",
    "    display(textual_results)\n",
    "    print(\"Predictions on tabular features derived from text (by LLM):\")\n",
    "    display(tabular_results)\n",
    "    print(\"Absolute Differences:\")\n",
    "    display(abs_diff)\n",
    "    print(\"Percentage Differences:\")\n",
    "    display(percent_diff)\n",
    "    print()"
   ]
  },
  {
   "cell_type": "markdown",
   "id": "a58105ef-ac7f-4380-8016-e872d276906d",
   "metadata": {},
   "source": [
    "## Textual vs Ensemble - Classifcations"
   ]
  },
  {
   "cell_type": "code",
   "execution_count": 20,
   "id": "f8599e93-8713-4c41-a1f2-05f41b715bcd",
   "metadata": {},
   "outputs": [],
   "source": [
    "def evaluate_ensemble_model(ml_model_textual, ml_model_tabular): \n",
    "    assert ml_model_textual[0] == ml_model_tabular[0]\n",
    "    model_name = ml_model_textual[0]\n",
    "    \n",
    "    # Extract model from tuple\n",
    "    ml_model_tabular = ml_model_tabular[1]\n",
    "    ml_model_textual = ml_model_textual[1]\n",
    "    \n",
    "    # Get prediction probabilities for both modalities       \n",
    "    probas_tab_test = ml_model_tabular.predict_proba(X_test_tab)\n",
    "    probas_txt_test = ml_model_textual.predict_proba(X_test_text)\n",
    "\n",
    "    # Combine probabilities (average them)\n",
    "    combined_proba_test = (probas_tab_test + probas_txt_test) / 2\n",
    "    \n",
    "    # Get final predictions\n",
    "    y_pred_test = np.argmax(combined_proba_test, axis=1)\n",
    "\n",
    "    # Store results\n",
    "    ensemble_results = ({\n",
    "        'Model': model_name,\n",
    "        'Test Accuracy': accuracy_score(y_test, y_pred_test),\n",
    "        'Test Precision': precision_score(y_test, y_pred_test),\n",
    "        'Test Recall': recall_score(y_test, y_pred_test),\n",
    "        'Test F1-Score': f1_score(y_test, y_pred_test)\n",
    "    })\n",
    "\n",
    "    return ensemble_results"
   ]
  },
  {
   "cell_type": "code",
   "execution_count": 21,
   "id": "0f663cc8-53c8-4abb-9e1d-614efe84e0d7",
   "metadata": {},
   "outputs": [
    {
     "name": "stdout",
     "output_type": "stream",
     "text": [
      "Processing Model: llama3.2:1b (Model 1/8)\n",
      "Train shapes - Text: (4000, 10000), Tab: (4000, 4), Label: (4000,)\n",
      "Test shapes  - Text: (1000, 10000), Tab: (1000, 4), Label: (1000,)\n",
      "\n",
      "Ensemble Results:\n"
     ]
    },
    {
     "data": {
      "text/html": [
       "<div>\n",
       "<style scoped>\n",
       "    .dataframe tbody tr th:only-of-type {\n",
       "        vertical-align: middle;\n",
       "    }\n",
       "\n",
       "    .dataframe tbody tr th {\n",
       "        vertical-align: top;\n",
       "    }\n",
       "\n",
       "    .dataframe thead th {\n",
       "        text-align: right;\n",
       "    }\n",
       "</style>\n",
       "<table border=\"1\" class=\"dataframe\">\n",
       "  <thead>\n",
       "    <tr style=\"text-align: right;\">\n",
       "      <th></th>\n",
       "      <th>Test Accuracy</th>\n",
       "      <th>Test Precision</th>\n",
       "      <th>Test Recall</th>\n",
       "      <th>Test F1-Score</th>\n",
       "    </tr>\n",
       "    <tr>\n",
       "      <th>Model</th>\n",
       "      <th></th>\n",
       "      <th></th>\n",
       "      <th></th>\n",
       "      <th></th>\n",
       "    </tr>\n",
       "  </thead>\n",
       "  <tbody>\n",
       "    <tr>\n",
       "      <th>Logistic Regression</th>\n",
       "      <td>0.877</td>\n",
       "      <td>0.860707</td>\n",
       "      <td>0.880851</td>\n",
       "      <td>0.870662</td>\n",
       "    </tr>\n",
       "    <tr>\n",
       "      <th>Random Forest</th>\n",
       "      <td>0.739</td>\n",
       "      <td>0.717256</td>\n",
       "      <td>0.734043</td>\n",
       "      <td>0.725552</td>\n",
       "    </tr>\n",
       "    <tr>\n",
       "      <th>SVM</th>\n",
       "      <td>0.856</td>\n",
       "      <td>0.829960</td>\n",
       "      <td>0.872340</td>\n",
       "      <td>0.850622</td>\n",
       "    </tr>\n",
       "    <tr>\n",
       "      <th>KNN</th>\n",
       "      <td>0.642</td>\n",
       "      <td>0.652174</td>\n",
       "      <td>0.510638</td>\n",
       "      <td>0.572792</td>\n",
       "    </tr>\n",
       "    <tr>\n",
       "      <th>Gradient Boosting</th>\n",
       "      <td>0.813</td>\n",
       "      <td>0.796646</td>\n",
       "      <td>0.808511</td>\n",
       "      <td>0.802534</td>\n",
       "    </tr>\n",
       "  </tbody>\n",
       "</table>\n",
       "</div>"
      ],
      "text/plain": [
       "                     Test Accuracy  Test Precision  Test Recall  Test F1-Score\n",
       "Model                                                                         \n",
       "Logistic Regression          0.877        0.860707     0.880851       0.870662\n",
       "Random Forest                0.739        0.717256     0.734043       0.725552\n",
       "SVM                          0.856        0.829960     0.872340       0.850622\n",
       "KNN                          0.642        0.652174     0.510638       0.572792\n",
       "Gradient Boosting            0.813        0.796646     0.808511       0.802534"
      ]
     },
     "metadata": {},
     "output_type": "display_data"
    },
    {
     "name": "stdout",
     "output_type": "stream",
     "text": [
      "% Difference ensemble vs textual model:\n"
     ]
    },
    {
     "data": {
      "text/html": [
       "<div>\n",
       "<style scoped>\n",
       "    .dataframe tbody tr th:only-of-type {\n",
       "        vertical-align: middle;\n",
       "    }\n",
       "\n",
       "    .dataframe tbody tr th {\n",
       "        vertical-align: top;\n",
       "    }\n",
       "\n",
       "    .dataframe thead th {\n",
       "        text-align: right;\n",
       "    }\n",
       "</style>\n",
       "<table border=\"1\" class=\"dataframe\">\n",
       "  <thead>\n",
       "    <tr style=\"text-align: right;\">\n",
       "      <th></th>\n",
       "      <th>Test Accuracy</th>\n",
       "      <th>Test Precision</th>\n",
       "      <th>Test Recall</th>\n",
       "      <th>Test F1-Score</th>\n",
       "    </tr>\n",
       "    <tr>\n",
       "      <th>Model</th>\n",
       "      <th></th>\n",
       "      <th></th>\n",
       "      <th></th>\n",
       "      <th></th>\n",
       "    </tr>\n",
       "  </thead>\n",
       "  <tbody>\n",
       "    <tr>\n",
       "      <th>Logistic Regression</th>\n",
       "      <td>1.27</td>\n",
       "      <td>2.46</td>\n",
       "      <td>-0.24</td>\n",
       "      <td>1.12</td>\n",
       "    </tr>\n",
       "    <tr>\n",
       "      <th>Random Forest</th>\n",
       "      <td>-11.39</td>\n",
       "      <td>-13.93</td>\n",
       "      <td>-9.21</td>\n",
       "      <td>-11.60</td>\n",
       "    </tr>\n",
       "    <tr>\n",
       "      <th>SVM</th>\n",
       "      <td>1.78</td>\n",
       "      <td>2.88</td>\n",
       "      <td>0.24</td>\n",
       "      <td>1.60</td>\n",
       "    </tr>\n",
       "    <tr>\n",
       "      <th>KNN</th>\n",
       "      <td>9.56</td>\n",
       "      <td>16.33</td>\n",
       "      <td>-7.34</td>\n",
       "      <td>3.06</td>\n",
       "    </tr>\n",
       "    <tr>\n",
       "      <th>Gradient Boosting</th>\n",
       "      <td>3.44</td>\n",
       "      <td>7.30</td>\n",
       "      <td>-3.06</td>\n",
       "      <td>2.16</td>\n",
       "    </tr>\n",
       "  </tbody>\n",
       "</table>\n",
       "</div>"
      ],
      "text/plain": [
       "                     Test Accuracy  Test Precision  Test Recall  Test F1-Score\n",
       "Model                                                                         \n",
       "Logistic Regression           1.27            2.46        -0.24           1.12\n",
       "Random Forest               -11.39          -13.93        -9.21         -11.60\n",
       "SVM                           1.78            2.88         0.24           1.60\n",
       "KNN                           9.56           16.33        -7.34           3.06\n",
       "Gradient Boosting             3.44            7.30        -3.06           2.16"
      ]
     },
     "metadata": {},
     "output_type": "display_data"
    },
    {
     "name": "stdout",
     "output_type": "stream",
     "text": [
      "% Difference ensemble vs tabular model:\n"
     ]
    },
    {
     "data": {
      "text/html": [
       "<div>\n",
       "<style scoped>\n",
       "    .dataframe tbody tr th:only-of-type {\n",
       "        vertical-align: middle;\n",
       "    }\n",
       "\n",
       "    .dataframe tbody tr th {\n",
       "        vertical-align: top;\n",
       "    }\n",
       "\n",
       "    .dataframe thead th {\n",
       "        text-align: right;\n",
       "    }\n",
       "</style>\n",
       "<table border=\"1\" class=\"dataframe\">\n",
       "  <thead>\n",
       "    <tr style=\"text-align: right;\">\n",
       "      <th></th>\n",
       "      <th>Test Accuracy</th>\n",
       "      <th>Test Precision</th>\n",
       "      <th>Test Recall</th>\n",
       "      <th>Test F1-Score</th>\n",
       "    </tr>\n",
       "    <tr>\n",
       "      <th>Model</th>\n",
       "      <th></th>\n",
       "      <th></th>\n",
       "      <th></th>\n",
       "      <th></th>\n",
       "    </tr>\n",
       "  </thead>\n",
       "  <tbody>\n",
       "    <tr>\n",
       "      <th>Logistic Regression</th>\n",
       "      <td>30.12</td>\n",
       "      <td>30.27</td>\n",
       "      <td>39.86</td>\n",
       "      <td>35.01</td>\n",
       "    </tr>\n",
       "    <tr>\n",
       "      <th>Random Forest</th>\n",
       "      <td>23.79</td>\n",
       "      <td>25.45</td>\n",
       "      <td>29.21</td>\n",
       "      <td>27.31</td>\n",
       "    </tr>\n",
       "    <tr>\n",
       "      <th>SVM</th>\n",
       "      <td>26.07</td>\n",
       "      <td>25.31</td>\n",
       "      <td>34.87</td>\n",
       "      <td>29.97</td>\n",
       "    </tr>\n",
       "    <tr>\n",
       "      <th>KNN</th>\n",
       "      <td>1.10</td>\n",
       "      <td>6.74</td>\n",
       "      <td>-16.96</td>\n",
       "      <td>-6.55</td>\n",
       "    </tr>\n",
       "    <tr>\n",
       "      <th>Gradient Boosting</th>\n",
       "      <td>21.89</td>\n",
       "      <td>23.78</td>\n",
       "      <td>23.78</td>\n",
       "      <td>23.78</td>\n",
       "    </tr>\n",
       "  </tbody>\n",
       "</table>\n",
       "</div>"
      ],
      "text/plain": [
       "                     Test Accuracy  Test Precision  Test Recall  Test F1-Score\n",
       "Model                                                                         \n",
       "Logistic Regression          30.12           30.27        39.86          35.01\n",
       "Random Forest                23.79           25.45        29.21          27.31\n",
       "SVM                          26.07           25.31        34.87          29.97\n",
       "KNN                           1.10            6.74       -16.96          -6.55\n",
       "Gradient Boosting            21.89           23.78        23.78          23.78"
      ]
     },
     "metadata": {},
     "output_type": "display_data"
    },
    {
     "name": "stdout",
     "output_type": "stream",
     "text": [
      "\n",
      "Processing Model: llama3.2:3b (Model 2/8)\n",
      "Train shapes - Text: (4000, 10000), Tab: (4000, 4), Label: (4000,)\n",
      "Test shapes  - Text: (1000, 10000), Tab: (1000, 4), Label: (1000,)\n",
      "\n",
      "Ensemble Results:\n"
     ]
    },
    {
     "data": {
      "text/html": [
       "<div>\n",
       "<style scoped>\n",
       "    .dataframe tbody tr th:only-of-type {\n",
       "        vertical-align: middle;\n",
       "    }\n",
       "\n",
       "    .dataframe tbody tr th {\n",
       "        vertical-align: top;\n",
       "    }\n",
       "\n",
       "    .dataframe thead th {\n",
       "        text-align: right;\n",
       "    }\n",
       "</style>\n",
       "<table border=\"1\" class=\"dataframe\">\n",
       "  <thead>\n",
       "    <tr style=\"text-align: right;\">\n",
       "      <th></th>\n",
       "      <th>Test Accuracy</th>\n",
       "      <th>Test Precision</th>\n",
       "      <th>Test Recall</th>\n",
       "      <th>Test F1-Score</th>\n",
       "    </tr>\n",
       "    <tr>\n",
       "      <th>Model</th>\n",
       "      <th></th>\n",
       "      <th></th>\n",
       "      <th></th>\n",
       "      <th></th>\n",
       "    </tr>\n",
       "  </thead>\n",
       "  <tbody>\n",
       "    <tr>\n",
       "      <th>Logistic Regression</th>\n",
       "      <td>0.913</td>\n",
       "      <td>0.903158</td>\n",
       "      <td>0.912766</td>\n",
       "      <td>0.907937</td>\n",
       "    </tr>\n",
       "    <tr>\n",
       "      <th>Random Forest</th>\n",
       "      <td>0.898</td>\n",
       "      <td>0.881743</td>\n",
       "      <td>0.904255</td>\n",
       "      <td>0.892857</td>\n",
       "    </tr>\n",
       "    <tr>\n",
       "      <th>SVM</th>\n",
       "      <td>0.911</td>\n",
       "      <td>0.902748</td>\n",
       "      <td>0.908511</td>\n",
       "      <td>0.905620</td>\n",
       "    </tr>\n",
       "    <tr>\n",
       "      <th>KNN</th>\n",
       "      <td>0.853</td>\n",
       "      <td>0.874710</td>\n",
       "      <td>0.802128</td>\n",
       "      <td>0.836848</td>\n",
       "    </tr>\n",
       "    <tr>\n",
       "      <th>Gradient Boosting</th>\n",
       "      <td>0.901</td>\n",
       "      <td>0.892178</td>\n",
       "      <td>0.897872</td>\n",
       "      <td>0.895016</td>\n",
       "    </tr>\n",
       "  </tbody>\n",
       "</table>\n",
       "</div>"
      ],
      "text/plain": [
       "                     Test Accuracy  Test Precision  Test Recall  Test F1-Score\n",
       "Model                                                                         \n",
       "Logistic Regression          0.913        0.903158     0.912766       0.907937\n",
       "Random Forest                0.898        0.881743     0.904255       0.892857\n",
       "SVM                          0.911        0.902748     0.908511       0.905620\n",
       "KNN                          0.853        0.874710     0.802128       0.836848\n",
       "Gradient Boosting            0.901        0.892178     0.897872       0.895016"
      ]
     },
     "metadata": {},
     "output_type": "display_data"
    },
    {
     "name": "stdout",
     "output_type": "stream",
     "text": [
      "% Difference ensemble vs textual model:\n"
     ]
    },
    {
     "data": {
      "text/html": [
       "<div>\n",
       "<style scoped>\n",
       "    .dataframe tbody tr th:only-of-type {\n",
       "        vertical-align: middle;\n",
       "    }\n",
       "\n",
       "    .dataframe tbody tr th {\n",
       "        vertical-align: top;\n",
       "    }\n",
       "\n",
       "    .dataframe thead th {\n",
       "        text-align: right;\n",
       "    }\n",
       "</style>\n",
       "<table border=\"1\" class=\"dataframe\">\n",
       "  <thead>\n",
       "    <tr style=\"text-align: right;\">\n",
       "      <th></th>\n",
       "      <th>Test Accuracy</th>\n",
       "      <th>Test Precision</th>\n",
       "      <th>Test Recall</th>\n",
       "      <th>Test F1-Score</th>\n",
       "    </tr>\n",
       "    <tr>\n",
       "      <th>Model</th>\n",
       "      <th></th>\n",
       "      <th></th>\n",
       "      <th></th>\n",
       "      <th></th>\n",
       "    </tr>\n",
       "  </thead>\n",
       "  <tbody>\n",
       "    <tr>\n",
       "      <th>Logistic Regression</th>\n",
       "      <td>5.43</td>\n",
       "      <td>7.51</td>\n",
       "      <td>3.37</td>\n",
       "      <td>5.45</td>\n",
       "    </tr>\n",
       "    <tr>\n",
       "      <th>Random Forest</th>\n",
       "      <td>7.67</td>\n",
       "      <td>5.81</td>\n",
       "      <td>11.84</td>\n",
       "      <td>8.79</td>\n",
       "    </tr>\n",
       "    <tr>\n",
       "      <th>SVM</th>\n",
       "      <td>8.32</td>\n",
       "      <td>11.91</td>\n",
       "      <td>4.40</td>\n",
       "      <td>8.17</td>\n",
       "    </tr>\n",
       "    <tr>\n",
       "      <th>KNN</th>\n",
       "      <td>45.56</td>\n",
       "      <td>56.03</td>\n",
       "      <td>45.56</td>\n",
       "      <td>50.57</td>\n",
       "    </tr>\n",
       "    <tr>\n",
       "      <th>Gradient Boosting</th>\n",
       "      <td>14.63</td>\n",
       "      <td>20.17</td>\n",
       "      <td>7.65</td>\n",
       "      <td>13.93</td>\n",
       "    </tr>\n",
       "  </tbody>\n",
       "</table>\n",
       "</div>"
      ],
      "text/plain": [
       "                     Test Accuracy  Test Precision  Test Recall  Test F1-Score\n",
       "Model                                                                         \n",
       "Logistic Regression           5.43            7.51         3.37           5.45\n",
       "Random Forest                 7.67            5.81        11.84           8.79\n",
       "SVM                           8.32           11.91         4.40           8.17\n",
       "KNN                          45.56           56.03        45.56          50.57\n",
       "Gradient Boosting            14.63           20.17         7.65          13.93"
      ]
     },
     "metadata": {},
     "output_type": "display_data"
    },
    {
     "name": "stdout",
     "output_type": "stream",
     "text": [
      "% Difference ensemble vs tabular model:\n"
     ]
    },
    {
     "data": {
      "text/html": [
       "<div>\n",
       "<style scoped>\n",
       "    .dataframe tbody tr th:only-of-type {\n",
       "        vertical-align: middle;\n",
       "    }\n",
       "\n",
       "    .dataframe tbody tr th {\n",
       "        vertical-align: top;\n",
       "    }\n",
       "\n",
       "    .dataframe thead th {\n",
       "        text-align: right;\n",
       "    }\n",
       "</style>\n",
       "<table border=\"1\" class=\"dataframe\">\n",
       "  <thead>\n",
       "    <tr style=\"text-align: right;\">\n",
       "      <th></th>\n",
       "      <th>Test Accuracy</th>\n",
       "      <th>Test Precision</th>\n",
       "      <th>Test Recall</th>\n",
       "      <th>Test F1-Score</th>\n",
       "    </tr>\n",
       "    <tr>\n",
       "      <th>Model</th>\n",
       "      <th></th>\n",
       "      <th></th>\n",
       "      <th></th>\n",
       "      <th></th>\n",
       "    </tr>\n",
       "  </thead>\n",
       "  <tbody>\n",
       "    <tr>\n",
       "      <th>Logistic Regression</th>\n",
       "      <td>4.34</td>\n",
       "      <td>5.73</td>\n",
       "      <td>3.13</td>\n",
       "      <td>4.43</td>\n",
       "    </tr>\n",
       "    <tr>\n",
       "      <th>Random Forest</th>\n",
       "      <td>5.52</td>\n",
       "      <td>6.29</td>\n",
       "      <td>5.20</td>\n",
       "      <td>5.75</td>\n",
       "    </tr>\n",
       "    <tr>\n",
       "      <th>SVM</th>\n",
       "      <td>4.23</td>\n",
       "      <td>5.90</td>\n",
       "      <td>2.64</td>\n",
       "      <td>4.28</td>\n",
       "    </tr>\n",
       "    <tr>\n",
       "      <th>KNN</th>\n",
       "      <td>-0.47</td>\n",
       "      <td>3.43</td>\n",
       "      <td>-5.75</td>\n",
       "      <td>-1.36</td>\n",
       "    </tr>\n",
       "    <tr>\n",
       "      <th>Gradient Boosting</th>\n",
       "      <td>3.21</td>\n",
       "      <td>4.70</td>\n",
       "      <td>1.69</td>\n",
       "      <td>3.20</td>\n",
       "    </tr>\n",
       "  </tbody>\n",
       "</table>\n",
       "</div>"
      ],
      "text/plain": [
       "                     Test Accuracy  Test Precision  Test Recall  Test F1-Score\n",
       "Model                                                                         \n",
       "Logistic Regression           4.34            5.73         3.13           4.43\n",
       "Random Forest                 5.52            6.29         5.20           5.75\n",
       "SVM                           4.23            5.90         2.64           4.28\n",
       "KNN                          -0.47            3.43        -5.75          -1.36\n",
       "Gradient Boosting             3.21            4.70         1.69           3.20"
      ]
     },
     "metadata": {},
     "output_type": "display_data"
    },
    {
     "name": "stdout",
     "output_type": "stream",
     "text": [
      "\n",
      "Processing Model: gemma3:1b (Model 3/8)\n",
      "Train shapes - Text: (4000, 10000), Tab: (4000, 4), Label: (4000,)\n",
      "Test shapes  - Text: (1000, 10000), Tab: (1000, 4), Label: (1000,)\n",
      "\n",
      "Ensemble Results:\n"
     ]
    },
    {
     "data": {
      "text/html": [
       "<div>\n",
       "<style scoped>\n",
       "    .dataframe tbody tr th:only-of-type {\n",
       "        vertical-align: middle;\n",
       "    }\n",
       "\n",
       "    .dataframe tbody tr th {\n",
       "        vertical-align: top;\n",
       "    }\n",
       "\n",
       "    .dataframe thead th {\n",
       "        text-align: right;\n",
       "    }\n",
       "</style>\n",
       "<table border=\"1\" class=\"dataframe\">\n",
       "  <thead>\n",
       "    <tr style=\"text-align: right;\">\n",
       "      <th></th>\n",
       "      <th>Test Accuracy</th>\n",
       "      <th>Test Precision</th>\n",
       "      <th>Test Recall</th>\n",
       "      <th>Test F1-Score</th>\n",
       "    </tr>\n",
       "    <tr>\n",
       "      <th>Model</th>\n",
       "      <th></th>\n",
       "      <th></th>\n",
       "      <th></th>\n",
       "      <th></th>\n",
       "    </tr>\n",
       "  </thead>\n",
       "  <tbody>\n",
       "    <tr>\n",
       "      <th>Logistic Regression</th>\n",
       "      <td>0.893</td>\n",
       "      <td>0.885350</td>\n",
       "      <td>0.887234</td>\n",
       "      <td>0.886291</td>\n",
       "    </tr>\n",
       "    <tr>\n",
       "      <th>Random Forest</th>\n",
       "      <td>0.879</td>\n",
       "      <td>0.864301</td>\n",
       "      <td>0.880851</td>\n",
       "      <td>0.872497</td>\n",
       "    </tr>\n",
       "    <tr>\n",
       "      <th>SVM</th>\n",
       "      <td>0.873</td>\n",
       "      <td>0.853608</td>\n",
       "      <td>0.880851</td>\n",
       "      <td>0.867016</td>\n",
       "    </tr>\n",
       "    <tr>\n",
       "      <th>KNN</th>\n",
       "      <td>0.801</td>\n",
       "      <td>0.867209</td>\n",
       "      <td>0.680851</td>\n",
       "      <td>0.762813</td>\n",
       "    </tr>\n",
       "    <tr>\n",
       "      <th>Gradient Boosting</th>\n",
       "      <td>0.868</td>\n",
       "      <td>0.831373</td>\n",
       "      <td>0.902128</td>\n",
       "      <td>0.865306</td>\n",
       "    </tr>\n",
       "  </tbody>\n",
       "</table>\n",
       "</div>"
      ],
      "text/plain": [
       "                     Test Accuracy  Test Precision  Test Recall  Test F1-Score\n",
       "Model                                                                         \n",
       "Logistic Regression          0.893        0.885350     0.887234       0.886291\n",
       "Random Forest                0.879        0.864301     0.880851       0.872497\n",
       "SVM                          0.873        0.853608     0.880851       0.867016\n",
       "KNN                          0.801        0.867209     0.680851       0.762813\n",
       "Gradient Boosting            0.868        0.831373     0.902128       0.865306"
      ]
     },
     "metadata": {},
     "output_type": "display_data"
    },
    {
     "name": "stdout",
     "output_type": "stream",
     "text": [
      "% Difference ensemble vs textual model:\n"
     ]
    },
    {
     "data": {
      "text/html": [
       "<div>\n",
       "<style scoped>\n",
       "    .dataframe tbody tr th:only-of-type {\n",
       "        vertical-align: middle;\n",
       "    }\n",
       "\n",
       "    .dataframe tbody tr th {\n",
       "        vertical-align: top;\n",
       "    }\n",
       "\n",
       "    .dataframe thead th {\n",
       "        text-align: right;\n",
       "    }\n",
       "</style>\n",
       "<table border=\"1\" class=\"dataframe\">\n",
       "  <thead>\n",
       "    <tr style=\"text-align: right;\">\n",
       "      <th></th>\n",
       "      <th>Test Accuracy</th>\n",
       "      <th>Test Precision</th>\n",
       "      <th>Test Recall</th>\n",
       "      <th>Test F1-Score</th>\n",
       "    </tr>\n",
       "    <tr>\n",
       "      <th>Model</th>\n",
       "      <th></th>\n",
       "      <th></th>\n",
       "      <th></th>\n",
       "      <th></th>\n",
       "    </tr>\n",
       "  </thead>\n",
       "  <tbody>\n",
       "    <tr>\n",
       "      <th>Logistic Regression</th>\n",
       "      <td>3.12</td>\n",
       "      <td>5.39</td>\n",
       "      <td>0.48</td>\n",
       "      <td>2.94</td>\n",
       "    </tr>\n",
       "    <tr>\n",
       "      <th>Random Forest</th>\n",
       "      <td>5.40</td>\n",
       "      <td>3.72</td>\n",
       "      <td>8.95</td>\n",
       "      <td>6.31</td>\n",
       "    </tr>\n",
       "    <tr>\n",
       "      <th>SVM</th>\n",
       "      <td>3.80</td>\n",
       "      <td>5.81</td>\n",
       "      <td>1.22</td>\n",
       "      <td>3.55</td>\n",
       "    </tr>\n",
       "    <tr>\n",
       "      <th>KNN</th>\n",
       "      <td>36.69</td>\n",
       "      <td>54.69</td>\n",
       "      <td>23.55</td>\n",
       "      <td>37.25</td>\n",
       "    </tr>\n",
       "    <tr>\n",
       "      <th>Gradient Boosting</th>\n",
       "      <td>10.43</td>\n",
       "      <td>11.98</td>\n",
       "      <td>8.16</td>\n",
       "      <td>10.15</td>\n",
       "    </tr>\n",
       "  </tbody>\n",
       "</table>\n",
       "</div>"
      ],
      "text/plain": [
       "                     Test Accuracy  Test Precision  Test Recall  Test F1-Score\n",
       "Model                                                                         \n",
       "Logistic Regression           3.12            5.39         0.48           2.94\n",
       "Random Forest                 5.40            3.72         8.95           6.31\n",
       "SVM                           3.80            5.81         1.22           3.55\n",
       "KNN                          36.69           54.69        23.55          37.25\n",
       "Gradient Boosting            10.43           11.98         8.16          10.15"
      ]
     },
     "metadata": {},
     "output_type": "display_data"
    },
    {
     "name": "stdout",
     "output_type": "stream",
     "text": [
      "% Difference ensemble vs tabular model:\n"
     ]
    },
    {
     "data": {
      "text/html": [
       "<div>\n",
       "<style scoped>\n",
       "    .dataframe tbody tr th:only-of-type {\n",
       "        vertical-align: middle;\n",
       "    }\n",
       "\n",
       "    .dataframe tbody tr th {\n",
       "        vertical-align: top;\n",
       "    }\n",
       "\n",
       "    .dataframe thead th {\n",
       "        text-align: right;\n",
       "    }\n",
       "</style>\n",
       "<table border=\"1\" class=\"dataframe\">\n",
       "  <thead>\n",
       "    <tr style=\"text-align: right;\">\n",
       "      <th></th>\n",
       "      <th>Test Accuracy</th>\n",
       "      <th>Test Precision</th>\n",
       "      <th>Test Recall</th>\n",
       "      <th>Test F1-Score</th>\n",
       "    </tr>\n",
       "    <tr>\n",
       "      <th>Model</th>\n",
       "      <th></th>\n",
       "      <th></th>\n",
       "      <th></th>\n",
       "      <th></th>\n",
       "    </tr>\n",
       "  </thead>\n",
       "  <tbody>\n",
       "    <tr>\n",
       "      <th>Logistic Regression</th>\n",
       "      <td>10.93</td>\n",
       "      <td>3.51</td>\n",
       "      <td>25.98</td>\n",
       "      <td>14.74</td>\n",
       "    </tr>\n",
       "    <tr>\n",
       "      <th>Random Forest</th>\n",
       "      <td>6.42</td>\n",
       "      <td>-1.51</td>\n",
       "      <td>20.35</td>\n",
       "      <td>9.32</td>\n",
       "    </tr>\n",
       "    <tr>\n",
       "      <th>SVM</th>\n",
       "      <td>7.64</td>\n",
       "      <td>1.80</td>\n",
       "      <td>18.97</td>\n",
       "      <td>10.25</td>\n",
       "    </tr>\n",
       "    <tr>\n",
       "      <th>KNN</th>\n",
       "      <td>-3.14</td>\n",
       "      <td>-1.00</td>\n",
       "      <td>-7.51</td>\n",
       "      <td>-4.65</td>\n",
       "    </tr>\n",
       "    <tr>\n",
       "      <th>Gradient Boosting</th>\n",
       "      <td>4.83</td>\n",
       "      <td>-3.51</td>\n",
       "      <td>19.44</td>\n",
       "      <td>7.49</td>\n",
       "    </tr>\n",
       "  </tbody>\n",
       "</table>\n",
       "</div>"
      ],
      "text/plain": [
       "                     Test Accuracy  Test Precision  Test Recall  Test F1-Score\n",
       "Model                                                                         \n",
       "Logistic Regression          10.93            3.51        25.98          14.74\n",
       "Random Forest                 6.42           -1.51        20.35           9.32\n",
       "SVM                           7.64            1.80        18.97          10.25\n",
       "KNN                          -3.14           -1.00        -7.51          -4.65\n",
       "Gradient Boosting             4.83           -3.51        19.44           7.49"
      ]
     },
     "metadata": {},
     "output_type": "display_data"
    },
    {
     "name": "stdout",
     "output_type": "stream",
     "text": [
      "\n",
      "Processing Model: gemma3:4b (Model 4/8)\n",
      "Train shapes - Text: (4000, 10000), Tab: (4000, 4), Label: (4000,)\n",
      "Test shapes  - Text: (1000, 10000), Tab: (1000, 4), Label: (1000,)\n",
      "\n",
      "Ensemble Results:\n"
     ]
    },
    {
     "data": {
      "text/html": [
       "<div>\n",
       "<style scoped>\n",
       "    .dataframe tbody tr th:only-of-type {\n",
       "        vertical-align: middle;\n",
       "    }\n",
       "\n",
       "    .dataframe tbody tr th {\n",
       "        vertical-align: top;\n",
       "    }\n",
       "\n",
       "    .dataframe thead th {\n",
       "        text-align: right;\n",
       "    }\n",
       "</style>\n",
       "<table border=\"1\" class=\"dataframe\">\n",
       "  <thead>\n",
       "    <tr style=\"text-align: right;\">\n",
       "      <th></th>\n",
       "      <th>Test Accuracy</th>\n",
       "      <th>Test Precision</th>\n",
       "      <th>Test Recall</th>\n",
       "      <th>Test F1-Score</th>\n",
       "    </tr>\n",
       "    <tr>\n",
       "      <th>Model</th>\n",
       "      <th></th>\n",
       "      <th></th>\n",
       "      <th></th>\n",
       "      <th></th>\n",
       "    </tr>\n",
       "  </thead>\n",
       "  <tbody>\n",
       "    <tr>\n",
       "      <th>Logistic Regression</th>\n",
       "      <td>0.927</td>\n",
       "      <td>0.914405</td>\n",
       "      <td>0.931915</td>\n",
       "      <td>0.923077</td>\n",
       "    </tr>\n",
       "    <tr>\n",
       "      <th>Random Forest</th>\n",
       "      <td>0.945</td>\n",
       "      <td>0.950108</td>\n",
       "      <td>0.931915</td>\n",
       "      <td>0.940924</td>\n",
       "    </tr>\n",
       "    <tr>\n",
       "      <th>SVM</th>\n",
       "      <td>0.941</td>\n",
       "      <td>0.940043</td>\n",
       "      <td>0.934043</td>\n",
       "      <td>0.937033</td>\n",
       "    </tr>\n",
       "    <tr>\n",
       "      <th>KNN</th>\n",
       "      <td>0.922</td>\n",
       "      <td>0.947489</td>\n",
       "      <td>0.882979</td>\n",
       "      <td>0.914097</td>\n",
       "    </tr>\n",
       "    <tr>\n",
       "      <th>Gradient Boosting</th>\n",
       "      <td>0.946</td>\n",
       "      <td>0.946352</td>\n",
       "      <td>0.938298</td>\n",
       "      <td>0.942308</td>\n",
       "    </tr>\n",
       "  </tbody>\n",
       "</table>\n",
       "</div>"
      ],
      "text/plain": [
       "                     Test Accuracy  Test Precision  Test Recall  Test F1-Score\n",
       "Model                                                                         \n",
       "Logistic Regression          0.927        0.914405     0.931915       0.923077\n",
       "Random Forest                0.945        0.950108     0.931915       0.940924\n",
       "SVM                          0.941        0.940043     0.934043       0.937033\n",
       "KNN                          0.922        0.947489     0.882979       0.914097\n",
       "Gradient Boosting            0.946        0.946352     0.938298       0.942308"
      ]
     },
     "metadata": {},
     "output_type": "display_data"
    },
    {
     "name": "stdout",
     "output_type": "stream",
     "text": [
      "% Difference ensemble vs textual model:\n"
     ]
    },
    {
     "data": {
      "text/html": [
       "<div>\n",
       "<style scoped>\n",
       "    .dataframe tbody tr th:only-of-type {\n",
       "        vertical-align: middle;\n",
       "    }\n",
       "\n",
       "    .dataframe tbody tr th {\n",
       "        vertical-align: top;\n",
       "    }\n",
       "\n",
       "    .dataframe thead th {\n",
       "        text-align: right;\n",
       "    }\n",
       "</style>\n",
       "<table border=\"1\" class=\"dataframe\">\n",
       "  <thead>\n",
       "    <tr style=\"text-align: right;\">\n",
       "      <th></th>\n",
       "      <th>Test Accuracy</th>\n",
       "      <th>Test Precision</th>\n",
       "      <th>Test Recall</th>\n",
       "      <th>Test F1-Score</th>\n",
       "    </tr>\n",
       "    <tr>\n",
       "      <th>Model</th>\n",
       "      <th></th>\n",
       "      <th></th>\n",
       "      <th></th>\n",
       "      <th></th>\n",
       "    </tr>\n",
       "  </thead>\n",
       "  <tbody>\n",
       "    <tr>\n",
       "      <th>Logistic Regression</th>\n",
       "      <td>7.04</td>\n",
       "      <td>8.85</td>\n",
       "      <td>5.54</td>\n",
       "      <td>7.21</td>\n",
       "    </tr>\n",
       "    <tr>\n",
       "      <th>Random Forest</th>\n",
       "      <td>13.31</td>\n",
       "      <td>14.01</td>\n",
       "      <td>15.26</td>\n",
       "      <td>14.64</td>\n",
       "    </tr>\n",
       "    <tr>\n",
       "      <th>SVM</th>\n",
       "      <td>11.89</td>\n",
       "      <td>16.53</td>\n",
       "      <td>7.33</td>\n",
       "      <td>11.92</td>\n",
       "    </tr>\n",
       "    <tr>\n",
       "      <th>KNN</th>\n",
       "      <td>57.34</td>\n",
       "      <td>69.01</td>\n",
       "      <td>60.23</td>\n",
       "      <td>64.47</td>\n",
       "    </tr>\n",
       "    <tr>\n",
       "      <th>Gradient Boosting</th>\n",
       "      <td>20.36</td>\n",
       "      <td>27.47</td>\n",
       "      <td>12.50</td>\n",
       "      <td>19.95</td>\n",
       "    </tr>\n",
       "  </tbody>\n",
       "</table>\n",
       "</div>"
      ],
      "text/plain": [
       "                     Test Accuracy  Test Precision  Test Recall  Test F1-Score\n",
       "Model                                                                         \n",
       "Logistic Regression           7.04            8.85         5.54           7.21\n",
       "Random Forest                13.31           14.01        15.26          14.64\n",
       "SVM                          11.89           16.53         7.33          11.92\n",
       "KNN                          57.34           69.01        60.23          64.47\n",
       "Gradient Boosting            20.36           27.47        12.50          19.95"
      ]
     },
     "metadata": {},
     "output_type": "display_data"
    },
    {
     "name": "stdout",
     "output_type": "stream",
     "text": [
      "% Difference ensemble vs tabular model:\n"
     ]
    },
    {
     "data": {
      "text/html": [
       "<div>\n",
       "<style scoped>\n",
       "    .dataframe tbody tr th:only-of-type {\n",
       "        vertical-align: middle;\n",
       "    }\n",
       "\n",
       "    .dataframe tbody tr th {\n",
       "        vertical-align: top;\n",
       "    }\n",
       "\n",
       "    .dataframe thead th {\n",
       "        text-align: right;\n",
       "    }\n",
       "</style>\n",
       "<table border=\"1\" class=\"dataframe\">\n",
       "  <thead>\n",
       "    <tr style=\"text-align: right;\">\n",
       "      <th></th>\n",
       "      <th>Test Accuracy</th>\n",
       "      <th>Test Precision</th>\n",
       "      <th>Test Recall</th>\n",
       "      <th>Test F1-Score</th>\n",
       "    </tr>\n",
       "    <tr>\n",
       "      <th>Model</th>\n",
       "      <th></th>\n",
       "      <th></th>\n",
       "      <th></th>\n",
       "      <th></th>\n",
       "    </tr>\n",
       "  </thead>\n",
       "  <tbody>\n",
       "    <tr>\n",
       "      <th>Logistic Regression</th>\n",
       "      <td>-1.17</td>\n",
       "      <td>-3.08</td>\n",
       "      <td>0.92</td>\n",
       "      <td>-1.10</td>\n",
       "    </tr>\n",
       "    <tr>\n",
       "      <th>Random Forest</th>\n",
       "      <td>0.64</td>\n",
       "      <td>-0.14</td>\n",
       "      <td>1.62</td>\n",
       "      <td>0.75</td>\n",
       "    </tr>\n",
       "    <tr>\n",
       "      <th>SVM</th>\n",
       "      <td>0.21</td>\n",
       "      <td>-0.99</td>\n",
       "      <td>1.62</td>\n",
       "      <td>0.32</td>\n",
       "    </tr>\n",
       "    <tr>\n",
       "      <th>KNN</th>\n",
       "      <td>-2.12</td>\n",
       "      <td>-0.66</td>\n",
       "      <td>-4.16</td>\n",
       "      <td>-2.47</td>\n",
       "    </tr>\n",
       "    <tr>\n",
       "      <th>Gradient Boosting</th>\n",
       "      <td>0.75</td>\n",
       "      <td>0.09</td>\n",
       "      <td>1.61</td>\n",
       "      <td>0.85</td>\n",
       "    </tr>\n",
       "  </tbody>\n",
       "</table>\n",
       "</div>"
      ],
      "text/plain": [
       "                     Test Accuracy  Test Precision  Test Recall  Test F1-Score\n",
       "Model                                                                         \n",
       "Logistic Regression          -1.17           -3.08         0.92          -1.10\n",
       "Random Forest                 0.64           -0.14         1.62           0.75\n",
       "SVM                           0.21           -0.99         1.62           0.32\n",
       "KNN                          -2.12           -0.66        -4.16          -2.47\n",
       "Gradient Boosting             0.75            0.09         1.61           0.85"
      ]
     },
     "metadata": {},
     "output_type": "display_data"
    },
    {
     "name": "stdout",
     "output_type": "stream",
     "text": [
      "\n",
      "Processing Model: llama3.1 (Model 5/8)\n",
      "Train shapes - Text: (4000, 10000), Tab: (4000, 4), Label: (4000,)\n",
      "Test shapes  - Text: (1000, 10000), Tab: (1000, 4), Label: (1000,)\n",
      "\n",
      "Ensemble Results:\n"
     ]
    },
    {
     "data": {
      "text/html": [
       "<div>\n",
       "<style scoped>\n",
       "    .dataframe tbody tr th:only-of-type {\n",
       "        vertical-align: middle;\n",
       "    }\n",
       "\n",
       "    .dataframe tbody tr th {\n",
       "        vertical-align: top;\n",
       "    }\n",
       "\n",
       "    .dataframe thead th {\n",
       "        text-align: right;\n",
       "    }\n",
       "</style>\n",
       "<table border=\"1\" class=\"dataframe\">\n",
       "  <thead>\n",
       "    <tr style=\"text-align: right;\">\n",
       "      <th></th>\n",
       "      <th>Test Accuracy</th>\n",
       "      <th>Test Precision</th>\n",
       "      <th>Test Recall</th>\n",
       "      <th>Test F1-Score</th>\n",
       "    </tr>\n",
       "    <tr>\n",
       "      <th>Model</th>\n",
       "      <th></th>\n",
       "      <th></th>\n",
       "      <th></th>\n",
       "      <th></th>\n",
       "    </tr>\n",
       "  </thead>\n",
       "  <tbody>\n",
       "    <tr>\n",
       "      <th>Logistic Regression</th>\n",
       "      <td>0.925</td>\n",
       "      <td>0.912317</td>\n",
       "      <td>0.929787</td>\n",
       "      <td>0.920969</td>\n",
       "    </tr>\n",
       "    <tr>\n",
       "      <th>Random Forest</th>\n",
       "      <td>0.920</td>\n",
       "      <td>0.904564</td>\n",
       "      <td>0.927660</td>\n",
       "      <td>0.915966</td>\n",
       "    </tr>\n",
       "    <tr>\n",
       "      <th>SVM</th>\n",
       "      <td>0.926</td>\n",
       "      <td>0.912500</td>\n",
       "      <td>0.931915</td>\n",
       "      <td>0.922105</td>\n",
       "    </tr>\n",
       "    <tr>\n",
       "      <th>KNN</th>\n",
       "      <td>0.893</td>\n",
       "      <td>0.911565</td>\n",
       "      <td>0.855319</td>\n",
       "      <td>0.882547</td>\n",
       "    </tr>\n",
       "    <tr>\n",
       "      <th>Gradient Boosting</th>\n",
       "      <td>0.927</td>\n",
       "      <td>0.917895</td>\n",
       "      <td>0.927660</td>\n",
       "      <td>0.922751</td>\n",
       "    </tr>\n",
       "  </tbody>\n",
       "</table>\n",
       "</div>"
      ],
      "text/plain": [
       "                     Test Accuracy  Test Precision  Test Recall  Test F1-Score\n",
       "Model                                                                         \n",
       "Logistic Regression          0.925        0.912317     0.929787       0.920969\n",
       "Random Forest                0.920        0.904564     0.927660       0.915966\n",
       "SVM                          0.926        0.912500     0.931915       0.922105\n",
       "KNN                          0.893        0.911565     0.855319       0.882547\n",
       "Gradient Boosting            0.927        0.917895     0.927660       0.922751"
      ]
     },
     "metadata": {},
     "output_type": "display_data"
    },
    {
     "name": "stdout",
     "output_type": "stream",
     "text": [
      "% Difference ensemble vs textual model:\n"
     ]
    },
    {
     "data": {
      "text/html": [
       "<div>\n",
       "<style scoped>\n",
       "    .dataframe tbody tr th:only-of-type {\n",
       "        vertical-align: middle;\n",
       "    }\n",
       "\n",
       "    .dataframe tbody tr th {\n",
       "        vertical-align: top;\n",
       "    }\n",
       "\n",
       "    .dataframe thead th {\n",
       "        text-align: right;\n",
       "    }\n",
       "</style>\n",
       "<table border=\"1\" class=\"dataframe\">\n",
       "  <thead>\n",
       "    <tr style=\"text-align: right;\">\n",
       "      <th></th>\n",
       "      <th>Test Accuracy</th>\n",
       "      <th>Test Precision</th>\n",
       "      <th>Test Recall</th>\n",
       "      <th>Test F1-Score</th>\n",
       "    </tr>\n",
       "    <tr>\n",
       "      <th>Model</th>\n",
       "      <th></th>\n",
       "      <th></th>\n",
       "      <th></th>\n",
       "      <th></th>\n",
       "    </tr>\n",
       "  </thead>\n",
       "  <tbody>\n",
       "    <tr>\n",
       "      <th>Logistic Regression</th>\n",
       "      <td>6.81</td>\n",
       "      <td>8.60</td>\n",
       "      <td>5.30</td>\n",
       "      <td>6.97</td>\n",
       "    </tr>\n",
       "    <tr>\n",
       "      <th>Random Forest</th>\n",
       "      <td>10.31</td>\n",
       "      <td>8.55</td>\n",
       "      <td>14.74</td>\n",
       "      <td>11.60</td>\n",
       "    </tr>\n",
       "    <tr>\n",
       "      <th>SVM</th>\n",
       "      <td>10.11</td>\n",
       "      <td>13.11</td>\n",
       "      <td>7.09</td>\n",
       "      <td>10.13</td>\n",
       "    </tr>\n",
       "    <tr>\n",
       "      <th>KNN</th>\n",
       "      <td>52.39</td>\n",
       "      <td>62.60</td>\n",
       "      <td>55.21</td>\n",
       "      <td>58.79</td>\n",
       "    </tr>\n",
       "    <tr>\n",
       "      <th>Gradient Boosting</th>\n",
       "      <td>17.94</td>\n",
       "      <td>23.63</td>\n",
       "      <td>11.22</td>\n",
       "      <td>17.46</td>\n",
       "    </tr>\n",
       "  </tbody>\n",
       "</table>\n",
       "</div>"
      ],
      "text/plain": [
       "                     Test Accuracy  Test Precision  Test Recall  Test F1-Score\n",
       "Model                                                                         \n",
       "Logistic Regression           6.81            8.60         5.30           6.97\n",
       "Random Forest                10.31            8.55        14.74          11.60\n",
       "SVM                          10.11           13.11         7.09          10.13\n",
       "KNN                          52.39           62.60        55.21          58.79\n",
       "Gradient Boosting            17.94           23.63        11.22          17.46"
      ]
     },
     "metadata": {},
     "output_type": "display_data"
    },
    {
     "name": "stdout",
     "output_type": "stream",
     "text": [
      "% Difference ensemble vs tabular model:\n"
     ]
    },
    {
     "data": {
      "text/html": [
       "<div>\n",
       "<style scoped>\n",
       "    .dataframe tbody tr th:only-of-type {\n",
       "        vertical-align: middle;\n",
       "    }\n",
       "\n",
       "    .dataframe tbody tr th {\n",
       "        vertical-align: top;\n",
       "    }\n",
       "\n",
       "    .dataframe thead th {\n",
       "        text-align: right;\n",
       "    }\n",
       "</style>\n",
       "<table border=\"1\" class=\"dataframe\">\n",
       "  <thead>\n",
       "    <tr style=\"text-align: right;\">\n",
       "      <th></th>\n",
       "      <th>Test Accuracy</th>\n",
       "      <th>Test Precision</th>\n",
       "      <th>Test Recall</th>\n",
       "      <th>Test F1-Score</th>\n",
       "    </tr>\n",
       "    <tr>\n",
       "      <th>Model</th>\n",
       "      <th></th>\n",
       "      <th></th>\n",
       "      <th></th>\n",
       "      <th></th>\n",
       "    </tr>\n",
       "  </thead>\n",
       "  <tbody>\n",
       "    <tr>\n",
       "      <th>Logistic Regression</th>\n",
       "      <td>1.20</td>\n",
       "      <td>3.20</td>\n",
       "      <td>-1.13</td>\n",
       "      <td>1.06</td>\n",
       "    </tr>\n",
       "    <tr>\n",
       "      <th>Random Forest</th>\n",
       "      <td>1.77</td>\n",
       "      <td>1.12</td>\n",
       "      <td>2.83</td>\n",
       "      <td>1.97</td>\n",
       "    </tr>\n",
       "    <tr>\n",
       "      <th>SVM</th>\n",
       "      <td>2.09</td>\n",
       "      <td>2.50</td>\n",
       "      <td>1.86</td>\n",
       "      <td>2.18</td>\n",
       "    </tr>\n",
       "    <tr>\n",
       "      <th>KNN</th>\n",
       "      <td>-1.87</td>\n",
       "      <td>0.42</td>\n",
       "      <td>-4.96</td>\n",
       "      <td>-2.36</td>\n",
       "    </tr>\n",
       "    <tr>\n",
       "      <th>Gradient Boosting</th>\n",
       "      <td>1.87</td>\n",
       "      <td>2.65</td>\n",
       "      <td>1.16</td>\n",
       "      <td>1.91</td>\n",
       "    </tr>\n",
       "  </tbody>\n",
       "</table>\n",
       "</div>"
      ],
      "text/plain": [
       "                     Test Accuracy  Test Precision  Test Recall  Test F1-Score\n",
       "Model                                                                         \n",
       "Logistic Regression           1.20            3.20        -1.13           1.06\n",
       "Random Forest                 1.77            1.12         2.83           1.97\n",
       "SVM                           2.09            2.50         1.86           2.18\n",
       "KNN                          -1.87            0.42        -4.96          -2.36\n",
       "Gradient Boosting             1.87            2.65         1.16           1.91"
      ]
     },
     "metadata": {},
     "output_type": "display_data"
    },
    {
     "name": "stdout",
     "output_type": "stream",
     "text": [
      "\n",
      "Processing Model: dolphin3 (Model 6/8)\n",
      "Train shapes - Text: (4000, 10000), Tab: (4000, 4), Label: (4000,)\n",
      "Test shapes  - Text: (1000, 10000), Tab: (1000, 4), Label: (1000,)\n",
      "\n",
      "Ensemble Results:\n"
     ]
    },
    {
     "data": {
      "text/html": [
       "<div>\n",
       "<style scoped>\n",
       "    .dataframe tbody tr th:only-of-type {\n",
       "        vertical-align: middle;\n",
       "    }\n",
       "\n",
       "    .dataframe tbody tr th {\n",
       "        vertical-align: top;\n",
       "    }\n",
       "\n",
       "    .dataframe thead th {\n",
       "        text-align: right;\n",
       "    }\n",
       "</style>\n",
       "<table border=\"1\" class=\"dataframe\">\n",
       "  <thead>\n",
       "    <tr style=\"text-align: right;\">\n",
       "      <th></th>\n",
       "      <th>Test Accuracy</th>\n",
       "      <th>Test Precision</th>\n",
       "      <th>Test Recall</th>\n",
       "      <th>Test F1-Score</th>\n",
       "    </tr>\n",
       "    <tr>\n",
       "      <th>Model</th>\n",
       "      <th></th>\n",
       "      <th></th>\n",
       "      <th></th>\n",
       "      <th></th>\n",
       "    </tr>\n",
       "  </thead>\n",
       "  <tbody>\n",
       "    <tr>\n",
       "      <th>Logistic Regression</th>\n",
       "      <td>0.932</td>\n",
       "      <td>0.920502</td>\n",
       "      <td>0.936170</td>\n",
       "      <td>0.928270</td>\n",
       "    </tr>\n",
       "    <tr>\n",
       "      <th>Random Forest</th>\n",
       "      <td>0.913</td>\n",
       "      <td>0.903158</td>\n",
       "      <td>0.912766</td>\n",
       "      <td>0.907937</td>\n",
       "    </tr>\n",
       "    <tr>\n",
       "      <th>SVM</th>\n",
       "      <td>0.929</td>\n",
       "      <td>0.923567</td>\n",
       "      <td>0.925532</td>\n",
       "      <td>0.924548</td>\n",
       "    </tr>\n",
       "    <tr>\n",
       "      <th>KNN</th>\n",
       "      <td>0.893</td>\n",
       "      <td>0.915332</td>\n",
       "      <td>0.851064</td>\n",
       "      <td>0.882029</td>\n",
       "    </tr>\n",
       "    <tr>\n",
       "      <th>Gradient Boosting</th>\n",
       "      <td>0.928</td>\n",
       "      <td>0.923404</td>\n",
       "      <td>0.923404</td>\n",
       "      <td>0.923404</td>\n",
       "    </tr>\n",
       "  </tbody>\n",
       "</table>\n",
       "</div>"
      ],
      "text/plain": [
       "                     Test Accuracy  Test Precision  Test Recall  Test F1-Score\n",
       "Model                                                                         \n",
       "Logistic Regression          0.932        0.920502     0.936170       0.928270\n",
       "Random Forest                0.913        0.903158     0.912766       0.907937\n",
       "SVM                          0.929        0.923567     0.925532       0.924548\n",
       "KNN                          0.893        0.915332     0.851064       0.882029\n",
       "Gradient Boosting            0.928        0.923404     0.923404       0.923404"
      ]
     },
     "metadata": {},
     "output_type": "display_data"
    },
    {
     "name": "stdout",
     "output_type": "stream",
     "text": [
      "% Difference ensemble vs textual model:\n"
     ]
    },
    {
     "data": {
      "text/html": [
       "<div>\n",
       "<style scoped>\n",
       "    .dataframe tbody tr th:only-of-type {\n",
       "        vertical-align: middle;\n",
       "    }\n",
       "\n",
       "    .dataframe tbody tr th {\n",
       "        vertical-align: top;\n",
       "    }\n",
       "\n",
       "    .dataframe thead th {\n",
       "        text-align: right;\n",
       "    }\n",
       "</style>\n",
       "<table border=\"1\" class=\"dataframe\">\n",
       "  <thead>\n",
       "    <tr style=\"text-align: right;\">\n",
       "      <th></th>\n",
       "      <th>Test Accuracy</th>\n",
       "      <th>Test Precision</th>\n",
       "      <th>Test Recall</th>\n",
       "      <th>Test F1-Score</th>\n",
       "    </tr>\n",
       "    <tr>\n",
       "      <th>Model</th>\n",
       "      <th></th>\n",
       "      <th></th>\n",
       "      <th></th>\n",
       "      <th></th>\n",
       "    </tr>\n",
       "  </thead>\n",
       "  <tbody>\n",
       "    <tr>\n",
       "      <th>Logistic Regression</th>\n",
       "      <td>7.62</td>\n",
       "      <td>9.57</td>\n",
       "      <td>6.02</td>\n",
       "      <td>7.81</td>\n",
       "    </tr>\n",
       "    <tr>\n",
       "      <th>Random Forest</th>\n",
       "      <td>9.47</td>\n",
       "      <td>8.38</td>\n",
       "      <td>12.89</td>\n",
       "      <td>10.62</td>\n",
       "    </tr>\n",
       "    <tr>\n",
       "      <th>SVM</th>\n",
       "      <td>10.46</td>\n",
       "      <td>14.49</td>\n",
       "      <td>6.36</td>\n",
       "      <td>10.43</td>\n",
       "    </tr>\n",
       "    <tr>\n",
       "      <th>KNN</th>\n",
       "      <td>52.39</td>\n",
       "      <td>63.28</td>\n",
       "      <td>54.44</td>\n",
       "      <td>58.70</td>\n",
       "    </tr>\n",
       "    <tr>\n",
       "      <th>Gradient Boosting</th>\n",
       "      <td>18.07</td>\n",
       "      <td>24.38</td>\n",
       "      <td>10.71</td>\n",
       "      <td>17.55</td>\n",
       "    </tr>\n",
       "  </tbody>\n",
       "</table>\n",
       "</div>"
      ],
      "text/plain": [
       "                     Test Accuracy  Test Precision  Test Recall  Test F1-Score\n",
       "Model                                                                         \n",
       "Logistic Regression           7.62            9.57         6.02           7.81\n",
       "Random Forest                 9.47            8.38        12.89          10.62\n",
       "SVM                          10.46           14.49         6.36          10.43\n",
       "KNN                          52.39           63.28        54.44          58.70\n",
       "Gradient Boosting            18.07           24.38        10.71          17.55"
      ]
     },
     "metadata": {},
     "output_type": "display_data"
    },
    {
     "name": "stdout",
     "output_type": "stream",
     "text": [
      "% Difference ensemble vs tabular model:\n"
     ]
    },
    {
     "data": {
      "text/html": [
       "<div>\n",
       "<style scoped>\n",
       "    .dataframe tbody tr th:only-of-type {\n",
       "        vertical-align: middle;\n",
       "    }\n",
       "\n",
       "    .dataframe tbody tr th {\n",
       "        vertical-align: top;\n",
       "    }\n",
       "\n",
       "    .dataframe thead th {\n",
       "        text-align: right;\n",
       "    }\n",
       "</style>\n",
       "<table border=\"1\" class=\"dataframe\">\n",
       "  <thead>\n",
       "    <tr style=\"text-align: right;\">\n",
       "      <th></th>\n",
       "      <th>Test Accuracy</th>\n",
       "      <th>Test Precision</th>\n",
       "      <th>Test Recall</th>\n",
       "      <th>Test F1-Score</th>\n",
       "    </tr>\n",
       "    <tr>\n",
       "      <th>Model</th>\n",
       "      <th></th>\n",
       "      <th></th>\n",
       "      <th></th>\n",
       "      <th></th>\n",
       "    </tr>\n",
       "  </thead>\n",
       "  <tbody>\n",
       "    <tr>\n",
       "      <th>Logistic Regression</th>\n",
       "      <td>2.19</td>\n",
       "      <td>2.89</td>\n",
       "      <td>1.62</td>\n",
       "      <td>2.26</td>\n",
       "    </tr>\n",
       "    <tr>\n",
       "      <th>Random Forest</th>\n",
       "      <td>1.11</td>\n",
       "      <td>1.37</td>\n",
       "      <td>0.94</td>\n",
       "      <td>1.15</td>\n",
       "    </tr>\n",
       "    <tr>\n",
       "      <th>SVM</th>\n",
       "      <td>1.98</td>\n",
       "      <td>2.88</td>\n",
       "      <td>1.16</td>\n",
       "      <td>2.02</td>\n",
       "    </tr>\n",
       "    <tr>\n",
       "      <th>KNN</th>\n",
       "      <td>-1.76</td>\n",
       "      <td>1.63</td>\n",
       "      <td>-6.10</td>\n",
       "      <td>-2.38</td>\n",
       "    </tr>\n",
       "    <tr>\n",
       "      <th>Gradient Boosting</th>\n",
       "      <td>2.43</td>\n",
       "      <td>2.99</td>\n",
       "      <td>2.12</td>\n",
       "      <td>2.55</td>\n",
       "    </tr>\n",
       "  </tbody>\n",
       "</table>\n",
       "</div>"
      ],
      "text/plain": [
       "                     Test Accuracy  Test Precision  Test Recall  Test F1-Score\n",
       "Model                                                                         \n",
       "Logistic Regression           2.19            2.89         1.62           2.26\n",
       "Random Forest                 1.11            1.37         0.94           1.15\n",
       "SVM                           1.98            2.88         1.16           2.02\n",
       "KNN                          -1.76            1.63        -6.10          -2.38\n",
       "Gradient Boosting             2.43            2.99         2.12           2.55"
      ]
     },
     "metadata": {},
     "output_type": "display_data"
    },
    {
     "name": "stdout",
     "output_type": "stream",
     "text": [
      "\n",
      "Processing Model: mistral (Model 7/8)\n",
      "Train shapes - Text: (4000, 10000), Tab: (4000, 4), Label: (4000,)\n",
      "Test shapes  - Text: (1000, 10000), Tab: (1000, 4), Label: (1000,)\n",
      "\n",
      "Ensemble Results:\n"
     ]
    },
    {
     "data": {
      "text/html": [
       "<div>\n",
       "<style scoped>\n",
       "    .dataframe tbody tr th:only-of-type {\n",
       "        vertical-align: middle;\n",
       "    }\n",
       "\n",
       "    .dataframe tbody tr th {\n",
       "        vertical-align: top;\n",
       "    }\n",
       "\n",
       "    .dataframe thead th {\n",
       "        text-align: right;\n",
       "    }\n",
       "</style>\n",
       "<table border=\"1\" class=\"dataframe\">\n",
       "  <thead>\n",
       "    <tr style=\"text-align: right;\">\n",
       "      <th></th>\n",
       "      <th>Test Accuracy</th>\n",
       "      <th>Test Precision</th>\n",
       "      <th>Test Recall</th>\n",
       "      <th>Test F1-Score</th>\n",
       "    </tr>\n",
       "    <tr>\n",
       "      <th>Model</th>\n",
       "      <th></th>\n",
       "      <th></th>\n",
       "      <th></th>\n",
       "      <th></th>\n",
       "    </tr>\n",
       "  </thead>\n",
       "  <tbody>\n",
       "    <tr>\n",
       "      <th>Logistic Regression</th>\n",
       "      <td>0.930</td>\n",
       "      <td>0.909836</td>\n",
       "      <td>0.944681</td>\n",
       "      <td>0.926931</td>\n",
       "    </tr>\n",
       "    <tr>\n",
       "      <th>Random Forest</th>\n",
       "      <td>0.945</td>\n",
       "      <td>0.933194</td>\n",
       "      <td>0.951064</td>\n",
       "      <td>0.942044</td>\n",
       "    </tr>\n",
       "    <tr>\n",
       "      <th>SVM</th>\n",
       "      <td>0.949</td>\n",
       "      <td>0.948608</td>\n",
       "      <td>0.942553</td>\n",
       "      <td>0.945571</td>\n",
       "    </tr>\n",
       "    <tr>\n",
       "      <th>KNN</th>\n",
       "      <td>0.939</td>\n",
       "      <td>0.955457</td>\n",
       "      <td>0.912766</td>\n",
       "      <td>0.933624</td>\n",
       "    </tr>\n",
       "    <tr>\n",
       "      <th>Gradient Boosting</th>\n",
       "      <td>0.949</td>\n",
       "      <td>0.944798</td>\n",
       "      <td>0.946809</td>\n",
       "      <td>0.945802</td>\n",
       "    </tr>\n",
       "  </tbody>\n",
       "</table>\n",
       "</div>"
      ],
      "text/plain": [
       "                     Test Accuracy  Test Precision  Test Recall  Test F1-Score\n",
       "Model                                                                         \n",
       "Logistic Regression          0.930        0.909836     0.944681       0.926931\n",
       "Random Forest                0.945        0.933194     0.951064       0.942044\n",
       "SVM                          0.949        0.948608     0.942553       0.945571\n",
       "KNN                          0.939        0.955457     0.912766       0.933624\n",
       "Gradient Boosting            0.949        0.944798     0.946809       0.945802"
      ]
     },
     "metadata": {},
     "output_type": "display_data"
    },
    {
     "name": "stdout",
     "output_type": "stream",
     "text": [
      "% Difference ensemble vs textual model:\n"
     ]
    },
    {
     "data": {
      "text/html": [
       "<div>\n",
       "<style scoped>\n",
       "    .dataframe tbody tr th:only-of-type {\n",
       "        vertical-align: middle;\n",
       "    }\n",
       "\n",
       "    .dataframe tbody tr th {\n",
       "        vertical-align: top;\n",
       "    }\n",
       "\n",
       "    .dataframe thead th {\n",
       "        text-align: right;\n",
       "    }\n",
       "</style>\n",
       "<table border=\"1\" class=\"dataframe\">\n",
       "  <thead>\n",
       "    <tr style=\"text-align: right;\">\n",
       "      <th></th>\n",
       "      <th>Test Accuracy</th>\n",
       "      <th>Test Precision</th>\n",
       "      <th>Test Recall</th>\n",
       "      <th>Test F1-Score</th>\n",
       "    </tr>\n",
       "    <tr>\n",
       "      <th>Model</th>\n",
       "      <th></th>\n",
       "      <th></th>\n",
       "      <th></th>\n",
       "      <th></th>\n",
       "    </tr>\n",
       "  </thead>\n",
       "  <tbody>\n",
       "    <tr>\n",
       "      <th>Logistic Regression</th>\n",
       "      <td>7.39</td>\n",
       "      <td>8.30</td>\n",
       "      <td>6.99</td>\n",
       "      <td>7.66</td>\n",
       "    </tr>\n",
       "    <tr>\n",
       "      <th>Random Forest</th>\n",
       "      <td>13.31</td>\n",
       "      <td>11.98</td>\n",
       "      <td>17.63</td>\n",
       "      <td>14.78</td>\n",
       "    </tr>\n",
       "    <tr>\n",
       "      <th>SVM</th>\n",
       "      <td>12.84</td>\n",
       "      <td>17.59</td>\n",
       "      <td>8.31</td>\n",
       "      <td>12.94</td>\n",
       "    </tr>\n",
       "    <tr>\n",
       "      <th>KNN</th>\n",
       "      <td>60.24</td>\n",
       "      <td>70.43</td>\n",
       "      <td>65.64</td>\n",
       "      <td>67.98</td>\n",
       "    </tr>\n",
       "    <tr>\n",
       "      <th>Gradient Boosting</th>\n",
       "      <td>20.74</td>\n",
       "      <td>27.26</td>\n",
       "      <td>13.52</td>\n",
       "      <td>20.40</td>\n",
       "    </tr>\n",
       "  </tbody>\n",
       "</table>\n",
       "</div>"
      ],
      "text/plain": [
       "                     Test Accuracy  Test Precision  Test Recall  Test F1-Score\n",
       "Model                                                                         \n",
       "Logistic Regression           7.39            8.30         6.99           7.66\n",
       "Random Forest                13.31           11.98        17.63          14.78\n",
       "SVM                          12.84           17.59         8.31          12.94\n",
       "KNN                          60.24           70.43        65.64          67.98\n",
       "Gradient Boosting            20.74           27.26        13.52          20.40"
      ]
     },
     "metadata": {},
     "output_type": "display_data"
    },
    {
     "name": "stdout",
     "output_type": "stream",
     "text": [
      "% Difference ensemble vs tabular model:\n"
     ]
    },
    {
     "data": {
      "text/html": [
       "<div>\n",
       "<style scoped>\n",
       "    .dataframe tbody tr th:only-of-type {\n",
       "        vertical-align: middle;\n",
       "    }\n",
       "\n",
       "    .dataframe tbody tr th {\n",
       "        vertical-align: top;\n",
       "    }\n",
       "\n",
       "    .dataframe thead th {\n",
       "        text-align: right;\n",
       "    }\n",
       "</style>\n",
       "<table border=\"1\" class=\"dataframe\">\n",
       "  <thead>\n",
       "    <tr style=\"text-align: right;\">\n",
       "      <th></th>\n",
       "      <th>Test Accuracy</th>\n",
       "      <th>Test Precision</th>\n",
       "      <th>Test Recall</th>\n",
       "      <th>Test F1-Score</th>\n",
       "    </tr>\n",
       "    <tr>\n",
       "      <th>Model</th>\n",
       "      <th></th>\n",
       "      <th></th>\n",
       "      <th></th>\n",
       "      <th></th>\n",
       "    </tr>\n",
       "  </thead>\n",
       "  <tbody>\n",
       "    <tr>\n",
       "      <th>Logistic Regression</th>\n",
       "      <td>-2.41</td>\n",
       "      <td>-3.37</td>\n",
       "      <td>-1.55</td>\n",
       "      <td>-2.48</td>\n",
       "    </tr>\n",
       "    <tr>\n",
       "      <th>Random Forest</th>\n",
       "      <td>0.11</td>\n",
       "      <td>0.01</td>\n",
       "      <td>0.22</td>\n",
       "      <td>0.12</td>\n",
       "    </tr>\n",
       "    <tr>\n",
       "      <th>SVM</th>\n",
       "      <td>-0.52</td>\n",
       "      <td>-0.46</td>\n",
       "      <td>-0.67</td>\n",
       "      <td>-0.57</td>\n",
       "    </tr>\n",
       "    <tr>\n",
       "      <th>KNN</th>\n",
       "      <td>-0.63</td>\n",
       "      <td>1.58</td>\n",
       "      <td>-3.16</td>\n",
       "      <td>-0.84</td>\n",
       "    </tr>\n",
       "    <tr>\n",
       "      <th>Gradient Boosting</th>\n",
       "      <td>-0.52</td>\n",
       "      <td>-0.66</td>\n",
       "      <td>-0.45</td>\n",
       "      <td>-0.55</td>\n",
       "    </tr>\n",
       "  </tbody>\n",
       "</table>\n",
       "</div>"
      ],
      "text/plain": [
       "                     Test Accuracy  Test Precision  Test Recall  Test F1-Score\n",
       "Model                                                                         \n",
       "Logistic Regression          -2.41           -3.37        -1.55          -2.48\n",
       "Random Forest                 0.11            0.01         0.22           0.12\n",
       "SVM                          -0.52           -0.46        -0.67          -0.57\n",
       "KNN                          -0.63            1.58        -3.16          -0.84\n",
       "Gradient Boosting            -0.52           -0.66        -0.45          -0.55"
      ]
     },
     "metadata": {},
     "output_type": "display_data"
    },
    {
     "name": "stdout",
     "output_type": "stream",
     "text": [
      "\n",
      "Processing Model: deepseek-llm (Model 8/8)\n",
      "Train shapes - Text: (4000, 10000), Tab: (4000, 4), Label: (4000,)\n",
      "Test shapes  - Text: (1000, 10000), Tab: (1000, 4), Label: (1000,)\n",
      "\n",
      "Ensemble Results:\n"
     ]
    },
    {
     "data": {
      "text/html": [
       "<div>\n",
       "<style scoped>\n",
       "    .dataframe tbody tr th:only-of-type {\n",
       "        vertical-align: middle;\n",
       "    }\n",
       "\n",
       "    .dataframe tbody tr th {\n",
       "        vertical-align: top;\n",
       "    }\n",
       "\n",
       "    .dataframe thead th {\n",
       "        text-align: right;\n",
       "    }\n",
       "</style>\n",
       "<table border=\"1\" class=\"dataframe\">\n",
       "  <thead>\n",
       "    <tr style=\"text-align: right;\">\n",
       "      <th></th>\n",
       "      <th>Test Accuracy</th>\n",
       "      <th>Test Precision</th>\n",
       "      <th>Test Recall</th>\n",
       "      <th>Test F1-Score</th>\n",
       "    </tr>\n",
       "    <tr>\n",
       "      <th>Model</th>\n",
       "      <th></th>\n",
       "      <th></th>\n",
       "      <th></th>\n",
       "      <th></th>\n",
       "    </tr>\n",
       "  </thead>\n",
       "  <tbody>\n",
       "    <tr>\n",
       "      <th>Logistic Regression</th>\n",
       "      <td>0.869</td>\n",
       "      <td>0.850932</td>\n",
       "      <td>0.874468</td>\n",
       "      <td>0.862539</td>\n",
       "    </tr>\n",
       "    <tr>\n",
       "      <th>Random Forest</th>\n",
       "      <td>0.868</td>\n",
       "      <td>0.816479</td>\n",
       "      <td>0.927660</td>\n",
       "      <td>0.868526</td>\n",
       "    </tr>\n",
       "    <tr>\n",
       "      <th>SVM</th>\n",
       "      <td>0.881</td>\n",
       "      <td>0.846154</td>\n",
       "      <td>0.912766</td>\n",
       "      <td>0.878199</td>\n",
       "    </tr>\n",
       "    <tr>\n",
       "      <th>KNN</th>\n",
       "      <td>0.777</td>\n",
       "      <td>0.845938</td>\n",
       "      <td>0.642553</td>\n",
       "      <td>0.730351</td>\n",
       "    </tr>\n",
       "    <tr>\n",
       "      <th>Gradient Boosting</th>\n",
       "      <td>0.887</td>\n",
       "      <td>0.838710</td>\n",
       "      <td>0.940426</td>\n",
       "      <td>0.886660</td>\n",
       "    </tr>\n",
       "  </tbody>\n",
       "</table>\n",
       "</div>"
      ],
      "text/plain": [
       "                     Test Accuracy  Test Precision  Test Recall  Test F1-Score\n",
       "Model                                                                         \n",
       "Logistic Regression          0.869        0.850932     0.874468       0.862539\n",
       "Random Forest                0.868        0.816479     0.927660       0.868526\n",
       "SVM                          0.881        0.846154     0.912766       0.878199\n",
       "KNN                          0.777        0.845938     0.642553       0.730351\n",
       "Gradient Boosting            0.887        0.838710     0.940426       0.886660"
      ]
     },
     "metadata": {},
     "output_type": "display_data"
    },
    {
     "name": "stdout",
     "output_type": "stream",
     "text": [
      "% Difference ensemble vs textual model:\n"
     ]
    },
    {
     "data": {
      "text/html": [
       "<div>\n",
       "<style scoped>\n",
       "    .dataframe tbody tr th:only-of-type {\n",
       "        vertical-align: middle;\n",
       "    }\n",
       "\n",
       "    .dataframe tbody tr th {\n",
       "        vertical-align: top;\n",
       "    }\n",
       "\n",
       "    .dataframe thead th {\n",
       "        text-align: right;\n",
       "    }\n",
       "</style>\n",
       "<table border=\"1\" class=\"dataframe\">\n",
       "  <thead>\n",
       "    <tr style=\"text-align: right;\">\n",
       "      <th></th>\n",
       "      <th>Test Accuracy</th>\n",
       "      <th>Test Precision</th>\n",
       "      <th>Test Recall</th>\n",
       "      <th>Test F1-Score</th>\n",
       "    </tr>\n",
       "    <tr>\n",
       "      <th>Model</th>\n",
       "      <th></th>\n",
       "      <th></th>\n",
       "      <th></th>\n",
       "      <th></th>\n",
       "    </tr>\n",
       "  </thead>\n",
       "  <tbody>\n",
       "    <tr>\n",
       "      <th>Logistic Regression</th>\n",
       "      <td>0.35</td>\n",
       "      <td>1.29</td>\n",
       "      <td>-0.96</td>\n",
       "      <td>0.18</td>\n",
       "    </tr>\n",
       "    <tr>\n",
       "      <th>Random Forest</th>\n",
       "      <td>4.08</td>\n",
       "      <td>-2.02</td>\n",
       "      <td>14.74</td>\n",
       "      <td>5.82</td>\n",
       "    </tr>\n",
       "    <tr>\n",
       "      <th>SVM</th>\n",
       "      <td>4.76</td>\n",
       "      <td>4.89</td>\n",
       "      <td>4.89</td>\n",
       "      <td>4.89</td>\n",
       "    </tr>\n",
       "    <tr>\n",
       "      <th>KNN</th>\n",
       "      <td>32.59</td>\n",
       "      <td>50.90</td>\n",
       "      <td>16.60</td>\n",
       "      <td>31.41</td>\n",
       "    </tr>\n",
       "    <tr>\n",
       "      <th>Gradient Boosting</th>\n",
       "      <td>12.85</td>\n",
       "      <td>12.97</td>\n",
       "      <td>12.76</td>\n",
       "      <td>12.87</td>\n",
       "    </tr>\n",
       "  </tbody>\n",
       "</table>\n",
       "</div>"
      ],
      "text/plain": [
       "                     Test Accuracy  Test Precision  Test Recall  Test F1-Score\n",
       "Model                                                                         \n",
       "Logistic Regression           0.35            1.29        -0.96           0.18\n",
       "Random Forest                 4.08           -2.02        14.74           5.82\n",
       "SVM                           4.76            4.89         4.89           4.89\n",
       "KNN                          32.59           50.90        16.60          31.41\n",
       "Gradient Boosting            12.85           12.97        12.76          12.87"
      ]
     },
     "metadata": {},
     "output_type": "display_data"
    },
    {
     "name": "stdout",
     "output_type": "stream",
     "text": [
      "% Difference ensemble vs tabular model:\n"
     ]
    },
    {
     "data": {
      "text/html": [
       "<div>\n",
       "<style scoped>\n",
       "    .dataframe tbody tr th:only-of-type {\n",
       "        vertical-align: middle;\n",
       "    }\n",
       "\n",
       "    .dataframe tbody tr th {\n",
       "        vertical-align: top;\n",
       "    }\n",
       "\n",
       "    .dataframe thead th {\n",
       "        text-align: right;\n",
       "    }\n",
       "</style>\n",
       "<table border=\"1\" class=\"dataframe\">\n",
       "  <thead>\n",
       "    <tr style=\"text-align: right;\">\n",
       "      <th></th>\n",
       "      <th>Test Accuracy</th>\n",
       "      <th>Test Precision</th>\n",
       "      <th>Test Recall</th>\n",
       "      <th>Test F1-Score</th>\n",
       "    </tr>\n",
       "    <tr>\n",
       "      <th>Model</th>\n",
       "      <th></th>\n",
       "      <th></th>\n",
       "      <th></th>\n",
       "      <th></th>\n",
       "    </tr>\n",
       "  </thead>\n",
       "  <tbody>\n",
       "    <tr>\n",
       "      <th>Logistic Regression</th>\n",
       "      <td>26.68</td>\n",
       "      <td>24.88</td>\n",
       "      <td>40.27</td>\n",
       "      <td>32.47</td>\n",
       "    </tr>\n",
       "    <tr>\n",
       "      <th>Random Forest</th>\n",
       "      <td>3.58</td>\n",
       "      <td>5.08</td>\n",
       "      <td>0.93</td>\n",
       "      <td>3.14</td>\n",
       "    </tr>\n",
       "    <tr>\n",
       "      <th>SVM</th>\n",
       "      <td>13.09</td>\n",
       "      <td>20.12</td>\n",
       "      <td>0.00</td>\n",
       "      <td>10.44</td>\n",
       "    </tr>\n",
       "    <tr>\n",
       "      <th>KNN</th>\n",
       "      <td>4.30</td>\n",
       "      <td>5.15</td>\n",
       "      <td>6.34</td>\n",
       "      <td>5.82</td>\n",
       "    </tr>\n",
       "    <tr>\n",
       "      <th>Gradient Boosting</th>\n",
       "      <td>5.97</td>\n",
       "      <td>8.69</td>\n",
       "      <td>1.38</td>\n",
       "      <td>5.24</td>\n",
       "    </tr>\n",
       "  </tbody>\n",
       "</table>\n",
       "</div>"
      ],
      "text/plain": [
       "                     Test Accuracy  Test Precision  Test Recall  Test F1-Score\n",
       "Model                                                                         \n",
       "Logistic Regression          26.68           24.88        40.27          32.47\n",
       "Random Forest                 3.58            5.08         0.93           3.14\n",
       "SVM                          13.09           20.12         0.00          10.44\n",
       "KNN                           4.30            5.15         6.34           5.82\n",
       "Gradient Boosting             5.97            8.69         1.38           5.24"
      ]
     },
     "metadata": {},
     "output_type": "display_data"
    },
    {
     "name": "stdout",
     "output_type": "stream",
     "text": [
      "\n"
     ]
    }
   ],
   "source": [
    "# For each LLM\n",
    "for index, model in enumerate(models):\n",
    "    print(\"Processing Model: \" + model + \" (Model \" + str(index + 1) + \"/\" + str(len(models)) + \")\")\n",
    "\n",
    "    # Generate the data split\n",
    "    X_train_text, X_train_tab, y_train, X_test_text, X_test_tab, y_test = experimental_setup(df, model)\n",
    "\n",
    "    # Evaluate models with multiple metrics and print results\n",
    "    # This also has the effect of training the models in ml_models\n",
    "    textual_results = evaluate_models_with_metrics(ml_models, X_train_text, y_train, X_test_text, y_test)\n",
    "    textual_models = deepcopy(ml_models) # Save the list of trained models\n",
    "        \n",
    "    tabular_results = evaluate_models_with_metrics(ml_models, X_train_tab, y_train, X_test_tab, y_test)\n",
    "    tabular_models = deepcopy(ml_models) # Save the list of trained models\n",
    "\n",
    "    # We will store the results of the ensemble method\n",
    "    ensemble_results_lst = []\n",
    "    \n",
    "    # Loop over the tabular and textual ml models to make ensemble models\n",
    "    for ml_model_tabular, ml_model_textual in zip(tabular_models, textual_models):\n",
    "        ensemble_results_lst.append(evaluate_ensemble_model(ml_model_textual, ml_model_tabular))\n",
    "\n",
    "    ensemble_results = pd.DataFrame(ensemble_results_lst).set_index(\"Model\")\n",
    "\n",
    "    # Calculate percentage difference tables\n",
    "    text_diff_pct = (100 * (ensemble_results - textual_results) / textual_results).round(2)\n",
    "    tab_diff_pct = (100 * (ensemble_results - tabular_results) / tabular_results).round(2)\n",
    "    \n",
    "    # Display all results\n",
    "    print(\"Ensemble Results:\")\n",
    "    display(ensemble_results)\n",
    "    print(\"% Difference ensemble vs textual model:\")\n",
    "    display(text_diff_pct)\n",
    "    print(\"% Difference ensemble vs tabular model:\")\n",
    "    display(tab_diff_pct)\n",
    "    print()"
   ]
  },
  {
   "cell_type": "code",
   "execution_count": null,
   "id": "4c1adc2b-388e-4802-8c1a-32357869e4ac",
   "metadata": {},
   "outputs": [],
   "source": []
  }
 ],
 "metadata": {
  "kernelspec": {
   "display_name": "Python 3 (ipykernel)",
   "language": "python",
   "name": "python3"
  },
  "language_info": {
   "codemirror_mode": {
    "name": "ipython",
    "version": 3
   },
   "file_extension": ".py",
   "mimetype": "text/x-python",
   "name": "python",
   "nbconvert_exporter": "python",
   "pygments_lexer": "ipython3",
   "version": "3.12.7"
  }
 },
 "nbformat": 4,
 "nbformat_minor": 5
}
