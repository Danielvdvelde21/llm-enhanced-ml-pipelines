{
 "cells": [
  {
   "cell_type": "markdown",
   "id": "82c2d0a8-0489-4267-8856-6dbe0b9b9493",
   "metadata": {},
   "source": [
    "# Imports"
   ]
  },
  {
   "cell_type": "code",
   "execution_count": 2,
   "id": "1d56717c-1b32-42e1-a366-a98a834db0e8",
   "metadata": {},
   "outputs": [],
   "source": [
    "import pandas as pd\n",
    "import os\n",
    "\n",
    "from sklearn.model_selection import train_test_split\n",
    "\n",
    "from sklearn.linear_model import LogisticRegression\n",
    "from sklearn.ensemble import RandomForestClassifier\n",
    "from sklearn.metrics import accuracy_score\n",
    "\n",
    "import shap\n",
    "\n",
    "import ollama"
   ]
  },
  {
   "cell_type": "code",
   "execution_count": 3,
   "id": "3fa0e3ef-d289-4890-875a-560ca760333b",
   "metadata": {},
   "outputs": [],
   "source": [
    "# CSV file names\n",
    "base_data_prep_name = \"tabular_data_preprocessed_2025_04_03.csv\""
   ]
  },
  {
   "cell_type": "code",
   "execution_count": 4,
   "id": "2a4c9f27-3863-4fed-867a-486b1bae0e01",
   "metadata": {},
   "outputs": [],
   "source": [
    "# Force CUDA usage\n",
    "os.environ[\"OLLAMA_BACKEND\"] = \"cuda\"\n",
    "os.environ[\"OLLAMA_NUM_THREADS\"] = \"16\""
   ]
  },
  {
   "cell_type": "markdown",
   "id": "79e5565f-983b-4a68-86b9-7f4a28babb16",
   "metadata": {},
   "source": [
    "# Load Data"
   ]
  },
  {
   "cell_type": "code",
   "execution_count": 6,
   "id": "1f4aa81b-687e-4896-82b7-eb01a7b4e326",
   "metadata": {},
   "outputs": [],
   "source": [
    "# Load data\n",
    "data = pd.read_csv(base_data_prep_name)\n",
    "X = data.drop(columns=[\"income\"])\n",
    "y = data[\"income\"]                "
   ]
  },
  {
   "cell_type": "markdown",
   "id": "501f5f8b-2fcb-4860-b9f0-fed684b0b84e",
   "metadata": {},
   "source": [
    "# Demonstration LLM explainability / interpreability"
   ]
  },
  {
   "cell_type": "markdown",
   "id": "d47ccfc4-55ab-4c80-afb7-b292ba4bcdc9",
   "metadata": {},
   "source": [
    "### Set up train test set and learn models "
   ]
  },
  {
   "cell_type": "code",
   "execution_count": 9,
   "id": "998f5372-0630-4628-802d-0a06ec376cc2",
   "metadata": {},
   "outputs": [],
   "source": [
    "# Split data\n",
    "X_train, X_test, y_train, y_test = train_test_split(X, y, test_size=0.2, random_state=42)\n",
    "\n",
    "# Train models\n",
    "lr = LogisticRegression().fit(X_train, y_train)\n",
    "rf = RandomForestClassifier().fit(X_train, y_train)"
   ]
  },
  {
   "cell_type": "markdown",
   "id": "4313760e-c336-43af-b53a-0c42b9904d02",
   "metadata": {},
   "source": [
    "### Model performance"
   ]
  },
  {
   "cell_type": "code",
   "execution_count": 11,
   "id": "24182ee3-a89e-431d-a310-1737df5cc73b",
   "metadata": {},
   "outputs": [
    {
     "name": "stdout",
     "output_type": "stream",
     "text": [
      "LR Accuracy: 0.8417442931722796\n",
      "RF Accuracy: 0.8485003582761798\n"
     ]
    }
   ],
   "source": [
    "print(\"LR Accuracy:\", accuracy_score(y_test, lr.predict(X_test)))\n",
    "print(\"RF Accuracy:\", accuracy_score(y_test, rf.predict(X_test)))"
   ]
  },
  {
   "cell_type": "markdown",
   "id": "7bb3f335-51dc-4227-aa9a-a1ec2965f35f",
   "metadata": {},
   "source": [
    "## Extract model weights"
   ]
  },
  {
   "cell_type": "code",
   "execution_count": 13,
   "id": "97c107ae-09e3-42c3-99fb-e2310a05b6f9",
   "metadata": {},
   "outputs": [],
   "source": [
    "# Logistic Regression coefficients\n",
    "lr_weights = pd.DataFrame({\n",
    "    \"Feature\": X.columns,\n",
    "    \"Weight\": lr.coef_[0]\n",
    "}).sort_values(\"Weight\", ascending=False)\n",
    "\n",
    "# Random Forest importances\n",
    "rf_importances = pd.DataFrame({\n",
    "    \"Feature\": X.columns,\n",
    "    \"Importance\": rf.feature_importances_\n",
    "}).sort_values(\"Importance\", ascending=False)"
   ]
  },
  {
   "cell_type": "markdown",
   "id": "ffd1ee29-f66a-4e7c-89e6-b2051fce8171",
   "metadata": {},
   "source": [
    "## Explain model"
   ]
  },
  {
   "cell_type": "code",
   "execution_count": 15,
   "id": "ccab48a8-49bc-4b59-8ad2-42887bbd8c41",
   "metadata": {},
   "outputs": [
    {
     "name": "stdout",
     "output_type": "stream",
     "text": [
      "Prompt:\n",
      "\n",
      "Explain the following logistic regression weights for predicting income: \n",
      "                                 Feature    Weight\n",
      "4                           capital_gain  2.321662\n",
      "14     marital_status_married_civ_spouse  1.163453\n",
      "2                          education_num  0.907675\n",
      "6                         hours_per_week  0.364210\n",
      "23                              sex_male  0.329260\n",
      "0                                    age  0.309664\n",
      "5                           capital_loss  0.271564\n",
      "8             relationship_not_in_family  0.261162\n",
      "12                     relationship_wife  0.225362\n",
      "22                            race_white  0.164979\n",
      "11                relationship_unmarried  0.124523\n",
      "13      marital_status_married_af_spouse  0.071284\n",
      "19               race_asian_pac_islander  0.066926\n",
      "20                            race_black  0.062537\n",
      "3                             occupation  0.058830\n",
      "7                         native_country  0.044228\n",
      "18                marital_status_widowed  0.013017\n",
      "21                            race_other  0.010816\n",
      "15  marital_status_married_spouse_absent -0.003943\n",
      "17              marital_status_separated -0.022629\n",
      "1                              workclass -0.071616\n",
      "9            relationship_other_relative -0.083581\n",
      "16          marital_status_never_married -0.209410\n",
      "10                relationship_own_child -0.215164.\n",
      "Highlight the top 5 most impactful features and their likely relationship with income.\n",
      "\n",
      "\n",
      "Explanation\n",
      " The logistic regression weights provided represent the relative importance of each feature (or independent variable) in predicting the income level (the dependent variable). Here are the top 5 most impactful features and their likely relationship with income:\n",
      "\n",
      "1. capital_gain: A higher weight (+2.321662) indicates that an increase in capital gain is associated with a higher income. This could be due to profits from investments or selling assets, which contribute to one's earnings.\n",
      "\n",
      "2. education_num: A moderate positive weight (+0.907675) suggests that more years of education are likely linked to higher income levels. Education often equips individuals with skills and knowledge needed in the job market, making them more employable and potentially earning a higher salary.\n",
      "\n",
      "3. hours_per_week: A slight positive weight (+0.364210) implies that working more hours might lead to an increase in income. This could be due to overtime, part-time jobs, or self-employment activities where the individual puts in extra time and effort to earn additional income.\n",
      "\n",
      "4. sex_male: A positive weight (+0.329260) suggests that on average, men may have higher incomes than women. This is often due to gender disparities in income distribution, such as occupational segregation or wage gaps.\n",
      "\n",
      "5. age: A weak positive weight (+0.309664) indicates that as individuals get older, they might experience income growth. Older workers generally have more work experience and may advance in their careers, leading to increased earning potential.\n",
      "\n",
      "The remaining features, such as marital status, occupation, race, native country, relationship status, and work class, also play a role in predicting income but with smaller weights. These factors might influence earnings by shaping employment opportunities or determining access to certain benefits and resources. For example, married individuals or those in specific races/ethnicities may have more stable jobs or higher-paying careers compared to others. However, the exact relationships between these features and income will depend on the specific context and dataset analyzed.\n"
     ]
    }
   ],
   "source": [
    "# Explain Logistic Regression weights\n",
    "lr_prompt = f\"\"\"\n",
    "Explain the following logistic regression weights for predicting income: \n",
    "{lr_weights.to_string()}.\n",
    "Highlight the top 5 most impactful features and their likely relationship with income.\n",
    "\"\"\"\n",
    "\n",
    "print(\"Prompt:\")\n",
    "print(lr_prompt)\n",
    "print()\n",
    "\n",
    "lr_explanation = ollama.generate(model=\"mistral\",prompt=lr_prompt)['response']\n",
    "print(\"Explanation\")\n",
    "print(lr_explanation)"
   ]
  },
  {
   "cell_type": "code",
   "execution_count": 16,
   "id": "22c4bdab-ce9d-4589-aebd-f491f94845d3",
   "metadata": {},
   "outputs": [
    {
     "name": "stdout",
     "output_type": "stream",
     "text": [
      "Prompt:\n",
      "\n",
      "Explain these Random Forest feature importances for income prediction:\n",
      "                                 Feature  Importance\n",
      "0                                    age    0.218619\n",
      "2                          education_num    0.136656\n",
      "4                           capital_gain    0.118766\n",
      "6                         hours_per_week    0.110285\n",
      "14     marital_status_married_civ_spouse    0.108251\n",
      "3                             occupation    0.082486\n",
      "1                              workclass    0.047641\n",
      "5                           capital_loss    0.041683\n",
      "16          marital_status_never_married    0.035012\n",
      "7                         native_country    0.020166\n",
      "23                              sex_male    0.017234\n",
      "8             relationship_not_in_family    0.016482\n",
      "12                     relationship_wife    0.008734\n",
      "10                relationship_own_child    0.008513\n",
      "11                relationship_unmarried    0.007261\n",
      "22                            race_white    0.005595\n",
      "20                            race_black    0.003951\n",
      "19               race_asian_pac_islander    0.003072\n",
      "9            relationship_other_relative    0.002519\n",
      "17              marital_status_separated    0.002434\n",
      "18                marital_status_widowed    0.002039\n",
      "15  marital_status_married_spouse_absent    0.001190\n",
      "21                            race_other    0.001003\n",
      "13      marital_status_married_af_spouse    0.000411.\n",
      "Compare the top 5 features to the logistic regression results.\n",
      "\n",
      "\n",
      "Explanation:\n",
      " In this Random Forest model for income prediction, the feature importances indicate the relative importance of each feature in predicting the target variable (income). Here are the top 5 most important features:\n",
      "\n",
      "1. age (0.2186) - Higher age seems to have a relatively stronger impact on income prediction. This might be due to factors like more experience, higher education levels, or longer time for accumulating wealth.\n",
      "\n",
      "2. education_num (0.1367) - The number of education years is the second most important feature, suggesting that education level plays a significant role in determining income.\n",
      "\n",
      "3. capital_gain (0.1188) - Capital gains from financial investments can impact income significantly, making it the third-most important feature in this model.\n",
      "\n",
      "4. hours_per_week (0.1103) - The number of working hours per week is also crucial for predicting income, indicating that employment duration and effort can have a considerable influence on earnings.\n",
      "\n",
      "5. marital_status_married_civ_spouse (0.1083) - Marital status with civilian spouse is the fifth most important feature, suggesting that family or marital situation may impact income levels to some extent.\n",
      "\n",
      "To compare these results with a logistic regression model, you would need to examine its feature importances. However, it's essential to keep in mind that models can vary significantly depending on the data and their underlying assumptions. Both Random Forest and Logistic Regression have different strengths and weaknesses, and they might highlight different features as important. To gain a comprehensive understanding of the predictors of income, you could consider building multiple machine learning models and analyzing their results together.\n"
     ]
    }
   ],
   "source": [
    "# Explain Random Forest importances\n",
    "rf_prompt = f\"\"\"\n",
    "Explain these Random Forest feature importances for income prediction:\n",
    "{rf_importances.to_string()}.\n",
    "Compare the top 5 features to the logistic regression results.\n",
    "\"\"\"\n",
    "\n",
    "print(\"Prompt:\")\n",
    "print(rf_prompt)\n",
    "print()\n",
    "\n",
    "rf_explanation = ollama.generate(model=\"mistral\",prompt=rf_prompt)['response']\n",
    "print(\"Explanation:\")\n",
    "print(rf_explanation)"
   ]
  },
  {
   "cell_type": "markdown",
   "id": "c577c9bb-5de6-4762-8e85-ba2467b60120",
   "metadata": {},
   "source": [
    "# Explaing individual rows \n",
    "We use shapley values as well as class prediction probabilities to provide a natural explanation"
   ]
  },
  {
   "cell_type": "markdown",
   "id": "fec34184-73d9-41a7-a451-1a300ac0c862",
   "metadata": {},
   "source": [
    "### Our sample with with its values, label and shapley values"
   ]
  },
  {
   "cell_type": "code",
   "execution_count": 19,
   "id": "6659f979-8099-43ec-851d-0ebac6090dd8",
   "metadata": {},
   "outputs": [
    {
     "data": {
      "text/html": [
       "<div>\n",
       "<style scoped>\n",
       "    .dataframe tbody tr th:only-of-type {\n",
       "        vertical-align: middle;\n",
       "    }\n",
       "\n",
       "    .dataframe tbody tr th {\n",
       "        vertical-align: top;\n",
       "    }\n",
       "\n",
       "    .dataframe thead th {\n",
       "        text-align: right;\n",
       "    }\n",
       "</style>\n",
       "<table border=\"1\" class=\"dataframe\">\n",
       "  <thead>\n",
       "    <tr style=\"text-align: right;\">\n",
       "      <th></th>\n",
       "      <th>age</th>\n",
       "      <th>workclass</th>\n",
       "      <th>education_num</th>\n",
       "      <th>occupation</th>\n",
       "      <th>capital_gain</th>\n",
       "      <th>capital_loss</th>\n",
       "      <th>hours_per_week</th>\n",
       "      <th>native_country</th>\n",
       "      <th>relationship_not_in_family</th>\n",
       "      <th>relationship_other_relative</th>\n",
       "      <th>...</th>\n",
       "      <th>marital_status_married_civ_spouse</th>\n",
       "      <th>marital_status_married_spouse_absent</th>\n",
       "      <th>marital_status_never_married</th>\n",
       "      <th>marital_status_separated</th>\n",
       "      <th>marital_status_widowed</th>\n",
       "      <th>race_asian_pac_islander</th>\n",
       "      <th>race_black</th>\n",
       "      <th>race_other</th>\n",
       "      <th>race_white</th>\n",
       "      <th>sex_male</th>\n",
       "    </tr>\n",
       "  </thead>\n",
       "  <tbody>\n",
       "    <tr>\n",
       "      <th>7762</th>\n",
       "      <td>-1.505691</td>\n",
       "      <td>0.088484</td>\n",
       "      <td>-0.419335</td>\n",
       "      <td>0.336204</td>\n",
       "      <td>-0.144804</td>\n",
       "      <td>-0.217127</td>\n",
       "      <td>-1.64812</td>\n",
       "      <td>0.289462</td>\n",
       "      <td>1.697524</td>\n",
       "      <td>-0.178368</td>\n",
       "      <td>...</td>\n",
       "      <td>-0.919604</td>\n",
       "      <td>-0.114128</td>\n",
       "      <td>1.424944</td>\n",
       "      <td>-0.179829</td>\n",
       "      <td>-0.1791</td>\n",
       "      <td>-0.179161</td>\n",
       "      <td>-0.325728</td>\n",
       "      <td>-0.091554</td>\n",
       "      <td>0.411743</td>\n",
       "      <td>0.70422</td>\n",
       "    </tr>\n",
       "  </tbody>\n",
       "</table>\n",
       "<p>1 rows × 24 columns</p>\n",
       "</div>"
      ],
      "text/plain": [
       "           age  workclass  education_num  occupation  capital_gain  \\\n",
       "7762 -1.505691   0.088484      -0.419335    0.336204     -0.144804   \n",
       "\n",
       "      capital_loss  hours_per_week  native_country  \\\n",
       "7762     -0.217127        -1.64812        0.289462   \n",
       "\n",
       "      relationship_not_in_family  relationship_other_relative  ...  \\\n",
       "7762                    1.697524                    -0.178368  ...   \n",
       "\n",
       "      marital_status_married_civ_spouse  marital_status_married_spouse_absent  \\\n",
       "7762                          -0.919604                             -0.114128   \n",
       "\n",
       "      marital_status_never_married  marital_status_separated  \\\n",
       "7762                      1.424944                 -0.179829   \n",
       "\n",
       "      marital_status_widowed  race_asian_pac_islander  race_black  race_other  \\\n",
       "7762                 -0.1791                -0.179161   -0.325728   -0.091554   \n",
       "\n",
       "      race_white  sex_male  \n",
       "7762    0.411743   0.70422  \n",
       "\n",
       "[1 rows x 24 columns]"
      ]
     },
     "metadata": {},
     "output_type": "display_data"
    },
    {
     "name": "stdout",
     "output_type": "stream",
     "text": [
      "\n",
      "Target:\n"
     ]
    },
    {
     "data": {
      "text/plain": [
       "7762    0\n",
       "Name: income, dtype: int64"
      ]
     },
     "metadata": {},
     "output_type": "display_data"
    },
    {
     "name": "stdout",
     "output_type": "stream",
     "text": [
      "\n",
      "Shapley values:\n",
      "[[-4.75664132e-01 -1.46733139e-03 -3.10684818e-01  2.18329447e-02\n",
      "  -4.39785804e-02 -4.98517962e-02 -5.96370295e-01  1.36520322e-02\n",
      "   4.47883632e-01  1.45049350e-02  1.12897068e-01 -2.03162052e-02\n",
      "  -7.39986118e-02 -2.47315504e-19 -1.12084008e+00  3.49971541e-04\n",
      "  -2.76121484e-01  6.49514621e-03  3.61297052e-19 -1.15663668e-02\n",
      "  -1.27416633e-02 -1.19126690e-03  5.15475497e-02  1.95838589e-01]]\n"
     ]
    }
   ],
   "source": [
    "# Initialize SHAP explainer\n",
    "explainer_lr = shap.LinearExplainer(lr, X_train)\n",
    "\n",
    "# Sample\n",
    "sample = X_test.iloc[0:1] \n",
    "sample_target = y_test.iloc[0:1] \n",
    "display(sample)\n",
    "print()\n",
    "print(\"Target:\")\n",
    "display(sample_target)\n",
    "\n",
    "# Get SHAP values\n",
    "shap_values_lr = explainer_lr.shap_values(sample)\n",
    "print(\"\\nShapley values:\")\n",
    "print(shap_values_lr)"
   ]
  },
  {
   "cell_type": "markdown",
   "id": "6398c47a-a9ca-468a-b317-937a82165885",
   "metadata": {},
   "source": [
    "### Class prediction deails "
   ]
  },
  {
   "cell_type": "code",
   "execution_count": 21,
   "id": "c24f4a4f-9b29-4410-a492-43b603570882",
   "metadata": {},
   "outputs": [
    {
     "name": "stdout",
     "output_type": "stream",
     "text": [
      "Predicted class: 0\n",
      "Model probability: 99%\n"
     ]
    }
   ],
   "source": [
    "# Get prediction details\n",
    "pred_prob = lr.predict_proba(sample)[0][0] # Class 0 (earning less than 50k dollars per year)\n",
    "pred_class = lr.predict(sample)[0]\n",
    "\n",
    "print(\"Predicted class: \" + str(pred_class))\n",
    "print(\"Model probability: \" + str(round(pred_prob * 100)) + \"%\")"
   ]
  },
  {
   "cell_type": "markdown",
   "id": "6253b9c2-081c-4912-9e7c-48de7754f8e4",
   "metadata": {},
   "source": [
    "### NLG Preperation"
   ]
  },
  {
   "cell_type": "code",
   "execution_count": 23,
   "id": "55f51814-f629-4b5e-9711-d4c9e39115d2",
   "metadata": {},
   "outputs": [],
   "source": [
    "# Get feature names and SHAP values\n",
    "feature_names = X_train.columns.tolist()\n",
    "shap_values = shap_values_lr[0]\n",
    "\n",
    "# Create a list of (feature_name, shap_value) pairs and sort by absolute value\n",
    "feature_importance = sorted(zip(feature_names, shap_values), key=lambda x: abs(x[1]), reverse=True)\n",
    "\n",
    "# Generate the prompt\n",
    "prompt = f\"\"\"\n",
    "I'm analyzing a machine learning model's prediction using SHAP values.\n",
    "Explain why the logistic regression model predicted income class = {pred_class} \n",
    "(probability: {pred_prob:.2f}) for this individual:\n",
    "\n",
    "Individual details:\n",
    "- Features: {sample.to_dict('records')[0]}\n",
    "- Actual target value: {sample_target.values[0]}\n",
    "\n",
    "The top 10 features influencing this prediction, based on Shapley values, are:\n",
    "\"\"\"\n",
    "\n",
    "# Add each feature's contribution\n",
    "for i, (feature, value) in enumerate(feature_importance[:10], 1):\n",
    "    direction = \"increased\" if value > 0 else \"decreased\"\n",
    "    prompt += f\"{i}. {feature}: {value:.4f} (this feature {direction} the prediction)\\n\""
   ]
  },
  {
   "cell_type": "code",
   "execution_count": 24,
   "id": "87b8a5fe-96cc-4500-bf5d-bc7c1c91d498",
   "metadata": {},
   "outputs": [
    {
     "name": "stdout",
     "output_type": "stream",
     "text": [
      "\n",
      "I'm analyzing a machine learning model's prediction using SHAP values.\n",
      "Explain why the logistic regression model predicted income class = 0 \n",
      "(probability: 0.99) for this individual:\n",
      "\n",
      "Individual details:\n",
      "- Features: {'age': -1.5056913908365146, 'workclass': 0.088484476319535, 'education_num': -0.4193352748208159, 'occupation': 0.33620420122783, 'capital_gain': -0.144803531037397, 'capital_loss': -0.2171270991958307, 'hours_per_week': -1.6481203808733793, 'native_country': 0.2894622051340574, 'relationship_not_in_family': 1.697523568963296, 'relationship_other_relative': -0.1783679035251107, 'relationship_own_child': -0.4286406685819893, 'relationship_unmarried': -0.3423905416697579, 'relationship_wife': -0.2238686592220623, 'marital_status_married_af_spouse': -0.0275339616688154, 'marital_status_married_civ_spouse': -0.9196038900884226, 'marital_status_married_spouse_absent': -0.1141282715716187, 'marital_status_never_married': 1.424943762639813, 'marital_status_separated': -0.1798291377086112, 'marital_status_widowed': -0.1790998255936658, 'race_asian_pac_islander': -0.1791607008447243, 'race_black': -0.3257279436875361, 'race_other': -0.0915543284696277, 'race_white': 0.4117427722876319, 'sex_male': 0.7042204861467246}\n",
      "- Actual target value: 0\n",
      "\n",
      "The top 10 features influencing this prediction, based on Shapley values, are:\n",
      "1. marital_status_married_civ_spouse: -1.1208 (this feature decreased the prediction)\n",
      "2. hours_per_week: -0.5964 (this feature decreased the prediction)\n",
      "3. age: -0.4757 (this feature decreased the prediction)\n",
      "4. relationship_not_in_family: 0.4479 (this feature increased the prediction)\n",
      "5. education_num: -0.3107 (this feature decreased the prediction)\n",
      "6. marital_status_never_married: -0.2761 (this feature decreased the prediction)\n",
      "7. sex_male: 0.1958 (this feature increased the prediction)\n",
      "8. relationship_own_child: 0.1129 (this feature increased the prediction)\n",
      "9. relationship_wife: -0.0740 (this feature decreased the prediction)\n",
      "10. race_white: 0.0515 (this feature increased the prediction)\n",
      "\n"
     ]
    }
   ],
   "source": [
    "print(prompt)"
   ]
  },
  {
   "cell_type": "markdown",
   "id": "92c1314b-9d60-48ca-a46a-57b6faed98eb",
   "metadata": {},
   "source": [
    "### Prompt LLM to explain the prediction"
   ]
  },
  {
   "cell_type": "code",
   "execution_count": 26,
   "id": "f71eb7c8-f83d-4d59-8a74-52f0587e1078",
   "metadata": {},
   "outputs": [
    {
     "name": "stdout",
     "output_type": "stream",
     "text": [
      "SHAP Explanation for Logistic Regression:\n",
      " The logistic regression model predicted income class = 0 (probability: 0.99) for this individual based on the input features and the coefficients learned during training. To understand why this prediction was made, we can focus on the top 10 Shapley values that influenced this prediction.\n",
      "\n",
      "The top five features that decreased the prediction are 'marital_status_married_civ_spouse', 'hours_per_week', 'age', 'education_num', and 'marital_status_never_married'. These features had negative Shapley values, which means they contributed negatively to the prediction.\n",
      "\n",
      "1. Marital status married civil spouse (marital_status_married_civ_spouse) had the most significant impact with a Shapley value of -1.1208. Being married to a civilian spouse decreased the predicted probability of income class = 0, as this feature negatively influenced the prediction.\n",
      "\n",
      "2. Hours per week (hours_per_week) also contributed negatively to the prediction with a Shapley value of -0.5964. Lower hours worked in a week decreased the predicted probability of income class = 0.\n",
      "\n",
      "3. Age (age) had a moderate negative impact on the prediction with a Shapley value of -0.4757. A lower age decreased the predicted probability of income class = 0, as this feature negatively influenced the prediction.\n",
      "\n",
      "4. Education number (education_num) and marital status never married (marital_status_never_married) had slightly negative impacts on the prediction with Shapley values of -0.3107 and -0.2761, respectively. Lower education level and being unmarried decreased the predicted probability of income class = 0.\n",
      "\n",
      "The remaining top five features that increased the prediction are 'relationship not in family', 'sex_male', 'relationship_own_child', 'race_white', and 'relationship_wife'. These features had positive Shapley values, which means they contributed positively to the prediction.\n",
      "\n",
      "1. Relationship not in family (relationship_not_in_family) increased the predicted probability of income class = 0 with a Shapley value of 0.4479. Being not part of the family increased the prediction.\n",
      "\n",
      "2. Sex male (sex_male) had a moderate positive impact on the prediction with a Shapley value of 0.1958. Male gender increased the predicted probability of income class = 0.\n",
      "\n",
      "3. Relationship own child (relationship_own_child) contributed positively to the prediction with a Shapley value of 0.1129. Having own children increased the predicted probability of income class = 0.\n",
      "\n",
      "4. Race white (race_white) and relationship wife (relationship_wife) had slight positive impacts on the prediction with Shapley values of 0.0515 and -0.0740, respectively. Being Caucasian increased the predicted probability of income class = 0, while being in a marriage did not have as significant an effect (due to having a slightly negative value), but it still contributed positively to the prediction.\n",
      "\n",
      "Overall, based on these Shapley values, we can say that the logistic regression model predicted income class = 0 for this individual because of their marital status, hours per week worked, age, education level, and marital status history, as well as their gender, family relationship, race, and being an adult child or spouse.\n"
     ]
    }
   ],
   "source": [
    "sample_explanation = ollama.generate(model=\"mistral\", prompt=prompt)['response']\n",
    "\n",
    "print(\"SHAP Explanation for Logistic Regression:\")\n",
    "print(sample_explanation)"
   ]
  },
  {
   "cell_type": "code",
   "execution_count": null,
   "id": "5e32dd05-6783-42dd-bd78-7250abbfeeec",
   "metadata": {},
   "outputs": [],
   "source": []
  }
 ],
 "metadata": {
  "kernelspec": {
   "display_name": "Python 3 (ipykernel)",
   "language": "python",
   "name": "python3"
  },
  "language_info": {
   "codemirror_mode": {
    "name": "ipython",
    "version": 3
   },
   "file_extension": ".py",
   "mimetype": "text/x-python",
   "name": "python",
   "nbconvert_exporter": "python",
   "pygments_lexer": "ipython3",
   "version": "3.12.3"
  }
 },
 "nbformat": 4,
 "nbformat_minor": 5
}
