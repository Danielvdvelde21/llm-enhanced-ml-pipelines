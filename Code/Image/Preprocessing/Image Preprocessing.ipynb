{
 "cells": [
  {
   "cell_type": "markdown",
   "id": "420a29a8-299e-40e1-a74e-1582d18d83fc",
   "metadata": {},
   "source": [
    "# Imports"
   ]
  },
  {
   "cell_type": "code",
   "execution_count": 1,
   "id": "82983fac-5b01-4856-b440-abbcf7104c19",
   "metadata": {},
   "outputs": [],
   "source": [
    "import os\n",
    "import pandas as pd\n",
    "import numpy as np\n",
    "import cv2\n",
    "\n",
    "import matplotlib.pyplot as plt\n",
    "import seaborn as sns\n",
    "\n",
    "from collections import Counter\n",
    "\n",
    "from sklearn.preprocessing import StandardScaler\n",
    "\n",
    "import datetime"
   ]
  },
  {
   "cell_type": "markdown",
   "id": "090bdb00-4a1f-4d9b-b80e-226d6ae20a8a",
   "metadata": {},
   "source": [
    "# Tabular data"
   ]
  },
  {
   "cell_type": "markdown",
   "id": "64e5db77-3c7a-48e9-9d23-4467010bec55",
   "metadata": {},
   "source": [
    "## Load data"
   ]
  },
  {
   "cell_type": "code",
   "execution_count": 2,
   "id": "aa649f70-a2fe-46df-8f6b-c08485679fdb",
   "metadata": {},
   "outputs": [
    {
     "data": {
      "text/html": [
       "<div>\n",
       "<style scoped>\n",
       "    .dataframe tbody tr th:only-of-type {\n",
       "        vertical-align: middle;\n",
       "    }\n",
       "\n",
       "    .dataframe tbody tr th {\n",
       "        vertical-align: top;\n",
       "    }\n",
       "\n",
       "    .dataframe thead th {\n",
       "        text-align: right;\n",
       "    }\n",
       "</style>\n",
       "<table border=\"1\" class=\"dataframe\">\n",
       "  <thead>\n",
       "    <tr style=\"text-align: right;\">\n",
       "      <th></th>\n",
       "      <th>image_id</th>\n",
       "      <th>street</th>\n",
       "      <th>citi</th>\n",
       "      <th>n_citi</th>\n",
       "      <th>bed</th>\n",
       "      <th>bath</th>\n",
       "      <th>sqft</th>\n",
       "      <th>price</th>\n",
       "    </tr>\n",
       "  </thead>\n",
       "  <tbody>\n",
       "    <tr>\n",
       "      <th>0</th>\n",
       "      <td>0</td>\n",
       "      <td>1317 Van Buren Avenue</td>\n",
       "      <td>Salton City, CA</td>\n",
       "      <td>317</td>\n",
       "      <td>3</td>\n",
       "      <td>2.0</td>\n",
       "      <td>1560</td>\n",
       "      <td>201900</td>\n",
       "    </tr>\n",
       "    <tr>\n",
       "      <th>1</th>\n",
       "      <td>1</td>\n",
       "      <td>124 C Street W</td>\n",
       "      <td>Brawley, CA</td>\n",
       "      <td>48</td>\n",
       "      <td>3</td>\n",
       "      <td>2.0</td>\n",
       "      <td>713</td>\n",
       "      <td>228500</td>\n",
       "    </tr>\n",
       "    <tr>\n",
       "      <th>2</th>\n",
       "      <td>2</td>\n",
       "      <td>2304 Clark Road</td>\n",
       "      <td>Imperial, CA</td>\n",
       "      <td>152</td>\n",
       "      <td>3</td>\n",
       "      <td>1.0</td>\n",
       "      <td>800</td>\n",
       "      <td>273950</td>\n",
       "    </tr>\n",
       "    <tr>\n",
       "      <th>3</th>\n",
       "      <td>3</td>\n",
       "      <td>755 Brawley Avenue</td>\n",
       "      <td>Brawley, CA</td>\n",
       "      <td>48</td>\n",
       "      <td>3</td>\n",
       "      <td>1.0</td>\n",
       "      <td>1082</td>\n",
       "      <td>350000</td>\n",
       "    </tr>\n",
       "    <tr>\n",
       "      <th>4</th>\n",
       "      <td>4</td>\n",
       "      <td>2207 R Carrillo Court</td>\n",
       "      <td>Calexico, CA</td>\n",
       "      <td>55</td>\n",
       "      <td>4</td>\n",
       "      <td>3.0</td>\n",
       "      <td>2547</td>\n",
       "      <td>385100</td>\n",
       "    </tr>\n",
       "  </tbody>\n",
       "</table>\n",
       "</div>"
      ],
      "text/plain": [
       "   image_id                 street             citi  n_citi  bed  bath  sqft  \\\n",
       "0         0  1317 Van Buren Avenue  Salton City, CA     317    3   2.0  1560   \n",
       "1         1         124 C Street W      Brawley, CA      48    3   2.0   713   \n",
       "2         2        2304 Clark Road     Imperial, CA     152    3   1.0   800   \n",
       "3         3     755 Brawley Avenue      Brawley, CA      48    3   1.0  1082   \n",
       "4         4  2207 R Carrillo Court     Calexico, CA      55    4   3.0  2547   \n",
       "\n",
       "    price  \n",
       "0  201900  \n",
       "1  228500  \n",
       "2  273950  \n",
       "3  350000  \n",
       "4  385100  "
      ]
     },
     "execution_count": 2,
     "metadata": {},
     "output_type": "execute_result"
    }
   ],
   "source": [
    "# Load the Excel file\n",
    "file_path = 'houses.csv' \n",
    "df = pd.read_csv(file_path)\n",
    "\n",
    "# Display the first few rows of the data\n",
    "df.head()"
   ]
  },
  {
   "cell_type": "markdown",
   "id": "240a948a-24ce-49d4-b997-abfb89e7b386",
   "metadata": {},
   "source": [
    "## Preprocessing"
   ]
  },
  {
   "cell_type": "markdown",
   "id": "d05e0161-eca8-4b30-a0d2-ac125f9db4c9",
   "metadata": {},
   "source": [
    "### Drop useless columns"
   ]
  },
  {
   "cell_type": "code",
   "execution_count": 3,
   "id": "e8f3aaa1-691c-4317-a785-eec8119f1b5e",
   "metadata": {},
   "outputs": [],
   "source": [
    "df = df.drop(columns=['street', 'citi'])"
   ]
  },
  {
   "cell_type": "code",
   "execution_count": 4,
   "id": "df543e1c-7d4d-443d-bea7-12fe17c9c03a",
   "metadata": {},
   "outputs": [
    {
     "data": {
      "text/html": [
       "<div>\n",
       "<style scoped>\n",
       "    .dataframe tbody tr th:only-of-type {\n",
       "        vertical-align: middle;\n",
       "    }\n",
       "\n",
       "    .dataframe tbody tr th {\n",
       "        vertical-align: top;\n",
       "    }\n",
       "\n",
       "    .dataframe thead th {\n",
       "        text-align: right;\n",
       "    }\n",
       "</style>\n",
       "<table border=\"1\" class=\"dataframe\">\n",
       "  <thead>\n",
       "    <tr style=\"text-align: right;\">\n",
       "      <th></th>\n",
       "      <th>image_id</th>\n",
       "      <th>n_citi</th>\n",
       "      <th>bed</th>\n",
       "      <th>bath</th>\n",
       "      <th>sqft</th>\n",
       "      <th>price</th>\n",
       "    </tr>\n",
       "  </thead>\n",
       "  <tbody>\n",
       "    <tr>\n",
       "      <th>0</th>\n",
       "      <td>0</td>\n",
       "      <td>317</td>\n",
       "      <td>3</td>\n",
       "      <td>2.0</td>\n",
       "      <td>1560</td>\n",
       "      <td>201900</td>\n",
       "    </tr>\n",
       "    <tr>\n",
       "      <th>1</th>\n",
       "      <td>1</td>\n",
       "      <td>48</td>\n",
       "      <td>3</td>\n",
       "      <td>2.0</td>\n",
       "      <td>713</td>\n",
       "      <td>228500</td>\n",
       "    </tr>\n",
       "    <tr>\n",
       "      <th>2</th>\n",
       "      <td>2</td>\n",
       "      <td>152</td>\n",
       "      <td>3</td>\n",
       "      <td>1.0</td>\n",
       "      <td>800</td>\n",
       "      <td>273950</td>\n",
       "    </tr>\n",
       "    <tr>\n",
       "      <th>3</th>\n",
       "      <td>3</td>\n",
       "      <td>48</td>\n",
       "      <td>3</td>\n",
       "      <td>1.0</td>\n",
       "      <td>1082</td>\n",
       "      <td>350000</td>\n",
       "    </tr>\n",
       "    <tr>\n",
       "      <th>4</th>\n",
       "      <td>4</td>\n",
       "      <td>55</td>\n",
       "      <td>4</td>\n",
       "      <td>3.0</td>\n",
       "      <td>2547</td>\n",
       "      <td>385100</td>\n",
       "    </tr>\n",
       "  </tbody>\n",
       "</table>\n",
       "</div>"
      ],
      "text/plain": [
       "   image_id  n_citi  bed  bath  sqft   price\n",
       "0         0     317    3   2.0  1560  201900\n",
       "1         1      48    3   2.0   713  228500\n",
       "2         2     152    3   1.0   800  273950\n",
       "3         3      48    3   1.0  1082  350000\n",
       "4         4      55    4   3.0  2547  385100"
      ]
     },
     "execution_count": 4,
     "metadata": {},
     "output_type": "execute_result"
    }
   ],
   "source": [
    "df.head()"
   ]
  },
  {
   "cell_type": "markdown",
   "id": "21a16ec4-6ec0-4db8-90c1-20b2f72061cc",
   "metadata": {},
   "source": [
    "### Scale features"
   ]
  },
  {
   "cell_type": "code",
   "execution_count": 5,
   "id": "867011c5-2b4a-4d19-80d4-fb0bf4345a75",
   "metadata": {},
   "outputs": [
    {
     "data": {
      "text/html": [
       "<div>\n",
       "<style scoped>\n",
       "    .dataframe tbody tr th:only-of-type {\n",
       "        vertical-align: middle;\n",
       "    }\n",
       "\n",
       "    .dataframe tbody tr th {\n",
       "        vertical-align: top;\n",
       "    }\n",
       "\n",
       "    .dataframe thead th {\n",
       "        text-align: right;\n",
       "    }\n",
       "</style>\n",
       "<table border=\"1\" class=\"dataframe\">\n",
       "  <thead>\n",
       "    <tr style=\"text-align: right;\">\n",
       "      <th></th>\n",
       "      <th>image_id</th>\n",
       "      <th>n_citi</th>\n",
       "      <th>bed</th>\n",
       "      <th>bath</th>\n",
       "      <th>sqft</th>\n",
       "      <th>price</th>\n",
       "    </tr>\n",
       "  </thead>\n",
       "  <tbody>\n",
       "    <tr>\n",
       "      <th>0</th>\n",
       "      <td>0</td>\n",
       "      <td>0.893504</td>\n",
       "      <td>-0.489366</td>\n",
       "      <td>-0.472771</td>\n",
       "      <td>-0.598761</td>\n",
       "      <td>201900</td>\n",
       "    </tr>\n",
       "    <tr>\n",
       "      <th>1</th>\n",
       "      <td>1</td>\n",
       "      <td>-1.500387</td>\n",
       "      <td>-0.489366</td>\n",
       "      <td>-0.472771</td>\n",
       "      <td>-1.424855</td>\n",
       "      <td>228500</td>\n",
       "    </tr>\n",
       "    <tr>\n",
       "      <th>2</th>\n",
       "      <td>2</td>\n",
       "      <td>-0.574868</td>\n",
       "      <td>-0.489366</td>\n",
       "      <td>-1.515838</td>\n",
       "      <td>-1.340002</td>\n",
       "      <td>273950</td>\n",
       "    </tr>\n",
       "    <tr>\n",
       "      <th>3</th>\n",
       "      <td>3</td>\n",
       "      <td>-1.500387</td>\n",
       "      <td>-0.489366</td>\n",
       "      <td>-1.515838</td>\n",
       "      <td>-1.064963</td>\n",
       "      <td>350000</td>\n",
       "    </tr>\n",
       "    <tr>\n",
       "      <th>4</th>\n",
       "      <td>4</td>\n",
       "      <td>-1.438092</td>\n",
       "      <td>0.477001</td>\n",
       "      <td>0.570296</td>\n",
       "      <td>0.363878</td>\n",
       "      <td>385100</td>\n",
       "    </tr>\n",
       "  </tbody>\n",
       "</table>\n",
       "</div>"
      ],
      "text/plain": [
       "   image_id    n_citi       bed      bath      sqft   price\n",
       "0         0  0.893504 -0.489366 -0.472771 -0.598761  201900\n",
       "1         1 -1.500387 -0.489366 -0.472771 -1.424855  228500\n",
       "2         2 -0.574868 -0.489366 -1.515838 -1.340002  273950\n",
       "3         3 -1.500387 -0.489366 -1.515838 -1.064963  350000\n",
       "4         4 -1.438092  0.477001  0.570296  0.363878  385100"
      ]
     },
     "execution_count": 5,
     "metadata": {},
     "output_type": "execute_result"
    }
   ],
   "source": [
    "# Identify the tabular features to scale\n",
    "tabular_features = ['n_citi', 'bed', 'bath', 'sqft']\n",
    "\n",
    "# StandardScaler for standardization (mean=0, std=1)\n",
    "scaler = StandardScaler()\n",
    "\n",
    "# Fit and transform the tabular features\n",
    "df[tabular_features] = scaler.fit_transform(df[tabular_features])\n",
    "df.head()"
   ]
  },
  {
   "cell_type": "markdown",
   "id": "4230138a-b3d2-45a5-82cb-d50babb7a2d1",
   "metadata": {},
   "source": [
    "### Plotting"
   ]
  },
  {
   "cell_type": "code",
   "execution_count": 6,
   "id": "f4bc6691-11f2-4330-9d7d-891f9f194a42",
   "metadata": {},
   "outputs": [
    {
     "data": {
      "image/png": "[encoded data removed]",
      "text/plain": [
       "<Figure size 1200x400 with 1 Axes>"
      ]
     },
     "metadata": {},
     "output_type": "display_data"
    }
   ],
   "source": [
    "plt.figure(figsize=(12, 4))\n",
    "ax = sns.histplot(data=df, x='price', bins=30)\n",
    "plt.title('Price Distribution')\n",
    "plt.xlabel('Price ($)')\n",
    "plt.ylabel('Count')\n",
    "plt.grid(True)\n",
    "\n",
    "# Force plain numeric labels\n",
    "ax.get_xaxis().set_major_formatter(plt.FuncFormatter(lambda x, p: format(int(x), ',')))"
   ]
  },
  {
   "cell_type": "markdown",
   "id": "8e0183fa-0c97-4ab5-86b3-f6155740749c",
   "metadata": {},
   "source": [
    "# Image data"
   ]
  },
  {
   "cell_type": "code",
   "execution_count": 7,
   "id": "6f6b6f37-27ea-4c9b-a4d5-41938797a6c8",
   "metadata": {},
   "outputs": [
    {
     "name": "stdout",
     "output_type": "stream",
     "text": [
      "15474\n"
     ]
    }
   ],
   "source": [
    "images = []\n",
    "\n",
    "# The table has refrences to the image names\n",
    "for index, row in df.iterrows():\n",
    "    image_id = int(round(row['image_id']))\n",
    "    image = cv2.imread('houses/' + str(image_id) + '.jpg')\n",
    "    images.append((image_id, image))\n",
    "    \n",
    "print(len(images))"
   ]
  },
  {
   "cell_type": "markdown",
   "id": "15d7e7f5-5724-45e7-a803-bb3c9a373981",
   "metadata": {},
   "source": [
    "## Dealing with varying shapes"
   ]
  },
  {
   "cell_type": "markdown",
   "id": "a5b3481a-6080-44cd-a0d5-43269e404e08",
   "metadata": {},
   "source": [
    "### Value counts"
   ]
  },
  {
   "cell_type": "code",
   "execution_count": 8,
   "id": "f95af50b-4f9b-4147-8d69-8bd10149c271",
   "metadata": {},
   "outputs": [
    {
     "name": "stdout",
     "output_type": "stream",
     "text": [
      "Shape: (350, 350, 3), Count: 170\n",
      "Shape: (311, 415, 3), Count: 15297\n",
      "Shape: (350, 525, 3), Count: 7\n"
     ]
    }
   ],
   "source": [
    "# Count occurrences of each shape\n",
    "shape_counts = Counter(image[1].shape for image in images)\n",
    "\n",
    "# Print each unique shape and its count\n",
    "for shape, count in shape_counts.items():\n",
    "    print(f\"Shape: {shape}, Count: {count}\")"
   ]
  },
  {
   "cell_type": "markdown",
   "id": "26726595-2eff-42f5-a19a-14a02a90fb6b",
   "metadata": {},
   "source": [
    "### Drop images that don't match the target shape"
   ]
  },
  {
   "cell_type": "code",
   "execution_count": 9,
   "id": "f6537fd0-f944-4807-b6d2-d814fa7ba771",
   "metadata": {
    "scrolled": true
   },
   "outputs": [],
   "source": [
    "# Target shape\n",
    "target_shape = (311, 415, 3)\n",
    "\n",
    "# List to store images\n",
    "images_to_keep = []\n",
    "\n",
    "# Drop images that don't match the target shape (from df and from images list)\n",
    "for image_index, image in images:\n",
    "    if image.shape == target_shape: \n",
    "        images_to_keep.append((image_index, image))\n",
    "    else:\n",
    "        df = df[df['image_id'] != image_index]\n",
    "\n",
    "# Update the images list to only keep valid ones\n",
    "images = images_to_keep"
   ]
  },
  {
   "cell_type": "markdown",
   "id": "facaef22-64ad-4c01-99f4-e6c83ad1d0a4",
   "metadata": {},
   "source": [
    "### Value counts"
   ]
  },
  {
   "cell_type": "code",
   "execution_count": 10,
   "id": "d24cfd31-881b-43c2-94b3-769473f88761",
   "metadata": {},
   "outputs": [
    {
     "name": "stdout",
     "output_type": "stream",
     "text": [
      "Shape: (311, 415, 3), Count: 15297\n",
      "Df: 15297\n"
     ]
    }
   ],
   "source": [
    "# Count occurrences of each shape\n",
    "shape_counts = Counter(image[1].shape for image in images)\n",
    "\n",
    "# Print each unique shape and its count\n",
    "for shape, count in shape_counts.items():\n",
    "    print(f\"Shape: {shape}, Count: {count}\")\n",
    "\n",
    "print(\"Df:\", df.shape[0])"
   ]
  },
  {
   "cell_type": "code",
   "execution_count": 11,
   "id": "d81c19da-c3aa-408b-8fd1-6ff3e95b95f6",
   "metadata": {},
   "outputs": [],
   "source": [
    "assert df.shape[0] == count"
   ]
  },
  {
   "cell_type": "markdown",
   "id": "fde648a7-d692-47b4-9b18-047d79238e44",
   "metadata": {},
   "source": [
    "# Changing image_id column for ease of access"
   ]
  },
  {
   "cell_type": "code",
   "execution_count": 12,
   "id": "49d62221-4cba-484e-a73a-c108d2810641",
   "metadata": {},
   "outputs": [
    {
     "data": {
      "text/plain": [
       "1    houses_preprocessed/1.jpg\n",
       "2    houses_preprocessed/2.jpg\n",
       "3    houses_preprocessed/3.jpg\n",
       "4    houses_preprocessed/4.jpg\n",
       "5    houses_preprocessed/5.jpg\n",
       "Name: image, dtype: object"
      ]
     },
     "execution_count": 12,
     "metadata": {},
     "output_type": "execute_result"
    }
   ],
   "source": [
    "df['image'] = \"houses_preprocessed/\" + df['image_id'].astype(str) + \".jpg\"\n",
    "df = df.drop(\"image_id\", axis=1)\n",
    "df['image'].head()"
   ]
  },
  {
   "cell_type": "markdown",
   "id": "d1cc4849-b3dc-4275-a7b3-29d6e840fec6",
   "metadata": {},
   "source": [
    "# Saving Data"
   ]
  },
  {
   "cell_type": "markdown",
   "id": "ce9e10d9-5a7a-4416-8bf8-d848d1054f21",
   "metadata": {},
   "source": [
    "### Save tabular data"
   ]
  },
  {
   "cell_type": "code",
   "execution_count": 13,
   "id": "dd77c7cb-6c06-403b-8cd0-e76fe0190c3c",
   "metadata": {},
   "outputs": [],
   "source": [
    "df.to_csv('houses_preprocessed.csv', index=False)"
   ]
  },
  {
   "cell_type": "markdown",
   "id": "b6ef2098-50be-45b6-8ae3-91874c0dfddb",
   "metadata": {},
   "source": [
    "### Save image data"
   ]
  },
  {
   "cell_type": "code",
   "execution_count": 14,
   "id": "eb219fb5-26a2-4e0b-a1fc-94c9a7f24e8a",
   "metadata": {},
   "outputs": [],
   "source": [
    "# Create the directory if it doesn't exist\n",
    "os.makedirs(\"houses_preprocessed\", exist_ok=True)\n",
    "\n",
    "# Save each image with its index as the filename\n",
    "for image_index, image in images:\n",
    "    filename = f\"houses_preprocessed/{image_index}.jpg\"\n",
    "    cv2.imwrite(filename, image) "
   ]
  }
 ],
 "metadata": {
  "kernelspec": {
   "display_name": "Python 3 (ipykernel)",
   "language": "python",
   "name": "python3"
  },
  "language_info": {
   "codemirror_mode": {
    "name": "ipython",
    "version": 3
   },
   "file_extension": ".py",
   "mimetype": "text/x-python",
   "name": "python",
   "nbconvert_exporter": "python",
   "pygments_lexer": "ipython3",
   "version": "3.12.7"
  }
 },
 "nbformat": 4,
 "nbformat_minor": 5
}
